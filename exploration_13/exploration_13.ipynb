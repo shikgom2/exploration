{
 "cells": [
  {
   "cell_type": "code",
   "execution_count": 175,
   "id": "cbf003d6",
   "metadata": {},
   "outputs": [],
   "source": [
    "import numpy as np\n",
    "import scipy\n",
    "import implicit"
   ]
  },
  {
   "cell_type": "code",
   "execution_count": 176,
   "id": "ac52765c",
   "metadata": {},
   "outputs": [
    {
     "data": {
      "text/html": [
       "<div>\n",
       "<style scoped>\n",
       "    .dataframe tbody tr th:only-of-type {\n",
       "        vertical-align: middle;\n",
       "    }\n",
       "\n",
       "    .dataframe tbody tr th {\n",
       "        vertical-align: top;\n",
       "    }\n",
       "\n",
       "    .dataframe thead th {\n",
       "        text-align: right;\n",
       "    }\n",
       "</style>\n",
       "<table border=\"1\" class=\"dataframe\">\n",
       "  <thead>\n",
       "    <tr style=\"text-align: right;\">\n",
       "      <th></th>\n",
       "      <th>user_id</th>\n",
       "      <th>movie_id</th>\n",
       "      <th>ratings</th>\n",
       "      <th>timestamp</th>\n",
       "    </tr>\n",
       "  </thead>\n",
       "  <tbody>\n",
       "    <tr>\n",
       "      <th>0</th>\n",
       "      <td>1</td>\n",
       "      <td>1193</td>\n",
       "      <td>5</td>\n",
       "      <td>978300760</td>\n",
       "    </tr>\n",
       "    <tr>\n",
       "      <th>1</th>\n",
       "      <td>1</td>\n",
       "      <td>661</td>\n",
       "      <td>3</td>\n",
       "      <td>978302109</td>\n",
       "    </tr>\n",
       "    <tr>\n",
       "      <th>2</th>\n",
       "      <td>1</td>\n",
       "      <td>914</td>\n",
       "      <td>3</td>\n",
       "      <td>978301968</td>\n",
       "    </tr>\n",
       "    <tr>\n",
       "      <th>3</th>\n",
       "      <td>1</td>\n",
       "      <td>3408</td>\n",
       "      <td>4</td>\n",
       "      <td>978300275</td>\n",
       "    </tr>\n",
       "    <tr>\n",
       "      <th>4</th>\n",
       "      <td>1</td>\n",
       "      <td>2355</td>\n",
       "      <td>5</td>\n",
       "      <td>978824291</td>\n",
       "    </tr>\n",
       "  </tbody>\n",
       "</table>\n",
       "</div>"
      ],
      "text/plain": [
       "   user_id  movie_id  ratings  timestamp\n",
       "0        1      1193        5  978300760\n",
       "1        1       661        3  978302109\n",
       "2        1       914        3  978301968\n",
       "3        1      3408        4  978300275\n",
       "4        1      2355        5  978824291"
      ]
     },
     "execution_count": 176,
     "metadata": {},
     "output_type": "execute_result"
    }
   ],
   "source": [
    "#Load data\n",
    "import os\n",
    "import pandas as pd\n",
    "rating_file_path=os.getenv('HOME') + '/aiffel/recommendata_iu/data/ml-1m/ratings.dat'\n",
    "ratings_cols = ['user_id', 'movie_id', 'ratings', 'timestamp']\n",
    "ratings = pd.read_csv(rating_file_path, sep='::', names=ratings_cols, engine='python', encoding = \"ISO-8859-1\")\n",
    "orginal_data_size = len(ratings)\n",
    "ratings.head()"
   ]
  },
  {
   "cell_type": "code",
   "execution_count": 177,
   "id": "6b3214eb",
   "metadata": {},
   "outputs": [
    {
     "name": "stdout",
     "output_type": "stream",
     "text": [
      "orginal_data_size: 1000209, filtered_data_size: 836478\n",
      "Ratio of Remaining Data is 83.63%\n"
     ]
    }
   ],
   "source": [
    "ratings = ratings[ratings['ratings']>=3]\n",
    "filtered_data_size = len(ratings)\n",
    "\n",
    "print(f'orginal_data_size: {orginal_data_size}, filtered_data_size: {filtered_data_size}')\n",
    "print(f'Ratio of Remaining Data is {filtered_data_size / orginal_data_size:.2%}')"
   ]
  },
  {
   "cell_type": "code",
   "execution_count": 178,
   "id": "2f191b79",
   "metadata": {},
   "outputs": [],
   "source": [
    "# ratings 컬럼의 이름을 counts로 바꿉니다.\n",
    "ratings.rename(columns={'ratings':'counts'}, inplace=True)"
   ]
  },
  {
   "cell_type": "code",
   "execution_count": 179,
   "id": "c2abbc59",
   "metadata": {},
   "outputs": [
    {
     "data": {
      "text/plain": [
       "0          5\n",
       "1          3\n",
       "2          3\n",
       "3          4\n",
       "4          5\n",
       "          ..\n",
       "1000203    3\n",
       "1000205    5\n",
       "1000206    5\n",
       "1000207    4\n",
       "1000208    4\n",
       "Name: counts, Length: 836478, dtype: int64"
      ]
     },
     "execution_count": 179,
     "metadata": {},
     "output_type": "execute_result"
    }
   ],
   "source": [
    "ratings['counts']"
   ]
  },
  {
   "cell_type": "code",
   "execution_count": 180,
   "id": "b406886d",
   "metadata": {},
   "outputs": [
    {
     "data": {
      "text/plain": [
       "0          1193\n",
       "1           661\n",
       "2           914\n",
       "3          3408\n",
       "4          2355\n",
       "           ... \n",
       "1000203    1090\n",
       "1000205    1094\n",
       "1000206     562\n",
       "1000207    1096\n",
       "1000208    1097\n",
       "Name: movie_id, Length: 836478, dtype: int64"
      ]
     },
     "execution_count": 180,
     "metadata": {},
     "output_type": "execute_result"
    }
   ],
   "source": [
    "ratings['movie_id']"
   ]
  },
  {
   "cell_type": "code",
   "execution_count": 181,
   "id": "006daf0a",
   "metadata": {},
   "outputs": [
    {
     "data": {
      "text/html": [
       "<div>\n",
       "<style scoped>\n",
       "    .dataframe tbody tr th:only-of-type {\n",
       "        vertical-align: middle;\n",
       "    }\n",
       "\n",
       "    .dataframe tbody tr th {\n",
       "        vertical-align: top;\n",
       "    }\n",
       "\n",
       "    .dataframe thead th {\n",
       "        text-align: right;\n",
       "    }\n",
       "</style>\n",
       "<table border=\"1\" class=\"dataframe\">\n",
       "  <thead>\n",
       "    <tr style=\"text-align: right;\">\n",
       "      <th></th>\n",
       "      <th>movie_id</th>\n",
       "      <th>title</th>\n",
       "      <th>genre</th>\n",
       "    </tr>\n",
       "  </thead>\n",
       "  <tbody>\n",
       "    <tr>\n",
       "      <th>0</th>\n",
       "      <td>1</td>\n",
       "      <td>Toy Story (1995)</td>\n",
       "      <td>Animation|Children's|Comedy</td>\n",
       "    </tr>\n",
       "    <tr>\n",
       "      <th>1</th>\n",
       "      <td>2</td>\n",
       "      <td>Jumanji (1995)</td>\n",
       "      <td>Adventure|Children's|Fantasy</td>\n",
       "    </tr>\n",
       "    <tr>\n",
       "      <th>2</th>\n",
       "      <td>3</td>\n",
       "      <td>Grumpier Old Men (1995)</td>\n",
       "      <td>Comedy|Romance</td>\n",
       "    </tr>\n",
       "    <tr>\n",
       "      <th>3</th>\n",
       "      <td>4</td>\n",
       "      <td>Waiting to Exhale (1995)</td>\n",
       "      <td>Comedy|Drama</td>\n",
       "    </tr>\n",
       "    <tr>\n",
       "      <th>4</th>\n",
       "      <td>5</td>\n",
       "      <td>Father of the Bride Part II (1995)</td>\n",
       "      <td>Comedy</td>\n",
       "    </tr>\n",
       "  </tbody>\n",
       "</table>\n",
       "</div>"
      ],
      "text/plain": [
       "   movie_id                               title                         genre\n",
       "0         1                    Toy Story (1995)   Animation|Children's|Comedy\n",
       "1         2                      Jumanji (1995)  Adventure|Children's|Fantasy\n",
       "2         3             Grumpier Old Men (1995)                Comedy|Romance\n",
       "3         4            Waiting to Exhale (1995)                  Comedy|Drama\n",
       "4         5  Father of the Bride Part II (1995)                        Comedy"
      ]
     },
     "execution_count": 181,
     "metadata": {},
     "output_type": "execute_result"
    }
   ],
   "source": [
    "# 영화 제목을 보기 위해 메타 데이터를 읽어옵니다.\n",
    "movie_file_path=os.getenv('HOME') + '/aiffel/recommendata_iu/data/ml-1m/movies.dat'\n",
    "cols = ['movie_id', 'title', 'genre'] \n",
    "movies = pd.read_csv(movie_file_path, sep='::', names=cols, engine='python', encoding='ISO-8859-1')\n",
    "movies.head()"
   ]
  },
  {
   "cell_type": "code",
   "execution_count": 182,
   "id": "89391b08",
   "metadata": {},
   "outputs": [
    {
     "data": {
      "text/plain": [
       "3628"
      ]
     },
     "execution_count": 182,
     "metadata": {},
     "output_type": "execute_result"
    }
   ],
   "source": [
    "#ratings에 있는 유니크한 영화 개수\n",
    "ratings['movie_id'].nunique()"
   ]
  },
  {
   "cell_type": "code",
   "execution_count": 183,
   "id": "c589c452",
   "metadata": {},
   "outputs": [
    {
     "data": {
      "text/plain": [
       "6039"
      ]
     },
     "execution_count": 183,
     "metadata": {},
     "output_type": "execute_result"
    }
   ],
   "source": [
    "#ratings에 있는 유니크한 사용자 수\n",
    "ratings['user_id'].nunique()"
   ]
  },
  {
   "cell_type": "code",
   "execution_count": 184,
   "id": "4bf1cf64",
   "metadata": {},
   "outputs": [
    {
     "data": {
      "text/plain": [
       "movie_id\n",
       "2858    3211\n",
       "260     2910\n",
       "1196    2885\n",
       "1210    2716\n",
       "2028    2561\n",
       "589     2509\n",
       "593     2498\n",
       "1198    2473\n",
       "1270    2460\n",
       "2571    2434\n",
       "480     2413\n",
       "2762    2385\n",
       "608     2371\n",
       "110     2314\n",
       "1580    2297\n",
       "527     2257\n",
       "1197    2252\n",
       "2396    2213\n",
       "1617    2210\n",
       "318     2194\n",
       "858     2167\n",
       "1265    2121\n",
       "1097    2102\n",
       "2997    2066\n",
       "2716    2051\n",
       "296     2030\n",
       "356     2022\n",
       "1240    2019\n",
       "1       2000\n",
       "457     1941\n",
       "Name: user_id, dtype: int64"
      ]
     },
     "execution_count": 184,
     "metadata": {},
     "output_type": "execute_result"
    }
   ],
   "source": [
    "#가장 인기 있는 영화 30개(인기순)\n",
    "movie_count = ratings.groupby('movie_id')['user_id'].count()\n",
    "movie_count.sort_values(ascending=False).head(30)"
   ]
  },
  {
   "cell_type": "code",
   "execution_count": 185,
   "id": "cfafa4ee",
   "metadata": {},
   "outputs": [
    {
     "data": {
      "text/html": [
       "<div>\n",
       "<style scoped>\n",
       "    .dataframe tbody tr th:only-of-type {\n",
       "        vertical-align: middle;\n",
       "    }\n",
       "\n",
       "    .dataframe tbody tr th {\n",
       "        vertical-align: top;\n",
       "    }\n",
       "\n",
       "    .dataframe thead th {\n",
       "        text-align: right;\n",
       "    }\n",
       "</style>\n",
       "<table border=\"1\" class=\"dataframe\">\n",
       "  <thead>\n",
       "    <tr style=\"text-align: right;\">\n",
       "      <th></th>\n",
       "      <th>movie_id</th>\n",
       "      <th>title</th>\n",
       "      <th>genre</th>\n",
       "    </tr>\n",
       "  </thead>\n",
       "  <tbody>\n",
       "    <tr>\n",
       "      <th>2789</th>\n",
       "      <td>2858</td>\n",
       "      <td>American Beauty (1999)</td>\n",
       "      <td>Comedy|Drama</td>\n",
       "    </tr>\n",
       "  </tbody>\n",
       "</table>\n",
       "</div>"
      ],
      "text/plain": [
       "      movie_id                   title         genre\n",
       "2789      2858  American Beauty (1999)  Comedy|Drama"
      ]
     },
     "execution_count": 185,
     "metadata": {},
     "output_type": "execute_result"
    }
   ],
   "source": [
    "movies[movies['movie_id'] == 2858]"
   ]
  },
  {
   "cell_type": "code",
   "execution_count": 186,
   "id": "dd8146df",
   "metadata": {},
   "outputs": [
    {
     "data": {
      "text/html": [
       "<div>\n",
       "<style scoped>\n",
       "    .dataframe tbody tr th:only-of-type {\n",
       "        vertical-align: middle;\n",
       "    }\n",
       "\n",
       "    .dataframe tbody tr th {\n",
       "        vertical-align: top;\n",
       "    }\n",
       "\n",
       "    .dataframe thead th {\n",
       "        text-align: right;\n",
       "    }\n",
       "</style>\n",
       "<table border=\"1\" class=\"dataframe\">\n",
       "  <thead>\n",
       "    <tr style=\"text-align: right;\">\n",
       "      <th></th>\n",
       "      <th>movie_id</th>\n",
       "      <th>title</th>\n",
       "      <th>genre</th>\n",
       "    </tr>\n",
       "  </thead>\n",
       "  <tbody>\n",
       "    <tr>\n",
       "      <th>4</th>\n",
       "      <td>5</td>\n",
       "      <td>Father of the Bride Part II (1995)</td>\n",
       "      <td>Comedy</td>\n",
       "    </tr>\n",
       "    <tr>\n",
       "      <th>18</th>\n",
       "      <td>19</td>\n",
       "      <td>Ace Ventura: When Nature Calls (1995)</td>\n",
       "      <td>Comedy</td>\n",
       "    </tr>\n",
       "    <tr>\n",
       "      <th>37</th>\n",
       "      <td>38</td>\n",
       "      <td>It Takes Two (1995)</td>\n",
       "      <td>Comedy</td>\n",
       "    </tr>\n",
       "    <tr>\n",
       "      <th>51</th>\n",
       "      <td>52</td>\n",
       "      <td>Mighty Aphrodite (1995)</td>\n",
       "      <td>Comedy</td>\n",
       "    </tr>\n",
       "    <tr>\n",
       "      <th>62</th>\n",
       "      <td>63</td>\n",
       "      <td>Don't Be a Menace to South Central While Drink...</td>\n",
       "      <td>Comedy</td>\n",
       "    </tr>\n",
       "  </tbody>\n",
       "</table>\n",
       "</div>"
      ],
      "text/plain": [
       "    movie_id                                              title   genre\n",
       "4          5                 Father of the Bride Part II (1995)  Comedy\n",
       "18        19              Ace Ventura: When Nature Calls (1995)  Comedy\n",
       "37        38                                It Takes Two (1995)  Comedy\n",
       "51        52                            Mighty Aphrodite (1995)  Comedy\n",
       "62        63  Don't Be a Menace to South Central While Drink...  Comedy"
      ]
     },
     "execution_count": 186,
     "metadata": {},
     "output_type": "execute_result"
    }
   ],
   "source": [
    "#내가 선호하는 영화를 5가지 골라서 ratings에 추가해 줍시다.\n",
    "#난 Comedy를 좋아하니까 Comedy를 추가해보자.\n",
    "\n",
    "movies[movies['genre'] == 'Comedy'].head()"
   ]
  },
  {
   "cell_type": "code",
   "execution_count": 187,
   "id": "3d34f098",
   "metadata": {},
   "outputs": [
    {
     "data": {
      "text/html": [
       "<div>\n",
       "<style scoped>\n",
       "    .dataframe tbody tr th:only-of-type {\n",
       "        vertical-align: middle;\n",
       "    }\n",
       "\n",
       "    .dataframe tbody tr th {\n",
       "        vertical-align: top;\n",
       "    }\n",
       "\n",
       "    .dataframe thead th {\n",
       "        text-align: right;\n",
       "    }\n",
       "</style>\n",
       "<table border=\"1\" class=\"dataframe\">\n",
       "  <thead>\n",
       "    <tr style=\"text-align: right;\">\n",
       "      <th></th>\n",
       "      <th>user_id</th>\n",
       "      <th>movie_id</th>\n",
       "      <th>counts</th>\n",
       "      <th>timestamp</th>\n",
       "    </tr>\n",
       "  </thead>\n",
       "  <tbody>\n",
       "    <tr>\n",
       "      <th>0</th>\n",
       "      <td>1</td>\n",
       "      <td>1193</td>\n",
       "      <td>5</td>\n",
       "      <td>978300760</td>\n",
       "    </tr>\n",
       "    <tr>\n",
       "      <th>29</th>\n",
       "      <td>1</td>\n",
       "      <td>745</td>\n",
       "      <td>3</td>\n",
       "      <td>978824268</td>\n",
       "    </tr>\n",
       "    <tr>\n",
       "      <th>30</th>\n",
       "      <td>1</td>\n",
       "      <td>2294</td>\n",
       "      <td>4</td>\n",
       "      <td>978824291</td>\n",
       "    </tr>\n",
       "    <tr>\n",
       "      <th>31</th>\n",
       "      <td>1</td>\n",
       "      <td>3186</td>\n",
       "      <td>4</td>\n",
       "      <td>978300019</td>\n",
       "    </tr>\n",
       "    <tr>\n",
       "      <th>32</th>\n",
       "      <td>1</td>\n",
       "      <td>1566</td>\n",
       "      <td>4</td>\n",
       "      <td>978824330</td>\n",
       "    </tr>\n",
       "    <tr>\n",
       "      <th>...</th>\n",
       "      <td>...</td>\n",
       "      <td>...</td>\n",
       "      <td>...</td>\n",
       "      <td>...</td>\n",
       "    </tr>\n",
       "    <tr>\n",
       "      <th>999984</th>\n",
       "      <td>6040</td>\n",
       "      <td>2575</td>\n",
       "      <td>4</td>\n",
       "      <td>997453762</td>\n",
       "    </tr>\n",
       "    <tr>\n",
       "      <th>999982</th>\n",
       "      <td>6040</td>\n",
       "      <td>2571</td>\n",
       "      <td>4</td>\n",
       "      <td>997454126</td>\n",
       "    </tr>\n",
       "    <tr>\n",
       "      <th>999981</th>\n",
       "      <td>6040</td>\n",
       "      <td>1912</td>\n",
       "      <td>3</td>\n",
       "      <td>964828542</td>\n",
       "    </tr>\n",
       "    <tr>\n",
       "      <th>999989</th>\n",
       "      <td>6040</td>\n",
       "      <td>2580</td>\n",
       "      <td>4</td>\n",
       "      <td>956705056</td>\n",
       "    </tr>\n",
       "    <tr>\n",
       "      <th>1000208</th>\n",
       "      <td>6040</td>\n",
       "      <td>1097</td>\n",
       "      <td>4</td>\n",
       "      <td>956715569</td>\n",
       "    </tr>\n",
       "  </tbody>\n",
       "</table>\n",
       "<p>836478 rows × 4 columns</p>\n",
       "</div>"
      ],
      "text/plain": [
       "         user_id  movie_id  counts  timestamp\n",
       "0              1      1193       5  978300760\n",
       "29             1       745       3  978824268\n",
       "30             1      2294       4  978824291\n",
       "31             1      3186       4  978300019\n",
       "32             1      1566       4  978824330\n",
       "...          ...       ...     ...        ...\n",
       "999984      6040      2575       4  997453762\n",
       "999982      6040      2571       4  997454126\n",
       "999981      6040      1912       3  964828542\n",
       "999989      6040      2580       4  956705056\n",
       "1000208     6040      1097       4  956715569\n",
       "\n",
       "[836478 rows x 4 columns]"
      ]
     },
     "execution_count": 187,
     "metadata": {},
     "output_type": "execute_result"
    }
   ],
   "source": [
    "ratings.sort_values('user_id')\n",
    "#6040번이 끝인걸 확인하였다."
   ]
  },
  {
   "cell_type": "code",
   "execution_count": 188,
   "id": "0813e907",
   "metadata": {},
   "outputs": [
    {
     "data": {
      "text/html": [
       "<div>\n",
       "<style scoped>\n",
       "    .dataframe tbody tr th:only-of-type {\n",
       "        vertical-align: middle;\n",
       "    }\n",
       "\n",
       "    .dataframe tbody tr th {\n",
       "        vertical-align: top;\n",
       "    }\n",
       "\n",
       "    .dataframe thead th {\n",
       "        text-align: right;\n",
       "    }\n",
       "</style>\n",
       "<table border=\"1\" class=\"dataframe\">\n",
       "  <thead>\n",
       "    <tr style=\"text-align: right;\">\n",
       "      <th></th>\n",
       "      <th>user_id</th>\n",
       "      <th>movie_id</th>\n",
       "      <th>counts</th>\n",
       "      <th>timestamp</th>\n",
       "    </tr>\n",
       "  </thead>\n",
       "  <tbody>\n",
       "    <tr>\n",
       "      <th>1000203</th>\n",
       "      <td>6040</td>\n",
       "      <td>1090</td>\n",
       "      <td>3</td>\n",
       "      <td>956715518</td>\n",
       "    </tr>\n",
       "    <tr>\n",
       "      <th>1000205</th>\n",
       "      <td>6040</td>\n",
       "      <td>1094</td>\n",
       "      <td>5</td>\n",
       "      <td>956704887</td>\n",
       "    </tr>\n",
       "    <tr>\n",
       "      <th>1000206</th>\n",
       "      <td>6040</td>\n",
       "      <td>562</td>\n",
       "      <td>5</td>\n",
       "      <td>956704746</td>\n",
       "    </tr>\n",
       "    <tr>\n",
       "      <th>1000207</th>\n",
       "      <td>6040</td>\n",
       "      <td>1096</td>\n",
       "      <td>4</td>\n",
       "      <td>956715648</td>\n",
       "    </tr>\n",
       "    <tr>\n",
       "      <th>1000208</th>\n",
       "      <td>6040</td>\n",
       "      <td>1097</td>\n",
       "      <td>4</td>\n",
       "      <td>956715569</td>\n",
       "    </tr>\n",
       "    <tr>\n",
       "      <th>0</th>\n",
       "      <td>6041</td>\n",
       "      <td>5</td>\n",
       "      <td>5</td>\n",
       "      <td>997454126</td>\n",
       "    </tr>\n",
       "    <tr>\n",
       "      <th>1</th>\n",
       "      <td>6041</td>\n",
       "      <td>19</td>\n",
       "      <td>5</td>\n",
       "      <td>997454126</td>\n",
       "    </tr>\n",
       "    <tr>\n",
       "      <th>2</th>\n",
       "      <td>6041</td>\n",
       "      <td>38</td>\n",
       "      <td>5</td>\n",
       "      <td>997454126</td>\n",
       "    </tr>\n",
       "    <tr>\n",
       "      <th>3</th>\n",
       "      <td>6041</td>\n",
       "      <td>52</td>\n",
       "      <td>5</td>\n",
       "      <td>997454126</td>\n",
       "    </tr>\n",
       "    <tr>\n",
       "      <th>4</th>\n",
       "      <td>6041</td>\n",
       "      <td>63</td>\n",
       "      <td>5</td>\n",
       "      <td>997454126</td>\n",
       "    </tr>\n",
       "  </tbody>\n",
       "</table>\n",
       "</div>"
      ],
      "text/plain": [
       "         user_id  movie_id  counts  timestamp\n",
       "1000203     6040      1090       3  956715518\n",
       "1000205     6040      1094       5  956704887\n",
       "1000206     6040       562       5  956704746\n",
       "1000207     6040      1096       4  956715648\n",
       "1000208     6040      1097       4  956715569\n",
       "0           6041         5       5  997454126\n",
       "1           6041        19       5  997454126\n",
       "2           6041        38       5  997454126\n",
       "3           6041        52       5  997454126\n",
       "4           6041        63       5  997454126"
      ]
     },
     "execution_count": 188,
     "metadata": {},
     "output_type": "execute_result"
    }
   ],
   "source": [
    "#user_id를 6041번으로 상위 5개의 comedy를 새로 append 하였다.\n",
    "my_favorite = [5 , 19 , 38 , 52 , 63]\n",
    "my_playlist = pd.DataFrame({'user_id': [6041]*5, 'movie_id': my_favorite, 'counts':[5] * 5, 'timestamp' : 997454126})\n",
    "\n",
    "if not ratings.isin({'user_id':[6041]})['user_id'].any():  # user_id에 'zimin'이라는 데이터가 없다면\n",
    "    ratings = ratings.append(my_playlist)                           # 위에 임의로 만든 my_favorite 데이터를 추가해 줍니다. \n",
    "\n",
    "ratings.tail(10)"
   ]
  },
  {
   "cell_type": "markdown",
   "id": "81c74edc",
   "metadata": {},
   "source": [
    "확인해보니까 결측값이 되게 많아서 그대로 csr Matrix을 만들면 행열이 안맞아 에러를 뱉었다.\n",
    "기존 df가 정수 인덱스라도 다시 결측값 없이 인덱싱을 해주기로 한다."
   ]
  },
  {
   "cell_type": "code",
   "execution_count": 189,
   "id": "0804347b",
   "metadata": {},
   "outputs": [],
   "source": [
    "user_unique = ratings['user_id'].unique()\n",
    "movie_unique = ratings['movie_id'].unique()\n",
    "\n",
    "user_to_idx = {v:k for k,v in enumerate(user_unique)}\n",
    "movie_to_idx = {v:k for k,v in enumerate(movie_unique)}"
   ]
  },
  {
   "cell_type": "code",
   "execution_count": 190,
   "id": "e3598f2d",
   "metadata": {},
   "outputs": [
    {
     "name": "stdout",
     "output_type": "stream",
     "text": [
      "user_id column indexing OK!!\n",
      "moivie column indexing OK!!\n"
     ]
    },
    {
     "data": {
      "text/html": [
       "<div>\n",
       "<style scoped>\n",
       "    .dataframe tbody tr th:only-of-type {\n",
       "        vertical-align: middle;\n",
       "    }\n",
       "\n",
       "    .dataframe tbody tr th {\n",
       "        vertical-align: top;\n",
       "    }\n",
       "\n",
       "    .dataframe thead th {\n",
       "        text-align: right;\n",
       "    }\n",
       "</style>\n",
       "<table border=\"1\" class=\"dataframe\">\n",
       "  <thead>\n",
       "    <tr style=\"text-align: right;\">\n",
       "      <th></th>\n",
       "      <th>user_id</th>\n",
       "      <th>movie_id</th>\n",
       "      <th>counts</th>\n",
       "      <th>timestamp</th>\n",
       "    </tr>\n",
       "  </thead>\n",
       "  <tbody>\n",
       "    <tr>\n",
       "      <th>0</th>\n",
       "      <td>0</td>\n",
       "      <td>0</td>\n",
       "      <td>5</td>\n",
       "      <td>978300760</td>\n",
       "    </tr>\n",
       "    <tr>\n",
       "      <th>1</th>\n",
       "      <td>0</td>\n",
       "      <td>1</td>\n",
       "      <td>3</td>\n",
       "      <td>978302109</td>\n",
       "    </tr>\n",
       "    <tr>\n",
       "      <th>2</th>\n",
       "      <td>0</td>\n",
       "      <td>2</td>\n",
       "      <td>3</td>\n",
       "      <td>978301968</td>\n",
       "    </tr>\n",
       "    <tr>\n",
       "      <th>3</th>\n",
       "      <td>0</td>\n",
       "      <td>3</td>\n",
       "      <td>4</td>\n",
       "      <td>978300275</td>\n",
       "    </tr>\n",
       "    <tr>\n",
       "      <th>4</th>\n",
       "      <td>0</td>\n",
       "      <td>4</td>\n",
       "      <td>5</td>\n",
       "      <td>978824291</td>\n",
       "    </tr>\n",
       "    <tr>\n",
       "      <th>...</th>\n",
       "      <td>...</td>\n",
       "      <td>...</td>\n",
       "      <td>...</td>\n",
       "      <td>...</td>\n",
       "    </tr>\n",
       "    <tr>\n",
       "      <th>0</th>\n",
       "      <td>6039</td>\n",
       "      <td>1180</td>\n",
       "      <td>5</td>\n",
       "      <td>997454126</td>\n",
       "    </tr>\n",
       "    <tr>\n",
       "      <th>1</th>\n",
       "      <td>6039</td>\n",
       "      <td>2010</td>\n",
       "      <td>5</td>\n",
       "      <td>997454126</td>\n",
       "    </tr>\n",
       "    <tr>\n",
       "      <th>2</th>\n",
       "      <td>6039</td>\n",
       "      <td>3360</td>\n",
       "      <td>5</td>\n",
       "      <td>997454126</td>\n",
       "    </tr>\n",
       "    <tr>\n",
       "      <th>3</th>\n",
       "      <td>6039</td>\n",
       "      <td>1128</td>\n",
       "      <td>5</td>\n",
       "      <td>997454126</td>\n",
       "    </tr>\n",
       "    <tr>\n",
       "      <th>4</th>\n",
       "      <td>6039</td>\n",
       "      <td>2066</td>\n",
       "      <td>5</td>\n",
       "      <td>997454126</td>\n",
       "    </tr>\n",
       "  </tbody>\n",
       "</table>\n",
       "<p>836483 rows × 4 columns</p>\n",
       "</div>"
      ],
      "text/plain": [
       "    user_id  movie_id  counts  timestamp\n",
       "0         0         0       5  978300760\n",
       "1         0         1       3  978302109\n",
       "2         0         2       3  978301968\n",
       "3         0         3       4  978300275\n",
       "4         0         4       5  978824291\n",
       "..      ...       ...     ...        ...\n",
       "0      6039      1180       5  997454126\n",
       "1      6039      2010       5  997454126\n",
       "2      6039      3360       5  997454126\n",
       "3      6039      1128       5  997454126\n",
       "4      6039      2066       5  997454126\n",
       "\n",
       "[836483 rows x 4 columns]"
      ]
     },
     "execution_count": 190,
     "metadata": {},
     "output_type": "execute_result"
    }
   ],
   "source": [
    "# indexing을 통해 데이터 컬럼 내 값을 바꾸는 코드\n",
    "# dictionary 자료형의 get 함수는 https://wikidocs.net/16 을 참고하세요.\n",
    "\n",
    "# user_to_idx.get을 통해 user_id 컬럼의 모든 값을 인덱싱한 Series를 구해 봅시다. \n",
    "# 혹시 정상적으로 인덱싱되지 않은 row가 있다면 인덱스가 NaN이 될 테니 dropna()로 제거합니다. \n",
    "temp_user_data = ratings['user_id'].map(user_to_idx.get).dropna()\n",
    "if len(temp_user_data) == len(ratings):   # 모든 row가 정상적으로 인덱싱되었다면\n",
    "    print('user_id column indexing OK!!')\n",
    "    ratings['user_id'] = temp_user_data   # data['user_id']을 인덱싱된 Series로 교체해 줍니다. \n",
    "else:\n",
    "    print('user_id column indexing Fail!!')\n",
    "\n",
    "# artist_to_idx을 통해 artist 컬럼도 동일한 방식으로 인덱싱해 줍니다. \n",
    "temp_movie_data = ratings['movie_id'].map(movie_to_idx.get).dropna()\n",
    "if len(temp_movie_data) == len(ratings):\n",
    "    print('moivie column indexing OK!!')\n",
    "    ratings['movie_id'] = temp_movie_data\n",
    "else:\n",
    "    print('movie column indexing Fail!!')\n",
    "\n",
    "ratings"
   ]
  },
  {
   "cell_type": "code",
   "execution_count": 191,
   "id": "1cb81d71",
   "metadata": {},
   "outputs": [
    {
     "data": {
      "text/plain": [
       "(836483, 4)"
      ]
     },
     "execution_count": 191,
     "metadata": {},
     "output_type": "execute_result"
    }
   ],
   "source": [
    "ratings.shape"
   ]
  },
  {
   "cell_type": "code",
   "execution_count": 192,
   "id": "7f186bab",
   "metadata": {},
   "outputs": [
    {
     "data": {
      "text/html": [
       "<div>\n",
       "<style scoped>\n",
       "    .dataframe tbody tr th:only-of-type {\n",
       "        vertical-align: middle;\n",
       "    }\n",
       "\n",
       "    .dataframe tbody tr th {\n",
       "        vertical-align: top;\n",
       "    }\n",
       "\n",
       "    .dataframe thead th {\n",
       "        text-align: right;\n",
       "    }\n",
       "</style>\n",
       "<table border=\"1\" class=\"dataframe\">\n",
       "  <thead>\n",
       "    <tr style=\"text-align: right;\">\n",
       "      <th></th>\n",
       "      <th>user_id</th>\n",
       "      <th>movie_id</th>\n",
       "      <th>counts</th>\n",
       "      <th>timestamp</th>\n",
       "    </tr>\n",
       "  </thead>\n",
       "  <tbody>\n",
       "    <tr>\n",
       "      <th>0</th>\n",
       "      <td>0</td>\n",
       "      <td>0</td>\n",
       "      <td>5</td>\n",
       "      <td>978300760</td>\n",
       "    </tr>\n",
       "    <tr>\n",
       "      <th>856020</th>\n",
       "      <td>5138</td>\n",
       "      <td>0</td>\n",
       "      <td>5</td>\n",
       "      <td>962058076</td>\n",
       "    </tr>\n",
       "    <tr>\n",
       "      <th>660393</th>\n",
       "      <td>3979</td>\n",
       "      <td>0</td>\n",
       "      <td>5</td>\n",
       "      <td>965624695</td>\n",
       "    </tr>\n",
       "    <tr>\n",
       "      <th>951080</th>\n",
       "      <td>5745</td>\n",
       "      <td>0</td>\n",
       "      <td>4</td>\n",
       "      <td>958353428</td>\n",
       "    </tr>\n",
       "    <tr>\n",
       "      <th>464940</th>\n",
       "      <td>2865</td>\n",
       "      <td>0</td>\n",
       "      <td>4</td>\n",
       "      <td>972910138</td>\n",
       "    </tr>\n",
       "    <tr>\n",
       "      <th>...</th>\n",
       "      <td>...</td>\n",
       "      <td>...</td>\n",
       "      <td>...</td>\n",
       "      <td>...</td>\n",
       "    </tr>\n",
       "    <tr>\n",
       "      <th>970914</th>\n",
       "      <td>5849</td>\n",
       "      <td>3623</td>\n",
       "      <td>5</td>\n",
       "      <td>957756608</td>\n",
       "    </tr>\n",
       "    <tr>\n",
       "      <th>971469</th>\n",
       "      <td>5852</td>\n",
       "      <td>3624</td>\n",
       "      <td>4</td>\n",
       "      <td>958346883</td>\n",
       "    </tr>\n",
       "    <tr>\n",
       "      <th>971564</th>\n",
       "      <td>5852</td>\n",
       "      <td>3625</td>\n",
       "      <td>3</td>\n",
       "      <td>957744257</td>\n",
       "    </tr>\n",
       "    <tr>\n",
       "      <th>983062</th>\n",
       "      <td>5936</td>\n",
       "      <td>3626</td>\n",
       "      <td>4</td>\n",
       "      <td>957273353</td>\n",
       "    </tr>\n",
       "    <tr>\n",
       "      <th>984215</th>\n",
       "      <td>5946</td>\n",
       "      <td>3627</td>\n",
       "      <td>5</td>\n",
       "      <td>1016563709</td>\n",
       "    </tr>\n",
       "  </tbody>\n",
       "</table>\n",
       "<p>836483 rows × 4 columns</p>\n",
       "</div>"
      ],
      "text/plain": [
       "        user_id  movie_id  counts   timestamp\n",
       "0             0         0       5   978300760\n",
       "856020     5138         0       5   962058076\n",
       "660393     3979         0       5   965624695\n",
       "951080     5745         0       4   958353428\n",
       "464940     2865         0       4   972910138\n",
       "...         ...       ...     ...         ...\n",
       "970914     5849      3623       5   957756608\n",
       "971469     5852      3624       4   958346883\n",
       "971564     5852      3625       3   957744257\n",
       "983062     5936      3626       4   957273353\n",
       "984215     5946      3627       5  1016563709\n",
       "\n",
       "[836483 rows x 4 columns]"
      ]
     },
     "execution_count": 192,
     "metadata": {},
     "output_type": "execute_result"
    }
   ],
   "source": [
    "ratings.sort_values('movie_id')"
   ]
  },
  {
   "cell_type": "code",
   "execution_count": 193,
   "id": "41e21213",
   "metadata": {},
   "outputs": [
    {
     "name": "stdout",
     "output_type": "stream",
     "text": [
      "6040\n",
      "3628\n"
     ]
    },
    {
     "data": {
      "text/plain": [
       "<6040x3628 sparse matrix of type '<class 'numpy.int64'>'\n",
       "\twith 836483 stored elements in Compressed Sparse Row format>"
      ]
     },
     "execution_count": 193,
     "metadata": {},
     "output_type": "execute_result"
    }
   ],
   "source": [
    "# CSR matrix를 직접 만들어 봅시다.\n",
    "from scipy.sparse import csr_matrix\n",
    "\n",
    "num_user = ratings['user_id'].nunique()\n",
    "num_movie = ratings['movie_id'].nunique()\n",
    "print(num_user)\n",
    "print(num_movie)\n",
    "\n",
    "csr_data = csr_matrix((ratings.counts, (ratings.user_id, ratings.movie_id)), shape= (num_user, num_movie))\n",
    "csr_data"
   ]
  },
  {
   "cell_type": "code",
   "execution_count": 194,
   "id": "e58fd8c1",
   "metadata": {},
   "outputs": [],
   "source": [
    "from implicit.als import AlternatingLeastSquares\n",
    "import os\n",
    "import numpy as np\n",
    "\n",
    "# implicit 라이브러리에서 권장하고 있는 부분입니다. 학습 내용과는 무관합니다.\n",
    "os.environ['OPENBLAS_NUM_THREADS']='1'\n",
    "os.environ['KMP_DUPLICATE_LIB_OK']='True'\n",
    "os.environ['MKL_NUM_THREADS']='1'"
   ]
  },
  {
   "cell_type": "code",
   "execution_count": 195,
   "id": "3899e987",
   "metadata": {},
   "outputs": [],
   "source": [
    "# Implicit AlternatingLeastSquares 모델의 선언\n",
    "als_model = AlternatingLeastSquares(factors=100, regularization=0.01, use_gpu=False, iterations=15, dtype=np.float32)"
   ]
  },
  {
   "cell_type": "code",
   "execution_count": 196,
   "id": "e065c4f2",
   "metadata": {},
   "outputs": [
    {
     "data": {
      "text/plain": [
       "<3628x6040 sparse matrix of type '<class 'numpy.int64'>'\n",
       "\twith 836483 stored elements in Compressed Sparse Column format>"
      ]
     },
     "execution_count": 196,
     "metadata": {},
     "output_type": "execute_result"
    }
   ],
   "source": [
    "# als 모델은 input으로 (item X user 꼴의 matrix를 받기 때문에 Transpose해줍니다.)\n",
    "csr_data_transpose = csr_data.T\n",
    "csr_data_transpose"
   ]
  },
  {
   "cell_type": "code",
   "execution_count": 197,
   "id": "6137d2ae",
   "metadata": {},
   "outputs": [
    {
     "data": {
      "application/vnd.jupyter.widget-view+json": {
       "model_id": "2ad6bcea56a94369abdb9199b0f0f476",
       "version_major": 2,
       "version_minor": 0
      },
      "text/plain": [
       "  0%|          | 0/15 [00:00<?, ?it/s]"
      ]
     },
     "metadata": {},
     "output_type": "display_data"
    }
   ],
   "source": [
    "# 모델 훈련\n",
    "als_model.fit(csr_data_transpose)"
   ]
  },
  {
   "cell_type": "code",
   "execution_count": 198,
   "id": "072bc725",
   "metadata": {},
   "outputs": [],
   "source": [
    "#내가 선호하는 5가지 영화 중 하나와 그 외의 영화 하나를 골라 훈련된 모델이 예측한 나의 선호도를 파악해 보세요.\n",
    "#it takes two의 idx는 38번이기 때문에 38번과의 벡터곱을 확인하였다.\n",
    "user, it_takes_two = user_to_idx[6038], movie_to_idx[38]\n",
    "user_vector, it_takes_two_vector = als_model.user_factors[user], als_model.item_factors[it_takes_two]"
   ]
  },
  {
   "cell_type": "code",
   "execution_count": 199,
   "id": "5c059c90",
   "metadata": {},
   "outputs": [
    {
     "data": {
      "text/plain": [
       "array([-0.16850623, -0.18789962, -1.2057465 ,  0.51447386,  0.60502666,\n",
       "        0.18457592,  0.81718713,  0.29250893,  0.7398317 , -0.4829902 ,\n",
       "        0.00990408,  0.70587176, -0.7445383 , -0.26444772,  0.6849598 ,\n",
       "        0.55741125,  0.42357835, -0.51467186, -0.9735714 , -1.4536824 ,\n",
       "       -0.98252815,  1.210671  , -0.3655335 , -1.1841981 , -0.80467004,\n",
       "       -1.0489236 , -0.21128747,  1.5849822 ,  0.7769933 , -0.01956581,\n",
       "       -0.43050382,  0.9132917 , -0.9932005 , -0.33097953, -1.8343803 ,\n",
       "       -0.18701136,  0.87183726,  0.789687  , -0.34908143,  0.8212344 ,\n",
       "        0.43158594,  0.77680093, -1.066318  ,  0.00225695,  0.6277764 ,\n",
       "       -0.68833715, -1.0234978 ,  0.3409388 ,  0.89158046,  0.26637942,\n",
       "       -0.8054822 ,  0.72548336,  0.42471746,  0.7716937 ,  0.9491682 ,\n",
       "       -0.21456781, -0.97776306, -0.06812582,  0.3459741 , -0.20857951,\n",
       "        0.84937197,  0.60668397, -0.16377318,  1.2699746 ,  0.45801488,\n",
       "       -0.9581873 , -0.17682607,  0.76088494,  0.06497323,  0.9013929 ,\n",
       "       -0.727441  , -0.6242443 ,  1.1373432 , -1.2249587 ,  1.0746518 ,\n",
       "        1.2045281 ,  0.40653628,  0.03045808, -0.3982257 , -0.6199219 ,\n",
       "       -1.120405  ,  1.445753  , -1.2847381 ,  0.28531802, -0.3773472 ,\n",
       "       -0.1460961 , -0.30269998,  0.6250281 ,  0.73796684,  1.3216307 ,\n",
       "        0.29473838,  0.3921754 ,  0.10709433, -0.30885077,  0.9233487 ,\n",
       "       -0.59141135,  0.82504714,  0.6306686 , -0.670882  , -0.66075265],\n",
       "      dtype=float32)"
      ]
     },
     "execution_count": 199,
     "metadata": {},
     "output_type": "execute_result"
    }
   ],
   "source": [
    "user_vector"
   ]
  },
  {
   "cell_type": "code",
   "execution_count": 200,
   "id": "9b9e29aa",
   "metadata": {},
   "outputs": [
    {
     "data": {
      "text/plain": [
       "array([-1.95812620e-03,  5.42778336e-03,  6.70106756e-03,  4.46551619e-03,\n",
       "        5.39142219e-03,  1.93900021e-03,  3.92749644e-04,  4.82109934e-03,\n",
       "        2.58274074e-03,  4.90046572e-03,  1.60060427e-03,  9.58284305e-04,\n",
       "        5.99665043e-04,  3.92280705e-03,  1.96360541e-03,  7.20625604e-03,\n",
       "       -9.20236344e-04,  6.81068795e-03,  5.15136681e-03, -1.18388314e-04,\n",
       "        3.91148543e-03,  4.35682572e-03, -2.16389727e-03,  1.06281147e-03,\n",
       "       -2.45718914e-03, -1.61253683e-05,  4.40499978e-04,  4.33412334e-03,\n",
       "       -5.59308100e-03,  3.07768839e-03, -1.95686193e-03,  1.66167680e-03,\n",
       "        1.67060655e-03,  4.36183857e-03,  2.11560610e-03,  1.37095235e-03,\n",
       "        5.70323644e-03, -1.49123307e-05, -4.48742928e-03,  4.43809200e-03,\n",
       "        7.91033672e-04,  3.76931787e-03,  2.96469266e-03,  5.67135913e-03,\n",
       "        1.96705153e-03, -3.71031230e-04,  3.85870878e-03,  2.74260552e-03,\n",
       "        1.21653802e-03,  8.93709541e-04,  5.25989290e-03,  2.57428759e-03,\n",
       "        6.87314896e-04, -2.46813498e-03,  8.87734233e-04,  2.15735030e-03,\n",
       "        1.63017423e-04,  5.17262705e-03,  9.04999860e-03,  2.54743570e-03,\n",
       "        7.78372691e-04,  3.13681317e-03, -5.18459268e-03, -4.15864820e-03,\n",
       "        2.23777562e-04,  1.78326142e-03, -4.44153324e-03,  1.70794618e-03,\n",
       "       -1.72542897e-03,  4.80844453e-03, -3.63193714e-04,  2.84940912e-03,\n",
       "       -2.08742032e-03, -1.10078650e-03, -4.08969121e-03, -1.36195193e-03,\n",
       "       -1.36201491e-03,  6.19534170e-04,  1.38813688e-03,  2.06482480e-03,\n",
       "        5.74768241e-03, -2.04505632e-03, -4.08372097e-03,  4.84934921e-04,\n",
       "       -4.36540460e-03,  3.77814937e-03, -5.16498520e-04,  1.92916789e-03,\n",
       "        1.84830069e-03, -3.58464057e-03,  9.52457078e-04,  3.56297824e-04,\n",
       "        5.46303438e-03,  2.39134111e-04,  6.45664381e-03,  4.50477563e-03,\n",
       "        6.45059673e-03,  7.41220498e-03,  3.12936539e-03,  2.71979021e-03],\n",
       "      dtype=float32)"
      ]
     },
     "execution_count": 200,
     "metadata": {},
     "output_type": "execute_result"
    }
   ],
   "source": [
    "it_takes_two_vector"
   ]
  },
  {
   "cell_type": "code",
   "execution_count": 201,
   "id": "ccc2462d",
   "metadata": {},
   "outputs": [
    {
     "data": {
      "text/plain": [
       "0.0005712671"
      ]
     },
     "execution_count": 201,
     "metadata": {},
     "output_type": "execute_result"
    }
   ],
   "source": [
    "np.dot(user_vector, it_takes_two_vector)"
   ]
  },
  {
   "cell_type": "markdown",
   "id": "49f6997e",
   "metadata": {},
   "source": [
    "1에 가깝게 나왔다! validation은 진행하지 않았지만, train데이터에서는 만족스런 결과가 나온 것 같다."
   ]
  },
  {
   "cell_type": "code",
   "execution_count": 202,
   "id": "1535b475",
   "metadata": {},
   "outputs": [
    {
     "data": {
      "text/plain": [
       "[(2066, 0.9999998),\n",
       " (1075, 0.8130117),\n",
       " (1033, 0.8033338),\n",
       " (748, 0.77734864),\n",
       " (2418, 0.7767045),\n",
       " (2481, 0.7760277),\n",
       " (1641, 0.7735698),\n",
       " (2729, 0.76953304),\n",
       " (2489, 0.7662233),\n",
       " (3194, 0.7563747),\n",
       " (3071, 0.75476736),\n",
       " (3261, 0.7491186),\n",
       " (1014, 0.7491091),\n",
       " (167, 0.74009883),\n",
       " (1520, 0.7375308)]"
      ]
     },
     "execution_count": 202,
     "metadata": {},
     "output_type": "execute_result"
    }
   ],
   "source": [
    "#비슷한 영화 찾기 : Comedy가 주제인 63번 idx를 대입해보았다.\n",
    "favorite_artist = 63\n",
    "artist_id = movie_to_idx[favorite_artist]\n",
    "similar_movie = als_model.similar_items(artist_id, N=15)\n",
    "similar_movie"
   ]
  },
  {
   "cell_type": "code",
   "execution_count": 203,
   "id": "7199f3b2",
   "metadata": {},
   "outputs": [
    {
     "data": {
      "text/plain": [
       "[63, 65, 1468, 88, 325, 2060, 413, 174, 255, 833, 1887, 1439, 2195, 1431, 2027]"
      ]
     },
     "execution_count": 203,
     "metadata": {},
     "output_type": "execute_result"
    }
   ],
   "source": [
    "idx_to_movie = {v:k for k,v in movie_to_idx.items()}\n",
    "[idx_to_movie[i[0]] for i in similar_movie]"
   ]
  },
  {
   "cell_type": "code",
   "execution_count": 204,
   "id": "6af5f898",
   "metadata": {},
   "outputs": [],
   "source": [
    "def get_similar_movie(movie_name : str):\n",
    "    movie_id = movie_to_idx[movie_name]\n",
    "    similar_movie = als_model.similar_items(movie_id)\n",
    "    similar_movie = [idx_to_movie[i[0]] for i in similar_movie]\n",
    "    return similar_movie"
   ]
  },
  {
   "cell_type": "code",
   "execution_count": 205,
   "id": "19ec8774",
   "metadata": {},
   "outputs": [
    {
     "data": {
      "text/plain": [
       "[53, 665, 645, 214, 3816, 670, 264, 1860, 652, 2630]"
      ]
     },
     "execution_count": 205,
     "metadata": {},
     "output_type": "execute_result"
    }
   ],
   "source": [
    "get_similar_movie(53)"
   ]
  },
  {
   "cell_type": "code",
   "execution_count": 206,
   "id": "9a055d35",
   "metadata": {},
   "outputs": [
    {
     "data": {
      "text/html": [
       "<div>\n",
       "<style scoped>\n",
       "    .dataframe tbody tr th:only-of-type {\n",
       "        vertical-align: middle;\n",
       "    }\n",
       "\n",
       "    .dataframe tbody tr th {\n",
       "        vertical-align: top;\n",
       "    }\n",
       "\n",
       "    .dataframe thead th {\n",
       "        text-align: right;\n",
       "    }\n",
       "</style>\n",
       "<table border=\"1\" class=\"dataframe\">\n",
       "  <thead>\n",
       "    <tr style=\"text-align: right;\">\n",
       "      <th></th>\n",
       "      <th>movie_id</th>\n",
       "      <th>title</th>\n",
       "      <th>genre</th>\n",
       "    </tr>\n",
       "  </thead>\n",
       "  <tbody>\n",
       "    <tr>\n",
       "      <th>396</th>\n",
       "      <td>400</td>\n",
       "      <td>Homage (1995)</td>\n",
       "      <td>Drama</td>\n",
       "    </tr>\n",
       "  </tbody>\n",
       "</table>\n",
       "</div>"
      ],
      "text/plain": [
       "     movie_id          title  genre\n",
       "396       400  Homage (1995)  Drama"
      ]
     },
     "execution_count": 206,
     "metadata": {},
     "output_type": "execute_result"
    }
   ],
   "source": [
    "movies[movies['movie_id'] == 400]"
   ]
  },
  {
   "cell_type": "code",
   "execution_count": 207,
   "id": "aa659777",
   "metadata": {},
   "outputs": [
    {
     "data": {
      "text/html": [
       "<div>\n",
       "<style scoped>\n",
       "    .dataframe tbody tr th:only-of-type {\n",
       "        vertical-align: middle;\n",
       "    }\n",
       "\n",
       "    .dataframe tbody tr th {\n",
       "        vertical-align: top;\n",
       "    }\n",
       "\n",
       "    .dataframe thead th {\n",
       "        text-align: right;\n",
       "    }\n",
       "</style>\n",
       "<table border=\"1\" class=\"dataframe\">\n",
       "  <thead>\n",
       "    <tr style=\"text-align: right;\">\n",
       "      <th></th>\n",
       "      <th>movie_id</th>\n",
       "      <th>title</th>\n",
       "      <th>genre</th>\n",
       "    </tr>\n",
       "  </thead>\n",
       "  <tbody>\n",
       "    <tr>\n",
       "      <th>1608</th>\n",
       "      <td>1654</td>\n",
       "      <td>FairyTale: A True Story (1997)</td>\n",
       "      <td>Children's|Drama|Fantasy</td>\n",
       "    </tr>\n",
       "  </tbody>\n",
       "</table>\n",
       "</div>"
      ],
      "text/plain": [
       "      movie_id                           title                     genre\n",
       "1608      1654  FairyTale: A True Story (1997)  Children's|Drama|Fantasy"
      ]
     },
     "execution_count": 207,
     "metadata": {},
     "output_type": "execute_result"
    }
   ],
   "source": [
    "movies[movies['movie_id'] == 1654]"
   ]
  },
  {
   "cell_type": "code",
   "execution_count": 208,
   "id": "c3470e0c",
   "metadata": {},
   "outputs": [
    {
     "data": {
      "text/html": [
       "<div>\n",
       "<style scoped>\n",
       "    .dataframe tbody tr th:only-of-type {\n",
       "        vertical-align: middle;\n",
       "    }\n",
       "\n",
       "    .dataframe tbody tr th {\n",
       "        vertical-align: top;\n",
       "    }\n",
       "\n",
       "    .dataframe thead th {\n",
       "        text-align: right;\n",
       "    }\n",
       "</style>\n",
       "<table border=\"1\" class=\"dataframe\">\n",
       "  <thead>\n",
       "    <tr style=\"text-align: right;\">\n",
       "      <th></th>\n",
       "      <th>movie_id</th>\n",
       "      <th>title</th>\n",
       "      <th>genre</th>\n",
       "    </tr>\n",
       "  </thead>\n",
       "  <tbody>\n",
       "    <tr>\n",
       "      <th>102</th>\n",
       "      <td>104</td>\n",
       "      <td>Happy Gilmore (1996)</td>\n",
       "      <td>Comedy</td>\n",
       "    </tr>\n",
       "  </tbody>\n",
       "</table>\n",
       "</div>"
      ],
      "text/plain": [
       "     movie_id                 title   genre\n",
       "102       104  Happy Gilmore (1996)  Comedy"
      ]
     },
     "execution_count": 208,
     "metadata": {},
     "output_type": "execute_result"
    }
   ],
   "source": [
    "movies[movies['movie_id'] == 104]"
   ]
  },
  {
   "cell_type": "code",
   "execution_count": 209,
   "id": "7e590db5",
   "metadata": {},
   "outputs": [
    {
     "data": {
      "text/html": [
       "<div>\n",
       "<style scoped>\n",
       "    .dataframe tbody tr th:only-of-type {\n",
       "        vertical-align: middle;\n",
       "    }\n",
       "\n",
       "    .dataframe tbody tr th {\n",
       "        vertical-align: top;\n",
       "    }\n",
       "\n",
       "    .dataframe thead th {\n",
       "        text-align: right;\n",
       "    }\n",
       "</style>\n",
       "<table border=\"1\" class=\"dataframe\">\n",
       "  <thead>\n",
       "    <tr style=\"text-align: right;\">\n",
       "      <th></th>\n",
       "      <th>movie_id</th>\n",
       "      <th>title</th>\n",
       "      <th>genre</th>\n",
       "    </tr>\n",
       "  </thead>\n",
       "  <tbody>\n",
       "    <tr>\n",
       "      <th>353</th>\n",
       "      <td>357</td>\n",
       "      <td>Four Weddings and a Funeral (1994)</td>\n",
       "      <td>Comedy|Romance</td>\n",
       "    </tr>\n",
       "  </tbody>\n",
       "</table>\n",
       "</div>"
      ],
      "text/plain": [
       "     movie_id                               title           genre\n",
       "353       357  Four Weddings and a Funeral (1994)  Comedy|Romance"
      ]
     },
     "execution_count": 209,
     "metadata": {},
     "output_type": "execute_result"
    }
   ],
   "source": [
    "movies[movies['movie_id'] == 357]"
   ]
  },
  {
   "cell_type": "code",
   "execution_count": 210,
   "id": "88f40665",
   "metadata": {},
   "outputs": [
    {
     "data": {
      "text/html": [
       "<div>\n",
       "<style scoped>\n",
       "    .dataframe tbody tr th:only-of-type {\n",
       "        vertical-align: middle;\n",
       "    }\n",
       "\n",
       "    .dataframe tbody tr th {\n",
       "        vertical-align: top;\n",
       "    }\n",
       "\n",
       "    .dataframe thead th {\n",
       "        text-align: right;\n",
       "    }\n",
       "</style>\n",
       "<table border=\"1\" class=\"dataframe\">\n",
       "  <thead>\n",
       "    <tr style=\"text-align: right;\">\n",
       "      <th></th>\n",
       "      <th>movie_id</th>\n",
       "      <th>title</th>\n",
       "      <th>genre</th>\n",
       "    </tr>\n",
       "  </thead>\n",
       "  <tbody>\n",
       "    <tr>\n",
       "      <th>922</th>\n",
       "      <td>934</td>\n",
       "      <td>Father of the Bride (1950)</td>\n",
       "      <td>Comedy</td>\n",
       "    </tr>\n",
       "  </tbody>\n",
       "</table>\n",
       "</div>"
      ],
      "text/plain": [
       "     movie_id                       title   genre\n",
       "922       934  Father of the Bride (1950)  Comedy"
      ]
     },
     "execution_count": 210,
     "metadata": {},
     "output_type": "execute_result"
    }
   ],
   "source": [
    "movies[movies['movie_id'] == 934]"
   ]
  },
  {
   "cell_type": "markdown",
   "id": "df84533b",
   "metadata": {},
   "source": [
    "Comedy가 주제인 영화를 대상으로 비슷한 영화 상위 5개의 주제를 확인해본 결과, 다른 주제들이 추천되는 것을 확인 할 수 있다.\n",
    "이는 저 영화들이 Comedy의 내용이 어느정도 있지만 다른 주제가 더 강해 해당 주제로 나타내진걸수도 있고, 크게 Comedy를 좋아하는 사람이라도, Comedy만 주구장창 보지 않는 것으로 해석 할 수 있을 것 같다. 딱히 매니아층이 없다고 해야하나\n",
    "아니면 모델이 잘못됬거나..."
   ]
  },
  {
   "cell_type": "code",
   "execution_count": 211,
   "id": "5bd8bcc7",
   "metadata": {},
   "outputs": [
    {
     "data": {
      "text/plain": [
       "[(29, 0.6395985),\n",
       " (22, 0.5197422),\n",
       " (474, 0.47722834),\n",
       " (21, 0.45376083),\n",
       " (109, 0.4169619),\n",
       " (573, 0.39740908),\n",
       " (1348, 0.388946),\n",
       " (488, 0.38740167),\n",
       " (540, 0.38536698),\n",
       " (186, 0.38448322),\n",
       " (693, 0.38068163),\n",
       " (126, 0.3761547),\n",
       " (7, 0.36913657),\n",
       " (40, 0.35372272),\n",
       " (110, 0.33848006),\n",
       " (322, 0.3326108),\n",
       " (1471, 0.3312518),\n",
       " (50, 0.32915694),\n",
       " (1144, 0.32182074),\n",
       " (163, 0.32001674)]"
      ]
     },
     "execution_count": 211,
     "metadata": {},
     "output_type": "execute_result"
    }
   ],
   "source": [
    "#내가 좋아하는 영화와 비슷한 영화를 추천받아 봅시다.\n",
    "user = user_to_idx[6038]\n",
    "# recommend에서는 user*item CSR Matrix를 받습니다.\n",
    "movie_recommended = als_model.recommend(user, csr_data, N=20, filter_already_liked_items=True)\n",
    "movie_recommended"
   ]
  },
  {
   "cell_type": "code",
   "execution_count": 212,
   "id": "e72154ec",
   "metadata": {},
   "outputs": [
    {
     "data": {
      "text/html": [
       "<div>\n",
       "<style scoped>\n",
       "    .dataframe tbody tr th:only-of-type {\n",
       "        vertical-align: middle;\n",
       "    }\n",
       "\n",
       "    .dataframe tbody tr th {\n",
       "        vertical-align: top;\n",
       "    }\n",
       "\n",
       "    .dataframe thead th {\n",
       "        text-align: right;\n",
       "    }\n",
       "</style>\n",
       "<table border=\"1\" class=\"dataframe\">\n",
       "  <thead>\n",
       "    <tr style=\"text-align: right;\">\n",
       "      <th></th>\n",
       "      <th>movie_id</th>\n",
       "      <th>title</th>\n",
       "      <th>genre</th>\n",
       "    </tr>\n",
       "  </thead>\n",
       "  <tbody>\n",
       "    <tr>\n",
       "      <th>1127</th>\n",
       "      <td>1143</td>\n",
       "      <td>Three Lives and Only One Death (1996)</td>\n",
       "      <td>Comedy</td>\n",
       "    </tr>\n",
       "  </tbody>\n",
       "</table>\n",
       "</div>"
      ],
      "text/plain": [
       "      movie_id                                  title   genre\n",
       "1127      1143  Three Lives and Only One Death (1996)  Comedy"
      ]
     },
     "execution_count": 212,
     "metadata": {},
     "output_type": "execute_result"
    }
   ],
   "source": [
    "movies[movies['movie_id'] == 1143]"
   ]
  },
  {
   "cell_type": "code",
   "execution_count": 213,
   "id": "52cc6c72",
   "metadata": {},
   "outputs": [
    {
     "data": {
      "text/html": [
       "<div>\n",
       "<style scoped>\n",
       "    .dataframe tbody tr th:only-of-type {\n",
       "        vertical-align: middle;\n",
       "    }\n",
       "\n",
       "    .dataframe tbody tr th {\n",
       "        vertical-align: top;\n",
       "    }\n",
       "\n",
       "    .dataframe thead th {\n",
       "        text-align: right;\n",
       "    }\n",
       "</style>\n",
       "<table border=\"1\" class=\"dataframe\">\n",
       "  <thead>\n",
       "    <tr style=\"text-align: right;\">\n",
       "      <th></th>\n",
       "      <th>movie_id</th>\n",
       "      <th>title</th>\n",
       "      <th>genre</th>\n",
       "    </tr>\n",
       "  </thead>\n",
       "  <tbody>\n",
       "    <tr>\n",
       "      <th>82</th>\n",
       "      <td>83</td>\n",
       "      <td>Once Upon a Time... When We Were Colored (1995)</td>\n",
       "      <td>Drama</td>\n",
       "    </tr>\n",
       "  </tbody>\n",
       "</table>\n",
       "</div>"
      ],
      "text/plain": [
       "    movie_id                                            title  genre\n",
       "82        83  Once Upon a Time... When We Were Colored (1995)  Drama"
      ]
     },
     "execution_count": 213,
     "metadata": {},
     "output_type": "execute_result"
    }
   ],
   "source": [
    "movies[movies['movie_id'] == 83]"
   ]
  },
  {
   "cell_type": "code",
   "execution_count": 214,
   "id": "bd0d18b1",
   "metadata": {},
   "outputs": [
    {
     "data": {
      "text/html": [
       "<div>\n",
       "<style scoped>\n",
       "    .dataframe tbody tr th:only-of-type {\n",
       "        vertical-align: middle;\n",
       "    }\n",
       "\n",
       "    .dataframe tbody tr th {\n",
       "        vertical-align: top;\n",
       "    }\n",
       "\n",
       "    .dataframe thead th {\n",
       "        text-align: right;\n",
       "    }\n",
       "</style>\n",
       "<table border=\"1\" class=\"dataframe\">\n",
       "  <thead>\n",
       "    <tr style=\"text-align: right;\">\n",
       "      <th></th>\n",
       "      <th>movie_id</th>\n",
       "      <th>title</th>\n",
       "      <th>genre</th>\n",
       "    </tr>\n",
       "  </thead>\n",
       "  <tbody>\n",
       "    <tr>\n",
       "      <th>1389</th>\n",
       "      <td>1412</td>\n",
       "      <td>Some Mother's Son (1996)</td>\n",
       "      <td>Drama</td>\n",
       "    </tr>\n",
       "  </tbody>\n",
       "</table>\n",
       "</div>"
      ],
      "text/plain": [
       "      movie_id                     title  genre\n",
       "1389      1412  Some Mother's Son (1996)  Drama"
      ]
     },
     "execution_count": 214,
     "metadata": {},
     "output_type": "execute_result"
    }
   ],
   "source": [
    "movies[movies['movie_id'] == 1412]"
   ]
  },
  {
   "cell_type": "code",
   "execution_count": 215,
   "id": "3b74e81f",
   "metadata": {},
   "outputs": [
    {
     "data": {
      "text/html": [
       "<div>\n",
       "<style scoped>\n",
       "    .dataframe tbody tr th:only-of-type {\n",
       "        vertical-align: middle;\n",
       "    }\n",
       "\n",
       "    .dataframe tbody tr th {\n",
       "        vertical-align: top;\n",
       "    }\n",
       "\n",
       "    .dataframe thead th {\n",
       "        text-align: right;\n",
       "    }\n",
       "</style>\n",
       "<table border=\"1\" class=\"dataframe\">\n",
       "  <thead>\n",
       "    <tr style=\"text-align: right;\">\n",
       "      <th></th>\n",
       "      <th>movie_id</th>\n",
       "      <th>title</th>\n",
       "      <th>genre</th>\n",
       "    </tr>\n",
       "  </thead>\n",
       "  <tbody>\n",
       "    <tr>\n",
       "      <th>1160</th>\n",
       "      <td>1176</td>\n",
       "      <td>Double Life of Veronique, The (La Double Vie d...</td>\n",
       "      <td>Drama</td>\n",
       "    </tr>\n",
       "  </tbody>\n",
       "</table>\n",
       "</div>"
      ],
      "text/plain": [
       "      movie_id                                              title  genre\n",
       "1160      1176  Double Life of Veronique, The (La Double Vie d...  Drama"
      ]
     },
     "execution_count": 215,
     "metadata": {},
     "output_type": "execute_result"
    }
   ],
   "source": [
    "movies[movies['movie_id'] == 1176]"
   ]
  },
  {
   "cell_type": "code",
   "execution_count": 216,
   "id": "cdb5a6b4",
   "metadata": {},
   "outputs": [
    {
     "data": {
      "text/html": [
       "<div>\n",
       "<style scoped>\n",
       "    .dataframe tbody tr th:only-of-type {\n",
       "        vertical-align: middle;\n",
       "    }\n",
       "\n",
       "    .dataframe tbody tr th {\n",
       "        vertical-align: top;\n",
       "    }\n",
       "\n",
       "    .dataframe thead th {\n",
       "        text-align: right;\n",
       "    }\n",
       "</style>\n",
       "<table border=\"1\" class=\"dataframe\">\n",
       "  <thead>\n",
       "    <tr style=\"text-align: right;\">\n",
       "      <th></th>\n",
       "      <th>movie_id</th>\n",
       "      <th>title</th>\n",
       "      <th>genre</th>\n",
       "    </tr>\n",
       "  </thead>\n",
       "  <tbody>\n",
       "    <tr>\n",
       "      <th>167</th>\n",
       "      <td>169</td>\n",
       "      <td>Free Willy 2: The Adventure Home (1995)</td>\n",
       "      <td>Adventure|Children's|Drama</td>\n",
       "    </tr>\n",
       "  </tbody>\n",
       "</table>\n",
       "</div>"
      ],
      "text/plain": [
       "     movie_id                                    title  \\\n",
       "167       169  Free Willy 2: The Adventure Home (1995)   \n",
       "\n",
       "                          genre  \n",
       "167  Adventure|Children's|Drama  "
      ]
     },
     "execution_count": 216,
     "metadata": {},
     "output_type": "execute_result"
    }
   ],
   "source": [
    "movies[movies['movie_id'] == 169]"
   ]
  },
  {
   "cell_type": "markdown",
   "id": "f0a87b25",
   "metadata": {},
   "source": [
    "나에게 추천되는 5개의 영화를 살펴보았을때도, Comedy가 1등이긴 하지만, 2,3,4,5등의 주제는 Comedy가 아니였다. 아마도 genre 이외에 데이터셋에 다른 요소들이 다른 주제로 결정 지었을 가능성이 크다."
   ]
  }
 ],
 "metadata": {
  "kernelspec": {
   "display_name": "Python 3 (ipykernel)",
   "language": "python",
   "name": "python3"
  },
  "language_info": {
   "codemirror_mode": {
    "name": "ipython",
    "version": 3
   },
   "file_extension": ".py",
   "mimetype": "text/x-python",
   "name": "python",
   "nbconvert_exporter": "python",
   "pygments_lexer": "ipython3",
   "version": "3.9.7"
  }
 },
 "nbformat": 4,
 "nbformat_minor": 5
}
