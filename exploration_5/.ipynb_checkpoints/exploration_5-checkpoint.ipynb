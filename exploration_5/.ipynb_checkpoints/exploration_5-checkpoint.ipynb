{
 "cells": [
  {
   "cell_type": "code",
   "execution_count": 1,
   "id": "ed866028",
   "metadata": {},
   "outputs": [
    {
     "name": "stdout",
     "output_type": "stream",
     "text": [
      "2.11.0\n",
      "1.21.5\n"
     ]
    }
   ],
   "source": [
    "import tensorflow as tf\n",
    "from tensorflow import keras\n",
    "import numpy as np\n",
    "import matplotlib.pyplot as plt\n",
    "\n",
    "print(tf.__version__)\n",
    "print(np.__version__)"
   ]
  },
  {
   "cell_type": "code",
   "execution_count": 2,
   "id": "869819b7",
   "metadata": {},
   "outputs": [
    {
     "name": "stdout",
     "output_type": "stream",
     "text": [
      "PIL 라이브러리 import 완료!\n"
     ]
    }
   ],
   "source": [
    "from PIL import Image\n",
    "import glob\n",
    "import os\n",
    "import matplotlib.pyplot as plt\n",
    "\n",
    "print(\"PIL 라이브러리 import 완료!\")"
   ]
  },
  {
   "cell_type": "code",
   "execution_count": 3,
   "id": "04e914ad",
   "metadata": {},
   "outputs": [],
   "source": [
    "def resize_images(img_path):\n",
    "\timages=glob.glob(img_path + \"/*.jpg\")  \n",
    "    \n",
    "\tprint(len(images), \" images to be resized.\")\n",
    "\n",
    "    # 파일마다 모두 28x28 사이즈로 바꾸어 저장합니다.\n",
    "\ttarget_size=(28,28)\n",
    "\tfor img in images:\n",
    "\t\told_img=Image.open(img)\n",
    "\t\tnew_img=old_img.resize(target_size,Image.ANTIALIAS)\n",
    "\t\tnew_img.save(img, \"JPEG\")\n",
    "    \n",
    "\tprint(len(images), \" images resized.\")"
   ]
  },
  {
   "cell_type": "code",
   "execution_count": 4,
   "id": "46b64bed",
   "metadata": {},
   "outputs": [
    {
     "name": "stdout",
     "output_type": "stream",
     "text": [
      "100  images to be resized.\n",
      "100  images resized.\n",
      "100  images to be resized.\n"
     ]
    },
    {
     "name": "stderr",
     "output_type": "stream",
     "text": [
      "C:\\Users\\Public\\Documents\\ESTsoft\\CreatorTemp\\ipykernel_42964\\342146961.py:10: DeprecationWarning: ANTIALIAS is deprecated and will be removed in Pillow 10 (2023-07-01). Use Resampling.LANCZOS instead.\n",
      "  new_img=old_img.resize(target_size,Image.ANTIALIAS)\n"
     ]
    },
    {
     "name": "stdout",
     "output_type": "stream",
     "text": [
      "100  images resized.\n",
      "100  images to be resized.\n",
      "100  images resized.\n"
     ]
    }
   ],
   "source": [
    "resize_images(\"./data/scissor\")\n",
    "resize_images(\"./data/rock\")\n",
    "resize_images(\"./data/paper\")"
   ]
  },
  {
   "cell_type": "code",
   "execution_count": 5,
   "id": "3e15e3c1",
   "metadata": {},
   "outputs": [],
   "source": [
    "import numpy as np\n",
    "\n",
    "def load_data(img_path, number_of_data=300):  # 가위바위보 이미지 개수 총합에 주의하세요.\n",
    "    # 가위 : 0, 바위 : 1, 보 : 2\n",
    "    img_size=28\n",
    "    color=3\n",
    "    #이미지 데이터와 라벨(가위 : 0, 바위 : 1, 보 : 2) 데이터를 담을 행렬(matrix) 영역을 생성합니다.\n",
    "    imgs=np.zeros(number_of_data*img_size*img_size*color,dtype=np.int32).reshape(number_of_data,img_size,img_size,color)\n",
    "    labels=np.zeros(number_of_data,dtype=np.int32)\n",
    "\n",
    "    idx=0\n",
    "    for file in glob.iglob(img_path+'/scissor/*.jpg'):\n",
    "        img = np.array(Image.open(file),dtype=np.int32)\n",
    "        imgs[idx,:,:,:]=img    # 데이터 영역에 이미지 행렬을 복사\n",
    "        labels[idx]=0   # 가위 : 0\n",
    "        idx=idx+1\n",
    "\n",
    "    for file in glob.iglob(img_path+'/rock/*.jpg'):\n",
    "        img = np.array(Image.open(file),dtype=np.int32)\n",
    "        imgs[idx,:,:,:]=img    # 데이터 영역에 이미지 행렬을 복사\n",
    "        labels[idx]=1   # 바위 : 1\n",
    "        idx=idx+1  \n",
    "    \n",
    "    for file in glob.iglob(img_path+'/paper/*.jpg'):\n",
    "        img = np.array(Image.open(file),dtype=np.int32)\n",
    "        imgs[idx,:,:,:]=img    # 데이터 영역에 이미지 행렬을 복사\n",
    "        labels[idx]=2   # 보 : 2\n",
    "        idx=idx+1\n",
    "        \n",
    "    print(\"학습데이터(x_train)의 이미지 개수는\", idx,\"입니다.\")\n",
    "    return imgs, labels"
   ]
  },
  {
   "cell_type": "code",
   "execution_count": 6,
   "id": "97977c61",
   "metadata": {},
   "outputs": [
    {
     "name": "stdout",
     "output_type": "stream",
     "text": [
      "학습데이터(x_train)의 이미지 개수는 300 입니다.\n",
      "x_train_norm shape: (300, 28, 28, 3)\n",
      "y_train shape: (300,)\n"
     ]
    }
   ],
   "source": [
    "image_dir_path = \"./data/\"\n",
    "(x_train, y_train)=load_data(image_dir_path)\n",
    "x_train_norm = x_train/255.0\n",
    "\n",
    "print(\"x_train_norm shape: {}\".format(x_train_norm.shape))\n",
    "print(\"y_train shape: {}\".format(y_train.shape))"
   ]
  },
  {
   "cell_type": "code",
   "execution_count": 7,
   "id": "e69bd8ac",
   "metadata": {},
   "outputs": [
    {
     "name": "stdout",
     "output_type": "stream",
     "text": [
      "라벨:  0\n"
     ]
    },
    {
     "data": {
      "image/png": "[encoded data removed]",
      "text/plain": [
       "<Figure size 640x480 with 1 Axes>"
      ]
     },
     "metadata": {},
     "output_type": "display_data"
    }
   ],
   "source": [
    "plt.imshow(x_train[0])\n",
    "print('라벨: ', y_train[0])"
   ]
  },
  {
   "cell_type": "code",
   "execution_count": 8,
   "id": "17a611ce",
   "metadata": {
    "scrolled": true
   },
   "outputs": [
    {
     "name": "stdout",
     "output_type": "stream",
     "text": [
      "Model에 추가된 Layer 개수:  12\n",
      "Model: \"sequential\"\n",
      "_________________________________________________________________\n",
      " Layer (type)                Output Shape              Param #   \n",
      "=================================================================\n",
      " conv2d (Conv2D)             (None, 26, 26, 64)        1792      \n",
      "                                                                 \n",
      " max_pooling2d (MaxPooling2D  (None, 26, 26, 64)       0         \n",
      " )                                                               \n",
      "                                                                 \n",
      " conv2d_1 (Conv2D)           (None, 24, 24, 64)        36928     \n",
      "                                                                 \n",
      " max_pooling2d_1 (MaxPooling  (None, 12, 12, 64)       0         \n",
      " 2D)                                                             \n",
      "                                                                 \n",
      " conv2d_2 (Conv2D)           (None, 10, 10, 128)       73856     \n",
      "                                                                 \n",
      " max_pooling2d_2 (MaxPooling  (None, 5, 5, 128)        0         \n",
      " 2D)                                                             \n",
      "                                                                 \n",
      " conv2d_3 (Conv2D)           (None, 3, 3, 128)         147584    \n",
      "                                                                 \n",
      " max_pooling2d_3 (MaxPooling  (None, 1, 1, 128)        0         \n",
      " 2D)                                                             \n",
      "                                                                 \n",
      " flatten (Flatten)           (None, 128)               0         \n",
      "                                                                 \n",
      " dropout (Dropout)           (None, 128)               0         \n",
      "                                                                 \n",
      " dense (Dense)               (None, 512)               66048     \n",
      "                                                                 \n",
      " dense_1 (Dense)             (None, 3)                 1539      \n",
      "                                                                 \n",
      "=================================================================\n",
      "Total params: 327,747\n",
      "Trainable params: 327,747\n",
      "Non-trainable params: 0\n",
      "_________________________________________________________________\n"
     ]
    }
   ],
   "source": [
    "model=keras.models.Sequential()\n",
    "\n",
    "model.add(keras.layers.Conv2D(64, (3,3), activation='relu', input_shape=(28,28,3)))\n",
    "model.add(keras.layers.MaxPooling2D(1,1))\n",
    "\n",
    "model.add(keras.layers.Conv2D(64, (3,3), activation='relu'))\n",
    "model.add(keras.layers.MaxPooling2D((2,2)))\n",
    "\n",
    "model.add(keras.layers.Conv2D(128, (3,3), activation='relu'))\n",
    "model.add(keras.layers.MaxPooling2D((2,2)))\n",
    "\n",
    "model.add(keras.layers.Conv2D(128, (3,3), activation='relu'))\n",
    "model.add(keras.layers.MaxPooling2D((2,2)))\n",
    "\n",
    "model.add(keras.layers.Flatten())\n",
    "model.add(keras.layers.Dropout(0.3))\n",
    "model.add(keras.layers.Dense(512, activation='relu'))\n",
    "model.add(keras.layers.Dense(3, activation='softmax'))\n",
    "\n",
    "print('Model에 추가된 Layer 개수: ', len(model.layers))\n",
    "model.summary()"
   ]
  },
  {
   "cell_type": "code",
   "execution_count": 9,
   "id": "90716cf1",
   "metadata": {},
   "outputs": [
    {
     "data": {
      "text/plain": [
       "(300, 28, 28, 3)"
      ]
     },
     "execution_count": 9,
     "metadata": {},
     "output_type": "execute_result"
    }
   ],
   "source": [
    "x_train_norm.shape"
   ]
  },
  {
   "cell_type": "code",
   "execution_count": 10,
   "id": "a4c8756d",
   "metadata": {},
   "outputs": [
    {
     "name": "stdout",
     "output_type": "stream",
     "text": [
      "Epoch 1/300\n",
      "8/8 [==============================] - 2s 103ms/step - loss: 1.0380 - accuracy: 0.4178 - val_loss: 2.5187 - val_accuracy: 0.0000e+00\n",
      "Epoch 2/300\n",
      "8/8 [==============================] - 0s 58ms/step - loss: 0.9739 - accuracy: 0.4400 - val_loss: 2.0199 - val_accuracy: 0.0000e+00\n",
      "Epoch 3/300\n",
      "8/8 [==============================] - 1s 65ms/step - loss: 0.9853 - accuracy: 0.4178 - val_loss: 2.4444 - val_accuracy: 0.0000e+00\n",
      "Epoch 4/300\n",
      "8/8 [==============================] - 1s 66ms/step - loss: 0.9846 - accuracy: 0.4267 - val_loss: 1.9774 - val_accuracy: 0.0000e+00\n",
      "Epoch 5/300\n",
      "8/8 [==============================] - 0s 63ms/step - loss: 0.9875 - accuracy: 0.4444 - val_loss: 1.9695 - val_accuracy: 0.0000e+00\n",
      "Epoch 6/300\n",
      "8/8 [==============================] - 0s 60ms/step - loss: 0.9746 - accuracy: 0.4489 - val_loss: 2.2825 - val_accuracy: 0.0000e+00\n",
      "Epoch 7/300\n",
      "8/8 [==============================] - 0s 61ms/step - loss: 0.9978 - accuracy: 0.4533 - val_loss: 1.9200 - val_accuracy: 0.0000e+00\n",
      "Epoch 8/300\n",
      "8/8 [==============================] - 0s 62ms/step - loss: 0.9826 - accuracy: 0.4622 - val_loss: 1.6087 - val_accuracy: 0.0000e+00\n",
      "Epoch 9/300\n",
      "8/8 [==============================] - 0s 60ms/step - loss: 0.9923 - accuracy: 0.4356 - val_loss: 1.8961 - val_accuracy: 0.0000e+00\n",
      "Epoch 10/300\n",
      "8/8 [==============================] - 0s 60ms/step - loss: 0.9853 - accuracy: 0.4444 - val_loss: 2.0188 - val_accuracy: 0.0000e+00\n",
      "Epoch 11/300\n",
      "8/8 [==============================] - 0s 61ms/step - loss: 1.0073 - accuracy: 0.4400 - val_loss: 1.3976 - val_accuracy: 0.0000e+00\n",
      "Epoch 12/300\n",
      "8/8 [==============================] - 0s 60ms/step - loss: 1.0019 - accuracy: 0.4444 - val_loss: 2.7065 - val_accuracy: 0.0000e+00\n",
      "Epoch 13/300\n",
      "8/8 [==============================] - 0s 61ms/step - loss: 0.9922 - accuracy: 0.4444 - val_loss: 1.9550 - val_accuracy: 0.0000e+00\n",
      "Epoch 14/300\n",
      "8/8 [==============================] - 0s 58ms/step - loss: 0.9767 - accuracy: 0.4311 - val_loss: 2.1249 - val_accuracy: 0.0000e+00\n",
      "Epoch 15/300\n",
      "8/8 [==============================] - 0s 59ms/step - loss: 0.9720 - accuracy: 0.4622 - val_loss: 2.0303 - val_accuracy: 0.0000e+00\n",
      "Epoch 16/300\n",
      "8/8 [==============================] - 0s 61ms/step - loss: 0.9937 - accuracy: 0.4533 - val_loss: 1.4950 - val_accuracy: 0.0000e+00\n",
      "Epoch 17/300\n",
      "8/8 [==============================] - 0s 62ms/step - loss: 0.9945 - accuracy: 0.4800 - val_loss: 2.1604 - val_accuracy: 0.0000e+00\n",
      "Epoch 18/300\n",
      "8/8 [==============================] - 0s 58ms/step - loss: 0.9848 - accuracy: 0.4178 - val_loss: 1.8840 - val_accuracy: 0.0000e+00\n",
      "Epoch 19/300\n",
      "8/8 [==============================] - 0s 59ms/step - loss: 0.9969 - accuracy: 0.4356 - val_loss: 1.5027 - val_accuracy: 0.0000e+00\n",
      "Epoch 20/300\n",
      "8/8 [==============================] - 0s 62ms/step - loss: 0.9944 - accuracy: 0.3956 - val_loss: 2.4911 - val_accuracy: 0.0000e+00\n",
      "Epoch 21/300\n",
      "8/8 [==============================] - 1s 64ms/step - loss: 0.9693 - accuracy: 0.4400 - val_loss: 2.1463 - val_accuracy: 0.0000e+00\n",
      "Epoch 22/300\n",
      "8/8 [==============================] - 0s 61ms/step - loss: 0.9781 - accuracy: 0.4444 - val_loss: 2.2365 - val_accuracy: 0.0000e+00\n",
      "Epoch 23/300\n",
      "8/8 [==============================] - 0s 59ms/step - loss: 0.9725 - accuracy: 0.4356 - val_loss: 2.2884 - val_accuracy: 0.0000e+00\n",
      "Epoch 24/300\n",
      "8/8 [==============================] - 0s 61ms/step - loss: 0.9906 - accuracy: 0.4311 - val_loss: 1.9161 - val_accuracy: 0.0000e+00\n",
      "Epoch 25/300\n",
      "8/8 [==============================] - 1s 71ms/step - loss: 0.9728 - accuracy: 0.4844 - val_loss: 2.0611 - val_accuracy: 0.0000e+00\n",
      "Epoch 26/300\n",
      "8/8 [==============================] - 1s 74ms/step - loss: 0.9551 - accuracy: 0.4622 - val_loss: 2.2557 - val_accuracy: 0.0000e+00\n",
      "Epoch 27/300\n",
      "8/8 [==============================] - 0s 63ms/step - loss: 0.9504 - accuracy: 0.4444 - val_loss: 2.6196 - val_accuracy: 0.0000e+00\n",
      "Epoch 28/300\n",
      "8/8 [==============================] - 1s 67ms/step - loss: 0.9674 - accuracy: 0.4489 - val_loss: 1.6769 - val_accuracy: 0.0000e+00\n",
      "Epoch 29/300\n",
      "8/8 [==============================] - 1s 63ms/step - loss: 1.0001 - accuracy: 0.4444 - val_loss: 1.5344 - val_accuracy: 0.0000e+00\n",
      "Epoch 30/300\n",
      "8/8 [==============================] - 0s 61ms/step - loss: 0.9857 - accuracy: 0.4489 - val_loss: 2.4418 - val_accuracy: 0.0000e+00\n",
      "Epoch 31/300\n",
      "8/8 [==============================] - 0s 61ms/step - loss: 0.9775 - accuracy: 0.4311 - val_loss: 1.8782 - val_accuracy: 0.0000e+00\n",
      "Epoch 32/300\n",
      "8/8 [==============================] - 0s 59ms/step - loss: 0.9790 - accuracy: 0.4444 - val_loss: 1.9503 - val_accuracy: 0.0000e+00\n",
      "Epoch 33/300\n",
      "8/8 [==============================] - 0s 59ms/step - loss: 0.9767 - accuracy: 0.4000 - val_loss: 1.9885 - val_accuracy: 0.0000e+00\n",
      "Epoch 34/300\n",
      "8/8 [==============================] - 0s 58ms/step - loss: 0.9633 - accuracy: 0.4800 - val_loss: 2.5229 - val_accuracy: 0.0000e+00\n",
      "Epoch 35/300\n",
      "8/8 [==============================] - 0s 61ms/step - loss: 0.9709 - accuracy: 0.4356 - val_loss: 2.1541 - val_accuracy: 0.0000e+00\n",
      "Epoch 36/300\n",
      "8/8 [==============================] - 0s 59ms/step - loss: 0.9664 - accuracy: 0.4133 - val_loss: 1.9701 - val_accuracy: 0.0000e+00\n",
      "Epoch 37/300\n",
      "8/8 [==============================] - 0s 59ms/step - loss: 0.9766 - accuracy: 0.4178 - val_loss: 1.7150 - val_accuracy: 0.0000e+00\n",
      "Epoch 38/300\n",
      "8/8 [==============================] - 0s 56ms/step - loss: 0.9840 - accuracy: 0.4178 - val_loss: 2.0530 - val_accuracy: 0.0000e+00\n",
      "Epoch 39/300\n",
      "8/8 [==============================] - 0s 59ms/step - loss: 0.9692 - accuracy: 0.4578 - val_loss: 2.3459 - val_accuracy: 0.0000e+00\n",
      "Epoch 40/300\n",
      "8/8 [==============================] - 0s 59ms/step - loss: 0.9758 - accuracy: 0.4578 - val_loss: 2.0068 - val_accuracy: 0.0000e+00\n",
      "Epoch 41/300\n",
      "8/8 [==============================] - 0s 58ms/step - loss: 0.9728 - accuracy: 0.4489 - val_loss: 2.2022 - val_accuracy: 0.0000e+00\n",
      "Epoch 42/300\n",
      "8/8 [==============================] - 1s 64ms/step - loss: 0.9864 - accuracy: 0.4444 - val_loss: 1.9314 - val_accuracy: 0.0000e+00\n",
      "Epoch 43/300\n",
      "8/8 [==============================] - 1s 71ms/step - loss: 0.9762 - accuracy: 0.4444 - val_loss: 1.7629 - val_accuracy: 0.0000e+00\n",
      "Epoch 44/300\n",
      "8/8 [==============================] - 1s 66ms/step - loss: 0.9775 - accuracy: 0.4533 - val_loss: 1.9525 - val_accuracy: 0.0000e+00\n",
      "Epoch 45/300\n",
      "8/8 [==============================] - 1s 69ms/step - loss: 0.9654 - accuracy: 0.4267 - val_loss: 2.3631 - val_accuracy: 0.0000e+00\n",
      "Epoch 46/300\n",
      "8/8 [==============================] - 0s 61ms/step - loss: 0.9734 - accuracy: 0.4489 - val_loss: 2.3254 - val_accuracy: 0.0000e+00\n",
      "Epoch 47/300\n",
      "8/8 [==============================] - 0s 62ms/step - loss: 0.9696 - accuracy: 0.4489 - val_loss: 2.1251 - val_accuracy: 0.0000e+00\n",
      "Epoch 48/300\n",
      "8/8 [==============================] - 0s 59ms/step - loss: 0.9738 - accuracy: 0.4267 - val_loss: 1.7504 - val_accuracy: 0.0000e+00\n",
      "Epoch 49/300\n",
      "8/8 [==============================] - 0s 61ms/step - loss: 0.9809 - accuracy: 0.4933 - val_loss: 1.7908 - val_accuracy: 0.0000e+00\n",
      "Epoch 50/300\n",
      "8/8 [==============================] - 1s 64ms/step - loss: 0.9759 - accuracy: 0.4222 - val_loss: 1.9546 - val_accuracy: 0.0000e+00\n",
      "Epoch 51/300\n",
      "8/8 [==============================] - 0s 61ms/step - loss: 0.9719 - accuracy: 0.4578 - val_loss: 2.2103 - val_accuracy: 0.0000e+00\n",
      "Epoch 52/300\n",
      "8/8 [==============================] - 0s 61ms/step - loss: 0.9680 - accuracy: 0.4667 - val_loss: 2.2592 - val_accuracy: 0.0000e+00\n",
      "Epoch 53/300\n",
      "8/8 [==============================] - 1s 64ms/step - loss: 0.9742 - accuracy: 0.4444 - val_loss: 2.3004 - val_accuracy: 0.0000e+00\n",
      "Epoch 54/300\n",
      "8/8 [==============================] - 0s 61ms/step - loss: 0.9650 - accuracy: 0.4622 - val_loss: 2.2109 - val_accuracy: 0.0000e+00\n",
      "Epoch 55/300\n",
      "8/8 [==============================] - 1s 63ms/step - loss: 0.9671 - accuracy: 0.4267 - val_loss: 2.2118 - val_accuracy: 0.0000e+00\n",
      "Epoch 56/300\n",
      "8/8 [==============================] - 0s 63ms/step - loss: 0.9708 - accuracy: 0.4000 - val_loss: 2.1561 - val_accuracy: 0.0000e+00\n",
      "Epoch 57/300\n"
     ]
    },
    {
     "name": "stdout",
     "output_type": "stream",
     "text": [
      "8/8 [==============================] - 0s 61ms/step - loss: 0.9704 - accuracy: 0.4178 - val_loss: 2.2931 - val_accuracy: 0.0000e+00\n",
      "Epoch 58/300\n",
      "8/8 [==============================] - 0s 61ms/step - loss: 0.9689 - accuracy: 0.4356 - val_loss: 2.1068 - val_accuracy: 0.0000e+00\n",
      "Epoch 59/300\n",
      "8/8 [==============================] - 1s 63ms/step - loss: 0.9698 - accuracy: 0.4444 - val_loss: 1.8287 - val_accuracy: 0.0000e+00\n",
      "Epoch 60/300\n",
      "8/8 [==============================] - 0s 62ms/step - loss: 0.9762 - accuracy: 0.4444 - val_loss: 1.8481 - val_accuracy: 0.0000e+00\n",
      "Epoch 61/300\n",
      "8/8 [==============================] - 0s 63ms/step - loss: 0.9782 - accuracy: 0.4444 - val_loss: 1.8090 - val_accuracy: 0.0000e+00\n",
      "Epoch 62/300\n",
      "8/8 [==============================] - 0s 60ms/step - loss: 0.9761 - accuracy: 0.4444 - val_loss: 1.8595 - val_accuracy: 0.0000e+00\n",
      "Epoch 63/300\n",
      "8/8 [==============================] - 0s 62ms/step - loss: 0.9750 - accuracy: 0.4444 - val_loss: 1.8925 - val_accuracy: 0.0000e+00\n",
      "Epoch 64/300\n",
      "8/8 [==============================] - 0s 61ms/step - loss: 0.9725 - accuracy: 0.4444 - val_loss: 2.0825 - val_accuracy: 0.0000e+00\n",
      "Epoch 65/300\n",
      "8/8 [==============================] - 0s 61ms/step - loss: 0.9704 - accuracy: 0.4178 - val_loss: 2.1865 - val_accuracy: 0.0000e+00\n",
      "Epoch 66/300\n",
      "8/8 [==============================] - 0s 61ms/step - loss: 0.9674 - accuracy: 0.4533 - val_loss: 2.2478 - val_accuracy: 0.0000e+00\n",
      "Epoch 67/300\n",
      "8/8 [==============================] - 0s 62ms/step - loss: 0.9699 - accuracy: 0.4356 - val_loss: 2.3884 - val_accuracy: 0.0000e+00\n",
      "Epoch 68/300\n",
      "8/8 [==============================] - 0s 62ms/step - loss: 0.9712 - accuracy: 0.4444 - val_loss: 2.2504 - val_accuracy: 0.0000e+00\n",
      "Epoch 69/300\n",
      "8/8 [==============================] - 0s 60ms/step - loss: 0.9628 - accuracy: 0.4533 - val_loss: 2.1467 - val_accuracy: 0.0000e+00\n",
      "Epoch 70/300\n",
      "8/8 [==============================] - 0s 63ms/step - loss: 0.9658 - accuracy: 0.4533 - val_loss: 1.9574 - val_accuracy: 0.0000e+00\n",
      "Epoch 71/300\n",
      "8/8 [==============================] - 0s 61ms/step - loss: 0.9702 - accuracy: 0.4489 - val_loss: 1.9589 - val_accuracy: 0.0000e+00\n",
      "Epoch 72/300\n",
      "8/8 [==============================] - 0s 61ms/step - loss: 0.9663 - accuracy: 0.4711 - val_loss: 2.0739 - val_accuracy: 0.0000e+00\n",
      "Epoch 73/300\n",
      "8/8 [==============================] - 1s 64ms/step - loss: 0.9725 - accuracy: 0.4444 - val_loss: 2.2589 - val_accuracy: 0.0000e+00\n",
      "Epoch 74/300\n",
      "8/8 [==============================] - 0s 62ms/step - loss: 0.9721 - accuracy: 0.4444 - val_loss: 2.2073 - val_accuracy: 0.0000e+00\n",
      "Epoch 75/300\n",
      "8/8 [==============================] - 0s 62ms/step - loss: 0.9712 - accuracy: 0.4444 - val_loss: 2.2019 - val_accuracy: 0.0000e+00\n",
      "Epoch 76/300\n",
      "8/8 [==============================] - 1s 66ms/step - loss: 0.9754 - accuracy: 0.4444 - val_loss: 2.2537 - val_accuracy: 0.0000e+00\n",
      "Epoch 77/300\n",
      "8/8 [==============================] - 1s 77ms/step - loss: 0.9717 - accuracy: 0.4444 - val_loss: 2.2260 - val_accuracy: 0.0000e+00\n",
      "Epoch 78/300\n",
      "8/8 [==============================] - 1s 83ms/step - loss: 0.9786 - accuracy: 0.4444 - val_loss: 2.2277 - val_accuracy: 0.0000e+00\n",
      "Epoch 79/300\n",
      "8/8 [==============================] - 1s 67ms/step - loss: 0.9688 - accuracy: 0.4444 - val_loss: 2.1742 - val_accuracy: 0.0000e+00\n",
      "Epoch 80/300\n",
      "8/8 [==============================] - 1s 79ms/step - loss: 0.9690 - accuracy: 0.4444 - val_loss: 2.2298 - val_accuracy: 0.0000e+00\n",
      "Epoch 81/300\n",
      "8/8 [==============================] - 1s 67ms/step - loss: 0.9627 - accuracy: 0.4667 - val_loss: 2.2223 - val_accuracy: 0.0000e+00\n",
      "Epoch 82/300\n",
      "8/8 [==============================] - 1s 72ms/step - loss: 0.9651 - accuracy: 0.4400 - val_loss: 2.3026 - val_accuracy: 0.0000e+00\n",
      "Epoch 83/300\n",
      "8/8 [==============================] - 1s 70ms/step - loss: 0.9639 - accuracy: 0.4622 - val_loss: 2.3209 - val_accuracy: 0.0000e+00\n",
      "Epoch 84/300\n",
      "8/8 [==============================] - 1s 71ms/step - loss: 0.9659 - accuracy: 0.4444 - val_loss: 2.3154 - val_accuracy: 0.0000e+00\n",
      "Epoch 85/300\n",
      "8/8 [==============================] - 1s 65ms/step - loss: 0.9668 - accuracy: 0.4444 - val_loss: 2.3008 - val_accuracy: 0.0000e+00\n",
      "Epoch 86/300\n",
      "8/8 [==============================] - 1s 79ms/step - loss: 0.9704 - accuracy: 0.4444 - val_loss: 2.3045 - val_accuracy: 0.0000e+00\n",
      "Epoch 87/300\n",
      "8/8 [==============================] - 1s 68ms/step - loss: 0.9647 - accuracy: 0.4444 - val_loss: 2.2978 - val_accuracy: 0.0000e+00\n",
      "Epoch 88/300\n",
      "8/8 [==============================] - 1s 72ms/step - loss: 0.9661 - accuracy: 0.4444 - val_loss: 2.2270 - val_accuracy: 0.0000e+00\n",
      "Epoch 89/300\n",
      "8/8 [==============================] - 1s 71ms/step - loss: 0.9600 - accuracy: 0.4444 - val_loss: 2.1983 - val_accuracy: 0.0000e+00\n",
      "Epoch 90/300\n",
      "8/8 [==============================] - 1s 69ms/step - loss: 0.9605 - accuracy: 0.4533 - val_loss: 2.4055 - val_accuracy: 0.0000e+00\n",
      "Epoch 91/300\n",
      "8/8 [==============================] - 1s 71ms/step - loss: 0.9574 - accuracy: 0.4489 - val_loss: 2.5921 - val_accuracy: 0.0000e+00\n",
      "Epoch 92/300\n",
      "8/8 [==============================] - 1s 78ms/step - loss: 0.9809 - accuracy: 0.4711 - val_loss: 2.5296 - val_accuracy: 0.0000e+00\n",
      "Epoch 93/300\n",
      "8/8 [==============================] - 1s 68ms/step - loss: 0.9730 - accuracy: 0.4311 - val_loss: 2.2432 - val_accuracy: 0.0000e+00\n",
      "Epoch 94/300\n",
      "8/8 [==============================] - 0s 61ms/step - loss: 0.9678 - accuracy: 0.4444 - val_loss: 2.2065 - val_accuracy: 0.0000e+00\n",
      "Epoch 95/300\n",
      "8/8 [==============================] - 0s 62ms/step - loss: 0.9666 - accuracy: 0.4444 - val_loss: 2.2288 - val_accuracy: 0.0000e+00\n",
      "Epoch 96/300\n",
      "8/8 [==============================] - 1s 66ms/step - loss: 0.9634 - accuracy: 0.4444 - val_loss: 2.2942 - val_accuracy: 0.0000e+00\n",
      "Epoch 97/300\n",
      "8/8 [==============================] - 1s 102ms/step - loss: 0.9663 - accuracy: 0.4400 - val_loss: 2.2481 - val_accuracy: 0.0000e+00\n",
      "Epoch 98/300\n",
      "8/8 [==============================] - 1s 75ms/step - loss: 0.9553 - accuracy: 0.4978 - val_loss: 2.9242 - val_accuracy: 0.0000e+00\n",
      "Epoch 99/300\n",
      "8/8 [==============================] - 1s 68ms/step - loss: 0.9729 - accuracy: 0.4578 - val_loss: 2.0859 - val_accuracy: 0.0000e+00\n",
      "Epoch 100/300\n",
      "8/8 [==============================] - 1s 66ms/step - loss: 0.9621 - accuracy: 0.4533 - val_loss: 2.3153 - val_accuracy: 0.0000e+00\n",
      "Epoch 101/300\n",
      "8/8 [==============================] - 1s 73ms/step - loss: 0.9630 - accuracy: 0.4444 - val_loss: 2.1583 - val_accuracy: 0.0000e+00\n",
      "Epoch 102/300\n",
      "8/8 [==============================] - 1s 104ms/step - loss: 0.9628 - accuracy: 0.4444 - val_loss: 2.0173 - val_accuracy: 0.0000e+00\n",
      "Epoch 103/300\n",
      "8/8 [==============================] - 1s 62ms/step - loss: 0.9709 - accuracy: 0.4267 - val_loss: 1.8542 - val_accuracy: 0.0000e+00\n",
      "Epoch 104/300\n",
      "8/8 [==============================] - 0s 55ms/step - loss: 0.9717 - accuracy: 0.4400 - val_loss: 1.8930 - val_accuracy: 0.0000e+00\n",
      "Epoch 105/300\n",
      "8/8 [==============================] - 0s 59ms/step - loss: 0.9712 - accuracy: 0.4444 - val_loss: 2.0417 - val_accuracy: 0.0000e+00\n",
      "Epoch 106/300\n",
      "8/8 [==============================] - 0s 53ms/step - loss: 0.9711 - accuracy: 0.4889 - val_loss: 2.2043 - val_accuracy: 0.0000e+00\n",
      "Epoch 107/300\n",
      "8/8 [==============================] - 0s 55ms/step - loss: 0.9703 - accuracy: 0.4489 - val_loss: 2.1551 - val_accuracy: 0.0000e+00\n",
      "Epoch 108/300\n",
      "8/8 [==============================] - 0s 52ms/step - loss: 0.9649 - accuracy: 0.4444 - val_loss: 1.9301 - val_accuracy: 0.0000e+00\n",
      "Epoch 109/300\n",
      "8/8 [==============================] - 0s 51ms/step - loss: 0.9724 - accuracy: 0.4444 - val_loss: 1.8386 - val_accuracy: 0.0000e+00\n",
      "Epoch 110/300\n",
      "8/8 [==============================] - 0s 55ms/step - loss: 0.9735 - accuracy: 0.4444 - val_loss: 1.8696 - val_accuracy: 0.0000e+00\n",
      "Epoch 111/300\n",
      "8/8 [==============================] - 1s 63ms/step - loss: 0.9727 - accuracy: 0.4444 - val_loss: 1.9384 - val_accuracy: 0.0000e+00\n",
      "Epoch 112/300\n",
      "8/8 [==============================] - 1s 84ms/step - loss: 0.9683 - accuracy: 0.4444 - val_loss: 2.6088 - val_accuracy: 0.0000e+00\n",
      "Epoch 113/300\n"
     ]
    },
    {
     "name": "stdout",
     "output_type": "stream",
     "text": [
      "8/8 [==============================] - 1s 98ms/step - loss: 0.9961 - accuracy: 0.4444 - val_loss: 2.0009 - val_accuracy: 0.0000e+00\n",
      "Epoch 114/300\n",
      "8/8 [==============================] - 1s 95ms/step - loss: 0.9724 - accuracy: 0.4578 - val_loss: 1.8851 - val_accuracy: 0.0000e+00\n",
      "Epoch 115/300\n",
      "8/8 [==============================] - 1s 90ms/step - loss: 0.9721 - accuracy: 0.4044 - val_loss: 1.9390 - val_accuracy: 0.0000e+00\n",
      "Epoch 116/300\n",
      "8/8 [==============================] - 1s 86ms/step - loss: 0.9693 - accuracy: 0.4622 - val_loss: 2.0741 - val_accuracy: 0.0000e+00\n",
      "Epoch 117/300\n",
      "8/8 [==============================] - 1s 86ms/step - loss: 0.9678 - accuracy: 0.4444 - val_loss: 2.2426 - val_accuracy: 0.0000e+00\n",
      "Epoch 118/300\n",
      "8/8 [==============================] - 1s 78ms/step - loss: 0.9744 - accuracy: 0.4444 - val_loss: 2.2757 - val_accuracy: 0.0000e+00\n",
      "Epoch 119/300\n",
      "8/8 [==============================] - 1s 76ms/step - loss: 0.9669 - accuracy: 0.4489 - val_loss: 2.2416 - val_accuracy: 0.0000e+00\n",
      "Epoch 120/300\n",
      "8/8 [==============================] - 1s 70ms/step - loss: 0.9677 - accuracy: 0.4400 - val_loss: 2.1586 - val_accuracy: 0.0000e+00\n",
      "Epoch 121/300\n",
      "8/8 [==============================] - 1s 69ms/step - loss: 0.9731 - accuracy: 0.4444 - val_loss: 1.9286 - val_accuracy: 0.0000e+00\n",
      "Epoch 122/300\n",
      "8/8 [==============================] - 1s 67ms/step - loss: 0.9693 - accuracy: 0.4444 - val_loss: 1.9209 - val_accuracy: 0.0000e+00\n",
      "Epoch 123/300\n",
      "8/8 [==============================] - 1s 64ms/step - loss: 0.9710 - accuracy: 0.4444 - val_loss: 1.8856 - val_accuracy: 0.0000e+00\n",
      "Epoch 124/300\n",
      "8/8 [==============================] - 1s 67ms/step - loss: 0.9716 - accuracy: 0.4444 - val_loss: 1.9326 - val_accuracy: 0.0000e+00\n",
      "Epoch 125/300\n",
      "8/8 [==============================] - 1s 65ms/step - loss: 0.9688 - accuracy: 0.4400 - val_loss: 1.9912 - val_accuracy: 0.0000e+00\n",
      "Epoch 126/300\n",
      "8/8 [==============================] - 1s 78ms/step - loss: 0.9658 - accuracy: 0.4578 - val_loss: 2.0464 - val_accuracy: 0.0000e+00\n",
      "Epoch 127/300\n",
      "8/8 [==============================] - 1s 65ms/step - loss: 0.9675 - accuracy: 0.4444 - val_loss: 1.9707 - val_accuracy: 0.0000e+00\n",
      "Epoch 128/300\n",
      "8/8 [==============================] - 1s 68ms/step - loss: 0.9674 - accuracy: 0.4489 - val_loss: 2.0068 - val_accuracy: 0.0000e+00\n",
      "Epoch 129/300\n",
      "8/8 [==============================] - 1s 66ms/step - loss: 0.9637 - accuracy: 0.4533 - val_loss: 2.0876 - val_accuracy: 0.0000e+00\n",
      "Epoch 130/300\n",
      "8/8 [==============================] - 1s 68ms/step - loss: 0.9640 - accuracy: 0.4578 - val_loss: 2.1663 - val_accuracy: 0.0000e+00\n",
      "Epoch 131/300\n",
      "8/8 [==============================] - 1s 64ms/step - loss: 0.9612 - accuracy: 0.4444 - val_loss: 2.2392 - val_accuracy: 0.0000e+00\n",
      "Epoch 132/300\n",
      "8/8 [==============================] - 1s 65ms/step - loss: 0.9636 - accuracy: 0.4444 - val_loss: 2.2865 - val_accuracy: 0.0000e+00\n",
      "Epoch 133/300\n",
      "8/8 [==============================] - 1s 63ms/step - loss: 0.9625 - accuracy: 0.4444 - val_loss: 2.2787 - val_accuracy: 0.0000e+00\n",
      "Epoch 134/300\n",
      "8/8 [==============================] - 1s 67ms/step - loss: 0.9626 - accuracy: 0.4667 - val_loss: 2.2404 - val_accuracy: 0.0000e+00\n",
      "Epoch 135/300\n",
      "8/8 [==============================] - 1s 68ms/step - loss: 0.9584 - accuracy: 0.4622 - val_loss: 2.2941 - val_accuracy: 0.0000e+00\n",
      "Epoch 136/300\n",
      "8/8 [==============================] - 1s 90ms/step - loss: 0.9634 - accuracy: 0.4444 - val_loss: 2.2964 - val_accuracy: 0.0000e+00\n",
      "Epoch 137/300\n",
      "8/8 [==============================] - 1s 75ms/step - loss: 0.9601 - accuracy: 0.4489 - val_loss: 2.2411 - val_accuracy: 0.0000e+00\n",
      "Epoch 138/300\n",
      "8/8 [==============================] - 1s 80ms/step - loss: 0.9570 - accuracy: 0.4444 - val_loss: 2.2838 - val_accuracy: 0.0000e+00\n",
      "Epoch 139/300\n",
      "8/8 [==============================] - 1s 66ms/step - loss: 0.9563 - accuracy: 0.4578 - val_loss: 2.2675 - val_accuracy: 0.0000e+00\n",
      "Epoch 140/300\n",
      "8/8 [==============================] - 1s 73ms/step - loss: 0.9530 - accuracy: 0.4622 - val_loss: 2.3631 - val_accuracy: 0.0000e+00\n",
      "Epoch 141/300\n",
      "8/8 [==============================] - 1s 84ms/step - loss: 0.9575 - accuracy: 0.4489 - val_loss: 2.0637 - val_accuracy: 0.0000e+00\n",
      "Epoch 142/300\n",
      "8/8 [==============================] - 1s 88ms/step - loss: 0.9740 - accuracy: 0.3911 - val_loss: 1.8655 - val_accuracy: 0.0000e+00\n",
      "Epoch 143/300\n",
      "8/8 [==============================] - 1s 74ms/step - loss: 0.9731 - accuracy: 0.4533 - val_loss: 2.0163 - val_accuracy: 0.0000e+00\n",
      "Epoch 144/300\n",
      "8/8 [==============================] - 1s 68ms/step - loss: 0.9657 - accuracy: 0.4533 - val_loss: 2.1047 - val_accuracy: 0.0000e+00\n",
      "Epoch 145/300\n",
      "8/8 [==============================] - 1s 71ms/step - loss: 0.9802 - accuracy: 0.3822 - val_loss: 2.1754 - val_accuracy: 0.0000e+00\n",
      "Epoch 146/300\n",
      "8/8 [==============================] - 1s 63ms/step - loss: 0.9676 - accuracy: 0.4311 - val_loss: 2.2123 - val_accuracy: 0.0000e+00\n",
      "Epoch 147/300\n",
      "8/8 [==============================] - 1s 65ms/step - loss: 0.9658 - accuracy: 0.4489 - val_loss: 2.0087 - val_accuracy: 0.0000e+00\n",
      "Epoch 148/300\n",
      "8/8 [==============================] - 1s 66ms/step - loss: 0.9667 - accuracy: 0.4444 - val_loss: 1.9806 - val_accuracy: 0.0000e+00\n",
      "Epoch 149/300\n",
      "8/8 [==============================] - 1s 78ms/step - loss: 0.9689 - accuracy: 0.4444 - val_loss: 2.0726 - val_accuracy: 0.0000e+00\n",
      "Epoch 150/300\n",
      "8/8 [==============================] - 1s 66ms/step - loss: 0.9678 - accuracy: 0.4489 - val_loss: 2.1359 - val_accuracy: 0.0000e+00\n",
      "Epoch 151/300\n",
      "8/8 [==============================] - 1s 64ms/step - loss: 0.9671 - accuracy: 0.4444 - val_loss: 2.2098 - val_accuracy: 0.0000e+00\n",
      "Epoch 152/300\n",
      "8/8 [==============================] - 0s 61ms/step - loss: 0.9663 - accuracy: 0.4356 - val_loss: 2.2868 - val_accuracy: 0.0000e+00\n",
      "Epoch 153/300\n",
      "8/8 [==============================] - 0s 62ms/step - loss: 0.9704 - accuracy: 0.4444 - val_loss: 2.2343 - val_accuracy: 0.0000e+00\n",
      "Epoch 154/300\n",
      "8/8 [==============================] - 1s 65ms/step - loss: 0.9705 - accuracy: 0.4444 - val_loss: 2.0097 - val_accuracy: 0.0000e+00\n",
      "Epoch 155/300\n",
      "8/8 [==============================] - 1s 68ms/step - loss: 0.9701 - accuracy: 0.4444 - val_loss: 1.9919 - val_accuracy: 0.0000e+00\n",
      "Epoch 156/300\n",
      "8/8 [==============================] - 1s 65ms/step - loss: 0.9674 - accuracy: 0.4444 - val_loss: 2.0287 - val_accuracy: 0.0000e+00\n",
      "Epoch 157/300\n",
      "8/8 [==============================] - 1s 65ms/step - loss: 0.9679 - accuracy: 0.4222 - val_loss: 2.1118 - val_accuracy: 0.0000e+00\n",
      "Epoch 158/300\n",
      "8/8 [==============================] - 0s 62ms/step - loss: 0.9676 - accuracy: 0.4622 - val_loss: 2.1804 - val_accuracy: 0.0000e+00\n",
      "Epoch 159/300\n",
      "8/8 [==============================] - 1s 65ms/step - loss: 0.9671 - accuracy: 0.4444 - val_loss: 2.1461 - val_accuracy: 0.0000e+00\n",
      "Epoch 160/300\n",
      "8/8 [==============================] - 1s 63ms/step - loss: 0.9649 - accuracy: 0.4311 - val_loss: 2.0562 - val_accuracy: 0.0000e+00\n",
      "Epoch 161/300\n",
      "8/8 [==============================] - 0s 63ms/step - loss: 0.9692 - accuracy: 0.3689 - val_loss: 2.0412 - val_accuracy: 0.0000e+00\n",
      "Epoch 162/300\n",
      "8/8 [==============================] - 1s 65ms/step - loss: 0.9670 - accuracy: 0.4444 - val_loss: 2.0575 - val_accuracy: 0.0000e+00\n",
      "Epoch 163/300\n",
      "8/8 [==============================] - 0s 63ms/step - loss: 0.9678 - accuracy: 0.4444 - val_loss: 2.0891 - val_accuracy: 0.0000e+00\n",
      "Epoch 164/300\n",
      "8/8 [==============================] - 1s 74ms/step - loss: 0.9675 - accuracy: 0.4444 - val_loss: 2.1375 - val_accuracy: 0.0000e+00\n",
      "Epoch 165/300\n",
      "8/8 [==============================] - 1s 68ms/step - loss: 0.9670 - accuracy: 0.4444 - val_loss: 2.1766 - val_accuracy: 0.0000e+00\n",
      "Epoch 166/300\n",
      "8/8 [==============================] - 1s 68ms/step - loss: 0.9666 - accuracy: 0.4444 - val_loss: 2.2214 - val_accuracy: 0.0000e+00\n",
      "Epoch 167/300\n",
      "8/8 [==============================] - 1s 73ms/step - loss: 0.9669 - accuracy: 0.4444 - val_loss: 2.2422 - val_accuracy: 0.0000e+00\n",
      "Epoch 168/300\n",
      "8/8 [==============================] - 1s 82ms/step - loss: 0.9653 - accuracy: 0.4444 - val_loss: 2.2569 - val_accuracy: 0.0000e+00\n",
      "Epoch 169/300\n"
     ]
    },
    {
     "name": "stdout",
     "output_type": "stream",
     "text": [
      "8/8 [==============================] - 1s 80ms/step - loss: 0.9668 - accuracy: 0.4444 - val_loss: 2.2837 - val_accuracy: 0.0000e+00\n",
      "Epoch 170/300\n",
      "8/8 [==============================] - 1s 76ms/step - loss: 0.9653 - accuracy: 0.4311 - val_loss: 2.2743 - val_accuracy: 0.0000e+00\n",
      "Epoch 171/300\n",
      "8/8 [==============================] - 1s 83ms/step - loss: 0.9662 - accuracy: 0.4089 - val_loss: 2.2933 - val_accuracy: 0.0000e+00\n",
      "Epoch 172/300\n",
      "8/8 [==============================] - 1s 84ms/step - loss: 0.9642 - accuracy: 0.4711 - val_loss: 2.2947 - val_accuracy: 0.0000e+00\n",
      "Epoch 173/300\n",
      "8/8 [==============================] - 1s 72ms/step - loss: 0.9677 - accuracy: 0.4533 - val_loss: 2.2693 - val_accuracy: 0.0000e+00\n",
      "Epoch 174/300\n",
      "8/8 [==============================] - 0s 63ms/step - loss: 0.9655 - accuracy: 0.4533 - val_loss: 2.1220 - val_accuracy: 0.0000e+00\n",
      "Epoch 175/300\n",
      "8/8 [==============================] - 1s 72ms/step - loss: 0.9649 - accuracy: 0.4444 - val_loss: 2.0969 - val_accuracy: 0.0000e+00\n",
      "Epoch 176/300\n",
      "8/8 [==============================] - 1s 102ms/step - loss: 0.9654 - accuracy: 0.4444 - val_loss: 2.1071 - val_accuracy: 0.0000e+00\n",
      "Epoch 177/300\n",
      "8/8 [==============================] - 1s 68ms/step - loss: 0.9658 - accuracy: 0.4444 - val_loss: 2.1362 - val_accuracy: 0.0000e+00\n",
      "Epoch 178/300\n",
      "8/8 [==============================] - 1s 75ms/step - loss: 0.9671 - accuracy: 0.4444 - val_loss: 2.1542 - val_accuracy: 0.0000e+00\n",
      "Epoch 179/300\n",
      "8/8 [==============================] - 1s 62ms/step - loss: 0.9671 - accuracy: 0.4444 - val_loss: 2.0831 - val_accuracy: 0.0000e+00\n",
      "Epoch 180/300\n",
      "8/8 [==============================] - 1s 60ms/step - loss: 0.9672 - accuracy: 0.4444 - val_loss: 2.0685 - val_accuracy: 0.0000e+00\n",
      "Epoch 181/300\n",
      "8/8 [==============================] - 1s 61ms/step - loss: 0.9668 - accuracy: 0.4444 - val_loss: 2.0881 - val_accuracy: 0.0000e+00\n",
      "Epoch 182/300\n",
      "8/8 [==============================] - 1s 66ms/step - loss: 0.9651 - accuracy: 0.4444 - val_loss: 2.1252 - val_accuracy: 0.0000e+00\n",
      "Epoch 183/300\n",
      "8/8 [==============================] - 1s 65ms/step - loss: 0.9656 - accuracy: 0.4444 - val_loss: 2.1588 - val_accuracy: 0.0000e+00\n",
      "Epoch 184/300\n",
      "8/8 [==============================] - 1s 80ms/step - loss: 0.9657 - accuracy: 0.4444 - val_loss: 2.1849 - val_accuracy: 0.0000e+00\n",
      "Epoch 185/300\n",
      "8/8 [==============================] - 1s 64ms/step - loss: 0.9674 - accuracy: 0.4444 - val_loss: 2.2239 - val_accuracy: 0.0000e+00\n",
      "Epoch 186/300\n",
      "8/8 [==============================] - 0s 59ms/step - loss: 0.9683 - accuracy: 0.4444 - val_loss: 2.2485 - val_accuracy: 0.0000e+00\n",
      "Epoch 187/300\n",
      "8/8 [==============================] - 0s 60ms/step - loss: 0.9689 - accuracy: 0.4444 - val_loss: 2.2580 - val_accuracy: 0.0000e+00\n",
      "Epoch 188/300\n",
      "8/8 [==============================] - 0s 57ms/step - loss: 0.9683 - accuracy: 0.4444 - val_loss: 2.2716 - val_accuracy: 0.0000e+00\n",
      "Epoch 189/300\n",
      "8/8 [==============================] - 0s 60ms/step - loss: 0.9667 - accuracy: 0.4444 - val_loss: 2.2865 - val_accuracy: 0.0000e+00\n",
      "Epoch 190/300\n",
      "8/8 [==============================] - 0s 57ms/step - loss: 0.9678 - accuracy: 0.4444 - val_loss: 2.3018 - val_accuracy: 0.0000e+00\n",
      "Epoch 191/300\n",
      "8/8 [==============================] - 0s 57ms/step - loss: 0.9694 - accuracy: 0.4444 - val_loss: 2.2788 - val_accuracy: 0.0000e+00\n",
      "Epoch 192/300\n",
      "8/8 [==============================] - 0s 59ms/step - loss: 0.9669 - accuracy: 0.4444 - val_loss: 2.1770 - val_accuracy: 0.0000e+00\n",
      "Epoch 193/300\n",
      "8/8 [==============================] - 0s 57ms/step - loss: 0.9660 - accuracy: 0.4444 - val_loss: 2.1441 - val_accuracy: 0.0000e+00\n",
      "Epoch 194/300\n",
      "8/8 [==============================] - 1s 66ms/step - loss: 0.9637 - accuracy: 0.4444 - val_loss: 2.1435 - val_accuracy: 0.0000e+00\n",
      "Epoch 195/300\n",
      "8/8 [==============================] - 1s 67ms/step - loss: 0.9638 - accuracy: 0.4311 - val_loss: 2.1690 - val_accuracy: 0.0000e+00\n",
      "Epoch 196/300\n",
      "8/8 [==============================] - 1s 100ms/step - loss: 0.9660 - accuracy: 0.4444 - val_loss: 2.2003 - val_accuracy: 0.0000e+00\n",
      "Epoch 197/300\n",
      "8/8 [==============================] - 1s 75ms/step - loss: 0.9646 - accuracy: 0.4444 - val_loss: 2.2264 - val_accuracy: 0.0000e+00\n",
      "Epoch 198/300\n",
      "8/8 [==============================] - 1s 66ms/step - loss: 0.9645 - accuracy: 0.4444 - val_loss: 2.2476 - val_accuracy: 0.0000e+00\n",
      "Epoch 199/300\n",
      "8/8 [==============================] - 1s 64ms/step - loss: 0.9651 - accuracy: 0.4444 - val_loss: 2.2683 - val_accuracy: 0.0000e+00\n",
      "Epoch 200/300\n",
      "8/8 [==============================] - 1s 65ms/step - loss: 0.9638 - accuracy: 0.4444 - val_loss: 2.2556 - val_accuracy: 0.0000e+00\n",
      "Epoch 201/300\n",
      "8/8 [==============================] - 1s 66ms/step - loss: 0.9651 - accuracy: 0.4444 - val_loss: 2.1416 - val_accuracy: 0.0000e+00\n",
      "Epoch 202/300\n",
      "8/8 [==============================] - 0s 63ms/step - loss: 0.9639 - accuracy: 0.4444 - val_loss: 2.1196 - val_accuracy: 0.0000e+00\n",
      "Epoch 203/300\n",
      "8/8 [==============================] - 0s 61ms/step - loss: 0.9651 - accuracy: 0.4444 - val_loss: 2.1197 - val_accuracy: 0.0000e+00\n",
      "Epoch 204/300\n",
      "8/8 [==============================] - 0s 59ms/step - loss: 0.9679 - accuracy: 0.4444 - val_loss: 2.0238 - val_accuracy: 0.0000e+00\n",
      "Epoch 205/300\n",
      "8/8 [==============================] - 1s 64ms/step - loss: 0.9688 - accuracy: 0.4444 - val_loss: 2.0243 - val_accuracy: 0.0000e+00\n",
      "Epoch 206/300\n",
      "8/8 [==============================] - 1s 71ms/step - loss: 0.9671 - accuracy: 0.4444 - val_loss: 2.0610 - val_accuracy: 0.0000e+00\n",
      "Epoch 207/300\n",
      "8/8 [==============================] - 1s 78ms/step - loss: 0.9667 - accuracy: 0.4444 - val_loss: 2.1027 - val_accuracy: 0.0000e+00\n",
      "Epoch 208/300\n",
      "8/8 [==============================] - 1s 92ms/step - loss: 0.9653 - accuracy: 0.4444 - val_loss: 2.1356 - val_accuracy: 0.0000e+00\n",
      "Epoch 209/300\n",
      "8/8 [==============================] - 1s 98ms/step - loss: 0.9641 - accuracy: 0.4444 - val_loss: 2.1471 - val_accuracy: 0.0000e+00\n",
      "Epoch 210/300\n",
      "8/8 [==============================] - 1s 85ms/step - loss: 0.9662 - accuracy: 0.4533 - val_loss: 2.0521 - val_accuracy: 0.0000e+00\n",
      "Epoch 211/300\n",
      "8/8 [==============================] - 1s 78ms/step - loss: 0.9653 - accuracy: 0.4356 - val_loss: 2.0453 - val_accuracy: 0.0000e+00\n",
      "Epoch 212/300\n",
      "8/8 [==============================] - 1s 95ms/step - loss: 0.9658 - accuracy: 0.4444 - val_loss: 2.0809 - val_accuracy: 0.0000e+00\n",
      "Epoch 213/300\n",
      "8/8 [==============================] - 1s 90ms/step - loss: 0.9649 - accuracy: 0.4444 - val_loss: 2.1007 - val_accuracy: 0.0000e+00\n",
      "Epoch 214/300\n",
      "8/8 [==============================] - 1s 75ms/step - loss: 0.9664 - accuracy: 0.4444 - val_loss: 2.0190 - val_accuracy: 0.0000e+00\n",
      "Epoch 215/300\n",
      "8/8 [==============================] - 1s 79ms/step - loss: 0.9659 - accuracy: 0.4444 - val_loss: 2.0321 - val_accuracy: 0.0000e+00\n",
      "Epoch 216/300\n",
      "8/8 [==============================] - 1s 85ms/step - loss: 0.9655 - accuracy: 0.4444 - val_loss: 2.0711 - val_accuracy: 0.0000e+00\n",
      "Epoch 217/300\n",
      "8/8 [==============================] - 1s 79ms/step - loss: 0.9642 - accuracy: 0.4444 - val_loss: 2.1137 - val_accuracy: 0.0000e+00\n",
      "Epoch 218/300\n",
      "8/8 [==============================] - 1s 84ms/step - loss: 0.9643 - accuracy: 0.4444 - val_loss: 2.1509 - val_accuracy: 0.0000e+00\n",
      "Epoch 219/300\n",
      "8/8 [==============================] - 1s 66ms/step - loss: 0.9639 - accuracy: 0.4444 - val_loss: 2.1966 - val_accuracy: 0.0000e+00\n",
      "Epoch 220/300\n",
      "8/8 [==============================] - 0s 62ms/step - loss: 0.9647 - accuracy: 0.4444 - val_loss: 2.2318 - val_accuracy: 0.0000e+00\n",
      "Epoch 221/300\n",
      "8/8 [==============================] - 1s 87ms/step - loss: 0.9637 - accuracy: 0.4444 - val_loss: 2.2547 - val_accuracy: 0.0000e+00\n",
      "Epoch 222/300\n",
      "8/8 [==============================] - 1s 80ms/step - loss: 0.9634 - accuracy: 0.4444 - val_loss: 2.2754 - val_accuracy: 0.0000e+00\n",
      "Epoch 223/300\n",
      "8/8 [==============================] - 0s 60ms/step - loss: 0.9643 - accuracy: 0.4667 - val_loss: 2.2867 - val_accuracy: 0.0000e+00\n",
      "Epoch 224/300\n",
      "8/8 [==============================] - 1s 65ms/step - loss: 0.9650 - accuracy: 0.4444 - val_loss: 2.2972 - val_accuracy: 0.0000e+00\n",
      "Epoch 225/300\n"
     ]
    },
    {
     "name": "stdout",
     "output_type": "stream",
     "text": [
      "8/8 [==============================] - 1s 69ms/step - loss: 0.9656 - accuracy: 0.4444 - val_loss: 2.2934 - val_accuracy: 0.0000e+00\n",
      "Epoch 226/300\n",
      "8/8 [==============================] - 1s 71ms/step - loss: 0.9656 - accuracy: 0.4444 - val_loss: 2.2998 - val_accuracy: 0.0000e+00\n",
      "Epoch 227/300\n",
      "8/8 [==============================] - 1s 71ms/step - loss: 0.9651 - accuracy: 0.4444 - val_loss: 2.2924 - val_accuracy: 0.0000e+00\n",
      "Epoch 228/300\n",
      "8/8 [==============================] - 1s 84ms/step - loss: 0.9649 - accuracy: 0.4444 - val_loss: 2.3026 - val_accuracy: 0.0000e+00\n",
      "Epoch 229/300\n",
      "8/8 [==============================] - 1s 75ms/step - loss: 0.9637 - accuracy: 0.4444 - val_loss: 2.3050 - val_accuracy: 0.0000e+00\n",
      "Epoch 230/300\n",
      "8/8 [==============================] - 1s 76ms/step - loss: 0.9654 - accuracy: 0.4444 - val_loss: 2.2832 - val_accuracy: 0.0000e+00\n",
      "Epoch 231/300\n",
      "8/8 [==============================] - 1s 83ms/step - loss: 0.9641 - accuracy: 0.4978 - val_loss: 2.2750 - val_accuracy: 0.0000e+00\n",
      "Epoch 232/300\n",
      "8/8 [==============================] - 1s 70ms/step - loss: 0.9633 - accuracy: 0.4444 - val_loss: 2.2833 - val_accuracy: 0.0000e+00\n",
      "Epoch 233/300\n",
      "8/8 [==============================] - 1s 80ms/step - loss: 0.9645 - accuracy: 0.4444 - val_loss: 2.3224 - val_accuracy: 0.0000e+00\n",
      "Epoch 234/300\n",
      "8/8 [==============================] - 1s 69ms/step - loss: 0.9636 - accuracy: 0.4444 - val_loss: 2.3334 - val_accuracy: 0.0000e+00\n",
      "Epoch 235/300\n",
      "8/8 [==============================] - 1s 70ms/step - loss: 0.9646 - accuracy: 0.4444 - val_loss: 2.3178 - val_accuracy: 0.0000e+00\n",
      "Epoch 236/300\n",
      "8/8 [==============================] - 1s 62ms/step - loss: 0.9636 - accuracy: 0.4622 - val_loss: 2.2966 - val_accuracy: 0.0000e+00\n",
      "Epoch 237/300\n",
      "8/8 [==============================] - 1s 65ms/step - loss: 0.9641 - accuracy: 0.4444 - val_loss: 2.2962 - val_accuracy: 0.0000e+00\n",
      "Epoch 238/300\n",
      "8/8 [==============================] - 1s 65ms/step - loss: 0.9632 - accuracy: 0.4444 - val_loss: 2.3412 - val_accuracy: 0.0000e+00\n",
      "Epoch 239/300\n",
      "8/8 [==============================] - 1s 97ms/step - loss: 0.9684 - accuracy: 0.4444 - val_loss: 2.3769 - val_accuracy: 0.0000e+00\n",
      "Epoch 240/300\n",
      "8/8 [==============================] - 1s 97ms/step - loss: 0.9684 - accuracy: 0.4444 - val_loss: 2.3668 - val_accuracy: 0.0000e+00\n",
      "Epoch 241/300\n",
      "8/8 [==============================] - 1s 79ms/step - loss: 0.9673 - accuracy: 0.4444 - val_loss: 2.2424 - val_accuracy: 0.0000e+00\n",
      "Epoch 242/300\n",
      "8/8 [==============================] - 1s 105ms/step - loss: 0.9658 - accuracy: 0.4444 - val_loss: 2.1173 - val_accuracy: 0.0000e+00\n",
      "Epoch 243/300\n",
      "8/8 [==============================] - 1s 90ms/step - loss: 0.9668 - accuracy: 0.4444 - val_loss: 2.0741 - val_accuracy: 0.0000e+00\n",
      "Epoch 244/300\n",
      "8/8 [==============================] - 1s 76ms/step - loss: 0.9660 - accuracy: 0.4489 - val_loss: 2.0132 - val_accuracy: 0.0000e+00\n",
      "Epoch 245/300\n",
      "8/8 [==============================] - 1s 64ms/step - loss: 0.9683 - accuracy: 0.4533 - val_loss: 2.0543 - val_accuracy: 0.0000e+00\n",
      "Epoch 246/300\n",
      "8/8 [==============================] - 1s 78ms/step - loss: 0.9686 - accuracy: 0.4444 - val_loss: 2.0532 - val_accuracy: 0.0000e+00\n",
      "Epoch 247/300\n",
      "8/8 [==============================] - 0s 60ms/step - loss: 0.9659 - accuracy: 0.4444 - val_loss: 2.1333 - val_accuracy: 0.0000e+00\n",
      "Epoch 248/300\n",
      "8/8 [==============================] - 1s 65ms/step - loss: 0.9678 - accuracy: 0.4444 - val_loss: 2.2092 - val_accuracy: 0.0000e+00\n",
      "Epoch 249/300\n",
      "8/8 [==============================] - 1s 84ms/step - loss: 0.9643 - accuracy: 0.4444 - val_loss: 2.2789 - val_accuracy: 0.0000e+00\n",
      "Epoch 250/300\n",
      "8/8 [==============================] - 0s 63ms/step - loss: 0.9706 - accuracy: 0.4444 - val_loss: 2.3445 - val_accuracy: 0.0000e+00\n",
      "Epoch 251/300\n",
      "8/8 [==============================] - 1s 81ms/step - loss: 0.9711 - accuracy: 0.4444 - val_loss: 2.3222 - val_accuracy: 0.0000e+00\n",
      "Epoch 252/300\n",
      "8/8 [==============================] - 1s 68ms/step - loss: 0.9732 - accuracy: 0.4444 - val_loss: 2.2416 - val_accuracy: 0.0000e+00\n",
      "Epoch 253/300\n",
      "8/8 [==============================] - 1s 69ms/step - loss: 0.9688 - accuracy: 0.4444 - val_loss: 2.2126 - val_accuracy: 0.0000e+00\n",
      "Epoch 254/300\n",
      "8/8 [==============================] - 1s 73ms/step - loss: 0.9650 - accuracy: 0.4444 - val_loss: 2.2381 - val_accuracy: 0.0000e+00\n",
      "Epoch 255/300\n",
      "8/8 [==============================] - 1s 65ms/step - loss: 0.9657 - accuracy: 0.4444 - val_loss: 2.2728 - val_accuracy: 0.0000e+00\n",
      "Epoch 256/300\n",
      "8/8 [==============================] - 1s 64ms/step - loss: 0.9665 - accuracy: 0.4444 - val_loss: 2.3135 - val_accuracy: 0.0000e+00\n",
      "Epoch 257/300\n",
      "8/8 [==============================] - 1s 63ms/step - loss: 0.9697 - accuracy: 0.4444 - val_loss: 2.3209 - val_accuracy: 0.0000e+00\n",
      "Epoch 258/300\n",
      "8/8 [==============================] - 1s 70ms/step - loss: 0.9678 - accuracy: 0.4444 - val_loss: 2.3215 - val_accuracy: 0.0000e+00\n",
      "Epoch 259/300\n",
      "8/8 [==============================] - 1s 64ms/step - loss: 0.9675 - accuracy: 0.4444 - val_loss: 2.3295 - val_accuracy: 0.0000e+00\n",
      "Epoch 260/300\n",
      "8/8 [==============================] - 0s 63ms/step - loss: 0.9681 - accuracy: 0.4444 - val_loss: 2.3031 - val_accuracy: 0.0000e+00\n",
      "Epoch 261/300\n",
      "8/8 [==============================] - 1s 66ms/step - loss: 0.9695 - accuracy: 0.4444 - val_loss: 2.2440 - val_accuracy: 0.0000e+00\n",
      "Epoch 262/300\n",
      "8/8 [==============================] - 1s 65ms/step - loss: 0.9650 - accuracy: 0.4444 - val_loss: 2.0863 - val_accuracy: 0.0000e+00\n",
      "Epoch 263/300\n",
      "8/8 [==============================] - 1s 65ms/step - loss: 0.9665 - accuracy: 0.4444 - val_loss: 2.0539 - val_accuracy: 0.0000e+00\n",
      "Epoch 264/300\n",
      "8/8 [==============================] - 1s 72ms/step - loss: 0.9672 - accuracy: 0.4444 - val_loss: 2.0765 - val_accuracy: 0.0000e+00\n",
      "Epoch 265/300\n",
      "8/8 [==============================] - 1s 85ms/step - loss: 0.9657 - accuracy: 0.4444 - val_loss: 2.1073 - val_accuracy: 0.0000e+00\n",
      "Epoch 266/300\n",
      "8/8 [==============================] - 1s 71ms/step - loss: 0.9658 - accuracy: 0.4444 - val_loss: 2.1381 - val_accuracy: 0.0000e+00\n",
      "Epoch 267/300\n",
      "8/8 [==============================] - 1s 68ms/step - loss: 0.9648 - accuracy: 0.4444 - val_loss: 2.1722 - val_accuracy: 0.0000e+00\n",
      "Epoch 268/300\n",
      "8/8 [==============================] - 1s 63ms/step - loss: 0.9649 - accuracy: 0.4444 - val_loss: 2.2022 - val_accuracy: 0.0000e+00\n",
      "Epoch 269/300\n",
      "8/8 [==============================] - 1s 70ms/step - loss: 0.9647 - accuracy: 0.4444 - val_loss: 2.2315 - val_accuracy: 0.0000e+00\n",
      "Epoch 270/300\n",
      "8/8 [==============================] - 0s 60ms/step - loss: 0.9648 - accuracy: 0.4444 - val_loss: 2.2537 - val_accuracy: 0.0000e+00\n",
      "Epoch 271/300\n",
      "8/8 [==============================] - 0s 61ms/step - loss: 0.9665 - accuracy: 0.4444 - val_loss: 2.2733 - val_accuracy: 0.0000e+00\n",
      "Epoch 272/300\n",
      "8/8 [==============================] - 0s 61ms/step - loss: 0.9665 - accuracy: 0.4444 - val_loss: 2.2860 - val_accuracy: 0.0000e+00\n",
      "Epoch 273/300\n",
      "8/8 [==============================] - 1s 94ms/step - loss: 0.9669 - accuracy: 0.4444 - val_loss: 2.2926 - val_accuracy: 0.0000e+00\n",
      "Epoch 274/300\n",
      "8/8 [==============================] - 1s 73ms/step - loss: 0.9669 - accuracy: 0.4444 - val_loss: 2.2954 - val_accuracy: 0.0000e+00\n",
      "Epoch 275/300\n",
      "8/8 [==============================] - 1s 79ms/step - loss: 0.9651 - accuracy: 0.5022 - val_loss: 2.2941 - val_accuracy: 0.0000e+00\n",
      "Epoch 276/300\n",
      "8/8 [==============================] - 1s 68ms/step - loss: 0.9655 - accuracy: 0.4444 - val_loss: 2.2771 - val_accuracy: 0.0000e+00\n",
      "Epoch 277/300\n",
      "8/8 [==============================] - 1s 64ms/step - loss: 0.9660 - accuracy: 0.4444 - val_loss: 2.1669 - val_accuracy: 0.0000e+00\n",
      "Epoch 278/300\n",
      "8/8 [==============================] - 1s 68ms/step - loss: 0.9654 - accuracy: 0.4444 - val_loss: 2.1426 - val_accuracy: 0.0000e+00\n",
      "Epoch 279/300\n",
      "8/8 [==============================] - 1s 65ms/step - loss: 0.9654 - accuracy: 0.4444 - val_loss: 2.1539 - val_accuracy: 0.0000e+00\n",
      "Epoch 280/300\n",
      "8/8 [==============================] - 1s 63ms/step - loss: 0.9657 - accuracy: 0.4444 - val_loss: 2.1750 - val_accuracy: 0.0000e+00\n",
      "Epoch 281/300\n"
     ]
    },
    {
     "name": "stdout",
     "output_type": "stream",
     "text": [
      "8/8 [==============================] - 1s 89ms/step - loss: 0.9656 - accuracy: 0.4444 - val_loss: 2.1778 - val_accuracy: 0.0000e+00\n",
      "Epoch 282/300\n",
      "8/8 [==============================] - 1s 79ms/step - loss: 0.9656 - accuracy: 0.4444 - val_loss: 2.0987 - val_accuracy: 0.0000e+00\n",
      "Epoch 283/300\n",
      "8/8 [==============================] - 1s 93ms/step - loss: 0.9660 - accuracy: 0.4444 - val_loss: 2.0639 - val_accuracy: 0.0000e+00\n",
      "Epoch 284/300\n",
      "8/8 [==============================] - 1s 64ms/step - loss: 0.9671 - accuracy: 0.4444 - val_loss: 1.9925 - val_accuracy: 0.0000e+00\n",
      "Epoch 285/300\n",
      "8/8 [==============================] - 1s 82ms/step - loss: 0.9686 - accuracy: 0.4044 - val_loss: 1.9950 - val_accuracy: 0.0000e+00\n",
      "Epoch 286/300\n",
      "8/8 [==============================] - 1s 65ms/step - loss: 0.9677 - accuracy: 0.4444 - val_loss: 2.0230 - val_accuracy: 0.0000e+00\n",
      "Epoch 287/300\n",
      "8/8 [==============================] - 1s 76ms/step - loss: 0.9676 - accuracy: 0.4444 - val_loss: 2.0700 - val_accuracy: 0.0000e+00\n",
      "Epoch 288/300\n",
      "8/8 [==============================] - 1s 73ms/step - loss: 0.9668 - accuracy: 0.4444 - val_loss: 2.1069 - val_accuracy: 0.0000e+00\n",
      "Epoch 289/300\n",
      "8/8 [==============================] - 1s 67ms/step - loss: 0.9666 - accuracy: 0.4444 - val_loss: 2.1449 - val_accuracy: 0.0000e+00\n",
      "Epoch 290/300\n",
      "8/8 [==============================] - 0s 61ms/step - loss: 0.9666 - accuracy: 0.4444 - val_loss: 2.1667 - val_accuracy: 0.0000e+00\n",
      "Epoch 291/300\n",
      "8/8 [==============================] - 1s 67ms/step - loss: 0.9663 - accuracy: 0.4444 - val_loss: 2.0989 - val_accuracy: 0.0000e+00\n",
      "Epoch 292/300\n",
      "8/8 [==============================] - 1s 68ms/step - loss: 0.9665 - accuracy: 0.4444 - val_loss: 2.0889 - val_accuracy: 0.0000e+00\n",
      "Epoch 293/300\n",
      "8/8 [==============================] - 1s 77ms/step - loss: 0.9663 - accuracy: 0.4444 - val_loss: 2.1003 - val_accuracy: 0.0000e+00\n",
      "Epoch 294/300\n",
      "8/8 [==============================] - 0s 60ms/step - loss: 0.9657 - accuracy: 0.4444 - val_loss: 2.1324 - val_accuracy: 0.0000e+00\n",
      "Epoch 295/300\n",
      "8/8 [==============================] - 0s 61ms/step - loss: 0.9652 - accuracy: 0.4444 - val_loss: 2.1633 - val_accuracy: 0.0000e+00\n",
      "Epoch 296/300\n",
      "8/8 [==============================] - 0s 61ms/step - loss: 0.9656 - accuracy: 0.4444 - val_loss: 2.1972 - val_accuracy: 0.0000e+00\n",
      "Epoch 297/300\n",
      "8/8 [==============================] - 1s 71ms/step - loss: 0.9663 - accuracy: 0.4444 - val_loss: 2.2273 - val_accuracy: 0.0000e+00\n",
      "Epoch 298/300\n",
      "8/8 [==============================] - 0s 54ms/step - loss: 0.9676 - accuracy: 0.4444 - val_loss: 2.2522 - val_accuracy: 0.0000e+00\n",
      "Epoch 299/300\n",
      "8/8 [==============================] - 0s 58ms/step - loss: 0.9687 - accuracy: 0.4444 - val_loss: 2.2683 - val_accuracy: 0.0000e+00\n",
      "Epoch 300/300\n",
      "8/8 [==============================] - 1s 74ms/step - loss: 0.9682 - accuracy: 0.4444 - val_loss: 2.2825 - val_accuracy: 0.0000e+00\n"
     ]
    }
   ],
   "source": [
    "model.compile(optimizer='adam',\n",
    "             loss='sparse_categorical_crossentropy',\n",
    "             metrics=['accuracy'])\n",
    "\n",
    "history = model.fit(x_train_norm, y_train, epochs=300)"
   ]
  },
  {
   "cell_type": "code",
   "execution_count": 11,
   "id": "a3b134da",
   "metadata": {},
   "outputs": [
    {
     "name": "stdout",
     "output_type": "stream",
     "text": [
      "dict_keys(['loss', 'accuracy', 'val_loss', 'val_accuracy'])\n"
     ]
    },
    {
     "data": {
      "image/png": "[encoded data removed]",
      "text/plain": [
       "<Figure size 640x480 with 1 Axes>"
      ]
     },
     "metadata": {},
     "output_type": "display_data"
    }
   ],
   "source": [
    "print(history.history.keys())\n",
    "# 6 훈련 과정 시각화 (정확도)\n",
    "plt.plot(history.history['accuracy'])\n",
    "plt.plot(history.history['loss'])\n",
    "plt.title('Model accuracy')\n",
    "plt.xlabel('Epoch')\n",
    "plt.ylabel('Accuracy')\n",
    "plt.legend(['accuracy', 'loss'], loc='upper left')\n",
    "\n",
    "plt.show()\n"
   ]
  },
  {
   "cell_type": "code",
   "execution_count": 12,
   "id": "545877b1",
   "metadata": {},
   "outputs": [
    {
     "name": "stdout",
     "output_type": "stream",
     "text": [
      "100  images to be resized.\n",
      "100  images resized.\n",
      "100  images to be resized.\n"
     ]
    },
    {
     "name": "stderr",
     "output_type": "stream",
     "text": [
      "C:\\Users\\Public\\Documents\\ESTsoft\\CreatorTemp\\ipykernel_42964\\342146961.py:10: DeprecationWarning: ANTIALIAS is deprecated and will be removed in Pillow 10 (2023-07-01). Use Resampling.LANCZOS instead.\n",
      "  new_img=old_img.resize(target_size,Image.ANTIALIAS)\n"
     ]
    },
    {
     "name": "stdout",
     "output_type": "stream",
     "text": [
      "100  images resized.\n",
      "100  images to be resized.\n",
      "100  images resized.\n"
     ]
    }
   ],
   "source": [
    "resize_images(\"./data/test/paper\")\n",
    "resize_images(\"./data/test/scissor\")\n",
    "resize_images(\"./data/test/rock\")"
   ]
  },
  {
   "cell_type": "code",
   "execution_count": 13,
   "id": "409aa3da",
   "metadata": {},
   "outputs": [
    {
     "name": "stdout",
     "output_type": "stream",
     "text": [
      "학습데이터(x_train)의 이미지 개수는 300 입니다.\n",
      "x_test shape: (300, 28, 28, 3)\n",
      "y_test shape: (300,)\n",
      "0.0 0.8549019607843137\n"
     ]
    }
   ],
   "source": [
    "image_dir_path = \"./data/test/\"\n",
    "(x_test, y_test)=load_data(image_dir_path)\n",
    "x_test_norm = x_test / 255.0\n",
    "\n",
    "print(\"x_test shape: {}\".format(x_test_norm.shape))\n",
    "print(\"y_test shape: {}\".format(y_test.shape))\n",
    "\n",
    "print(np.min(x_train_norm), np.max(x_train_norm))"
   ]
  },
  {
   "cell_type": "code",
   "execution_count": 14,
   "id": "ab5a3886",
   "metadata": {},
   "outputs": [
    {
     "name": "stdout",
     "output_type": "stream",
     "text": [
      "라벨:  0\n"
     ]
    },
    {
     "data": {
      "image/png": "[encoded data removed]",
      "text/plain": [
       "<Figure size 640x480 with 1 Axes>"
      ]
     },
     "metadata": {},
     "output_type": "display_data"
    }
   ],
   "source": [
    "plt.imshow(x_test[0])\n",
    "print('라벨: ', y_test[0])"
   ]
  },
  {
   "cell_type": "code",
   "execution_count": 15,
   "id": "b234de8f",
   "metadata": {},
   "outputs": [
    {
     "name": "stdout",
     "output_type": "stream",
     "text": [
      "10/10 - 0s - loss: 1.2962 - accuracy: 0.3333 - 212ms/epoch - 21ms/step\n",
      "test_loss: 1.2962336540222168\n",
      "test_accuracy: 0.3333333432674408\n"
     ]
    }
   ],
   "source": [
    "test_loss, test_accuracy = model.evaluate(x_test_norm ,y_test, verbose=2)\n",
    "print(f\"test_loss: {test_loss}\")\n",
    "print(f\"test_accuracy: {test_accuracy}\")"
   ]
  },
  {
   "cell_type": "code",
   "execution_count": 16,
   "id": "c2b6619c",
   "metadata": {},
   "outputs": [
    {
     "name": "stdout",
     "output_type": "stream",
     "text": [
      "10/10 [==============================] - 0s 17ms/step\n",
      "model.predict() 결과 :  [0.47976476 0.4182166  0.10201865]\n",
      "model이 추론한 가장 가능성이 높은 결과 :  0\n",
      "실제 데이터의 라벨 :  0\n"
     ]
    }
   ],
   "source": [
    "predicted_result = model.predict(x_test_norm)  # model이 추론한 확률값. \n",
    "predicted_labels = np.argmax(predicted_result, axis=1)\n",
    "\n",
    "idx=4  #1번째 x_test를 살펴보자. \n",
    "print('model.predict() 결과 : ', predicted_result[idx])\n",
    "print('model이 추론한 가장 가능성이 높은 결과 : ', predicted_labels[idx])\n",
    "print('실제 데이터의 라벨 : ', y_test[idx])"
   ]
  },
  {
   "cell_type": "code",
   "execution_count": 17,
   "id": "92d6698a",
   "metadata": {},
   "outputs": [
    {
     "name": "stdout",
     "output_type": "stream",
     "text": [
      "예측확률분포: [0.47968936 0.41828522 0.10202545]\n",
      "라벨: 2, 예측결과: 0\n"
     ]
    },
    {
     "data": {
      "image/png": "[encoded data removed]",
      "text/plain": [
       "<Figure size 640x480 with 1 Axes>"
      ]
     },
     "metadata": {},
     "output_type": "display_data"
    },
    {
     "name": "stdout",
     "output_type": "stream",
     "text": [
      "예측확률분포: [0.47968936 0.41828522 0.10202545]\n",
      "라벨: 2, 예측결과: 0\n"
     ]
    },
    {
     "data": {
      "image/png": "[encoded data removed]",
      "text/plain": [
       "<Figure size 640x480 with 1 Axes>"
      ]
     },
     "metadata": {},
     "output_type": "display_data"
    },
    {
     "name": "stdout",
     "output_type": "stream",
     "text": [
      "예측확률분포: [0.47968903 0.41828662 0.10202432]\n",
      "라벨: 1, 예측결과: 0\n"
     ]
    },
    {
     "data": {
      "image/png": "[encoded data removed]",
      "text/plain": [
       "<Figure size 640x480 with 1 Axes>"
      ]
     },
     "metadata": {},
     "output_type": "display_data"
    },
    {
     "name": "stdout",
     "output_type": "stream",
     "text": [
      "예측확률분포: [0.47968936 0.41828522 0.10202545]\n",
      "라벨: 1, 예측결과: 0\n"
     ]
    },
    {
     "data": {
      "image/png": "[encoded data removed]",
      "text/plain": [
       "<Figure size 640x480 with 1 Axes>"
      ]
     },
     "metadata": {},
     "output_type": "display_data"
    },
    {
     "name": "stdout",
     "output_type": "stream",
     "text": [
      "예측확률분포: [0.47968936 0.41828522 0.10202545]\n",
      "라벨: 2, 예측결과: 0\n"
     ]
    },
    {
     "data": {
      "image/png": "[encoded data removed]",
      "text/plain": [
       "<Figure size 640x480 with 1 Axes>"
      ]
     },
     "metadata": {},
     "output_type": "display_data"
    }
   ],
   "source": [
    "import random\n",
    "wrong_predict_list=[]\n",
    "for i, _ in enumerate(predicted_labels):\n",
    "    # i번째 test_labels과 y_test이 다른 경우만 모아 봅시다. \n",
    "    if predicted_labels[i] != y_test[i]:\n",
    "        wrong_predict_list.append(i)\n",
    "\n",
    "# wrong_predict_list 에서 랜덤하게 5개만 뽑아봅시다.\n",
    "samples = random.choices(population=wrong_predict_list, k=5)\n",
    "\n",
    "for n in samples:\n",
    "    print(\"예측확률분포: \" + str(predicted_result[n]))\n",
    "    print(\"라벨: \" + str(y_test[n]) + \", 예측결과: \" + str(predicted_labels[n]))\n",
    "    plt.imshow(x_test[n], cmap=plt.cm.binary)\n",
    "    plt.show()"
   ]
  }
 ],
 "metadata": {
  "kernelspec": {
   "display_name": "Python 3 (ipykernel)",
   "language": "python",
   "name": "python3"
  },
  "language_info": {
   "codemirror_mode": {
    "name": "ipython",
    "version": 3
   },
   "file_extension": ".py",
   "mimetype": "text/x-python",
   "name": "python",
   "nbconvert_exporter": "python",
   "pygments_lexer": "ipython3",
   "version": "3.9.13"
  }
 },
 "nbformat": 4,
 "nbformat_minor": 5
}
