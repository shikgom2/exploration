{
 "cells": [
  {
   "cell_type": "code",
   "execution_count": 1,
   "id": "ed866028",
   "metadata": {},
   "outputs": [
    {
     "name": "stdout",
     "output_type": "stream",
     "text": [
      "2.11.0\n",
      "1.21.5\n"
     ]
    }
   ],
   "source": [
    "import tensorflow as tf\n",
    "from tensorflow import keras\n",
    "import numpy as np\n",
    "import matplotlib.pyplot as plt\n",
    "\n",
    "print(tf.__version__)\n",
    "print(np.__version__)"
   ]
  },
  {
   "cell_type": "code",
   "execution_count": 2,
   "id": "869819b7",
   "metadata": {},
   "outputs": [
    {
     "name": "stdout",
     "output_type": "stream",
     "text": [
      "PIL 라이브러리 import 완료!\n"
     ]
    }
   ],
   "source": [
    "from PIL import Image\n",
    "import glob\n",
    "import os\n",
    "import matplotlib.pyplot as plt\n",
    "\n",
    "print(\"PIL 라이브러리 import 완료!\")"
   ]
  },
  {
   "cell_type": "code",
   "execution_count": 3,
   "id": "04e914ad",
   "metadata": {},
   "outputs": [],
   "source": [
    "def resize_images(img_path):\n",
    "\timages=glob.glob(img_path + \"/*.jpg\")  \n",
    "    \n",
    "\tprint(len(images), \" images to be resized.\")\n",
    "\n",
    "    # 파일마다 모두 28x28 사이즈로 바꾸어 저장합니다.\n",
    "\ttarget_size=(28,28)\n",
    "\tfor img in images:\n",
    "\t\told_img=Image.open(img)\n",
    "\t\tnew_img=old_img.resize(target_size,Image.ANTIALIAS)\n",
    "\t\tnew_img.save(img, \"JPEG\")\n",
    "    \n",
    "\tprint(len(images), \" images resized.\")"
   ]
  },
  {
   "cell_type": "code",
   "execution_count": 4,
   "id": "46b64bed",
   "metadata": {},
   "outputs": [
    {
     "name": "stdout",
     "output_type": "stream",
     "text": [
      "100  images to be resized.\n",
      "100  images resized.\n",
      "100  images to be resized.\n"
     ]
    },
    {
     "name": "stderr",
     "output_type": "stream",
     "text": [
      "C:\\Users\\Public\\Documents\\ESTsoft\\CreatorTemp\\ipykernel_44556\\342146961.py:10: DeprecationWarning: ANTIALIAS is deprecated and will be removed in Pillow 10 (2023-07-01). Use Resampling.LANCZOS instead.\n",
      "  new_img=old_img.resize(target_size,Image.ANTIALIAS)\n"
     ]
    },
    {
     "name": "stdout",
     "output_type": "stream",
     "text": [
      "100  images resized.\n",
      "100  images to be resized.\n",
      "100  images resized.\n"
     ]
    }
   ],
   "source": [
    "resize_images(\"./data/scissor\")\n",
    "resize_images(\"./data/rock\")\n",
    "resize_images(\"./data/paper\")"
   ]
  },
  {
   "cell_type": "code",
   "execution_count": 5,
   "id": "3e15e3c1",
   "metadata": {},
   "outputs": [],
   "source": [
    "import numpy as np\n",
    "\n",
    "def load_data(img_path, number_of_data=300):  # 가위바위보 이미지 개수 총합에 주의하세요.\n",
    "    # 가위 : 0, 바위 : 1, 보 : 2\n",
    "    img_size=28\n",
    "    color=3\n",
    "    #이미지 데이터와 라벨(가위 : 0, 바위 : 1, 보 : 2) 데이터를 담을 행렬(matrix) 영역을 생성합니다.\n",
    "    imgs=np.zeros(number_of_data*img_size*img_size*color,dtype=np.int32).reshape(number_of_data,img_size,img_size,color)\n",
    "    labels=np.zeros(number_of_data,dtype=np.int32)\n",
    "\n",
    "    idx=0\n",
    "    for file in glob.iglob(img_path+'/scissor/*.jpg'):\n",
    "        img = np.array(Image.open(file),dtype=np.int32)\n",
    "        imgs[idx,:,:,:]=img    # 데이터 영역에 이미지 행렬을 복사\n",
    "        labels[idx]=0   # 가위 : 0\n",
    "        idx=idx+1\n",
    "\n",
    "    for file in glob.iglob(img_path+'/rock/*.jpg'):\n",
    "        img = np.array(Image.open(file),dtype=np.int32)\n",
    "        imgs[idx,:,:,:]=img    # 데이터 영역에 이미지 행렬을 복사\n",
    "        labels[idx]=1   # 바위 : 1\n",
    "        idx=idx+1  \n",
    "    \n",
    "    for file in glob.iglob(img_path+'/paper/*.jpg'):\n",
    "        img = np.array(Image.open(file),dtype=np.int32)\n",
    "        imgs[idx,:,:,:]=img    # 데이터 영역에 이미지 행렬을 복사\n",
    "        labels[idx]=2   # 보 : 2\n",
    "        idx=idx+1\n",
    "        \n",
    "    print(\"학습데이터(x_train)의 이미지 개수는\", idx,\"입니다.\")\n",
    "    return imgs, labels"
   ]
  },
  {
   "cell_type": "code",
   "execution_count": 6,
   "id": "97977c61",
   "metadata": {},
   "outputs": [
    {
     "name": "stdout",
     "output_type": "stream",
     "text": [
      "학습데이터(x_train)의 이미지 개수는 300 입니다.\n",
      "x_train_norm shape: (300, 28, 28, 3)\n",
      "y_train shape: (300,)\n"
     ]
    }
   ],
   "source": [
    "image_dir_path = \"./data/\"\n",
    "(x_train, y_train)=load_data(image_dir_path)\n",
    "x_train_norm = x_train/255.0\n",
    "\n",
    "print(\"x_train_norm shape: {}\".format(x_train_norm.shape))\n",
    "print(\"y_train shape: {}\".format(y_train.shape))"
   ]
  },
  {
   "cell_type": "code",
   "execution_count": 7,
   "id": "e69bd8ac",
   "metadata": {},
   "outputs": [
    {
     "name": "stdout",
     "output_type": "stream",
     "text": [
      "라벨:  0\n"
     ]
    },
    {
     "data": {
      "image/png": "[encoded data removed]",
      "text/plain": [
       "<Figure size 640x480 with 1 Axes>"
      ]
     },
     "metadata": {},
     "output_type": "display_data"
    }
   ],
   "source": [
    "plt.imshow(x_train[0])\n",
    "print('라벨: ', y_train[0])"
   ]
  },
  {
   "cell_type": "code",
   "execution_count": 8,
   "id": "17a611ce",
   "metadata": {
    "scrolled": true
   },
   "outputs": [
    {
     "name": "stdout",
     "output_type": "stream",
     "text": [
      "Model에 추가된 Layer 개수:  12\n",
      "Model: \"sequential\"\n",
      "_________________________________________________________________\n",
      " Layer (type)                Output Shape              Param #   \n",
      "=================================================================\n",
      " conv2d (Conv2D)             (None, 26, 26, 64)        1792      \n",
      "                                                                 \n",
      " max_pooling2d (MaxPooling2D  (None, 26, 26, 64)       0         \n",
      " )                                                               \n",
      "                                                                 \n",
      " conv2d_1 (Conv2D)           (None, 24, 24, 64)        36928     \n",
      "                                                                 \n",
      " max_pooling2d_1 (MaxPooling  (None, 12, 12, 64)       0         \n",
      " 2D)                                                             \n",
      "                                                                 \n",
      " conv2d_2 (Conv2D)           (None, 10, 10, 128)       73856     \n",
      "                                                                 \n",
      " max_pooling2d_2 (MaxPooling  (None, 5, 5, 128)        0         \n",
      " 2D)                                                             \n",
      "                                                                 \n",
      " conv2d_3 (Conv2D)           (None, 3, 3, 128)         147584    \n",
      "                                                                 \n",
      " max_pooling2d_3 (MaxPooling  (None, 1, 1, 128)        0         \n",
      " 2D)                                                             \n",
      "                                                                 \n",
      " flatten (Flatten)           (None, 128)               0         \n",
      "                                                                 \n",
      " dropout (Dropout)           (None, 128)               0         \n",
      "                                                                 \n",
      " dense (Dense)               (None, 512)               66048     \n",
      "                                                                 \n",
      " dense_1 (Dense)             (None, 3)                 1539      \n",
      "                                                                 \n",
      "=================================================================\n",
      "Total params: 327,747\n",
      "Trainable params: 327,747\n",
      "Non-trainable params: 0\n",
      "_________________________________________________________________\n"
     ]
    }
   ],
   "source": [
    "model=keras.models.Sequential()\n",
    "\n",
    "model.add(keras.layers.Conv2D(64, (3,3), activation='relu', input_shape=(28,28,3)))\n",
    "model.add(keras.layers.MaxPooling2D(1,1))\n",
    "\n",
    "model.add(keras.layers.Conv2D(64, (3,3), activation='relu'))\n",
    "model.add(keras.layers.MaxPooling2D((2,2)))\n",
    "\n",
    "model.add(keras.layers.Conv2D(128, (3,3), activation='relu'))\n",
    "model.add(keras.layers.MaxPooling2D((2,2)))\n",
    "\n",
    "model.add(keras.layers.Conv2D(128, (3,3), activation='relu'))\n",
    "model.add(keras.layers.MaxPooling2D((2,2)))\n",
    "\n",
    "model.add(keras.layers.Flatten())\n",
    "model.add(keras.layers.Dropout(0.3))\n",
    "model.add(keras.layers.Dense(512, activation='relu'))\n",
    "model.add(keras.layers.Dense(3, activation='softmax'))\n",
    "\n",
    "print('Model에 추가된 Layer 개수: ', len(model.layers))\n",
    "model.summary()"
   ]
  },
  {
   "cell_type": "code",
   "execution_count": 9,
   "id": "90716cf1",
   "metadata": {},
   "outputs": [
    {
     "data": {
      "text/plain": [
       "(300, 28, 28, 3)"
      ]
     },
     "execution_count": 9,
     "metadata": {},
     "output_type": "execute_result"
    }
   ],
   "source": [
    "x_train_norm.shape"
   ]
  },
  {
   "cell_type": "code",
   "execution_count": 10,
   "id": "a4c8756d",
   "metadata": {},
   "outputs": [
    {
     "name": "stdout",
     "output_type": "stream",
     "text": [
      "Epoch 1/300\n",
      "10/10 [==============================] - 2s 64ms/step - loss: 1.1055 - accuracy: 0.3300\n",
      "Epoch 2/300\n",
      "10/10 [==============================] - 1s 71ms/step - loss: 1.0996 - accuracy: 0.2967\n",
      "Epoch 3/300\n",
      "10/10 [==============================] - 1s 61ms/step - loss: 1.0993 - accuracy: 0.3100\n",
      "Epoch 4/300\n",
      "10/10 [==============================] - 1s 67ms/step - loss: 1.0991 - accuracy: 0.3100\n",
      "Epoch 5/300\n",
      "10/10 [==============================] - 1s 75ms/step - loss: 1.0992 - accuracy: 0.3200\n",
      "Epoch 6/300\n",
      "10/10 [==============================] - 1s 72ms/step - loss: 1.0985 - accuracy: 0.3333\n",
      "Epoch 7/300\n",
      "10/10 [==============================] - 1s 79ms/step - loss: 1.0972 - accuracy: 0.4033\n",
      "Epoch 8/300\n",
      "10/10 [==============================] - 1s 70ms/step - loss: 1.0969 - accuracy: 0.3733\n",
      "Epoch 9/300\n",
      "10/10 [==============================] - 1s 70ms/step - loss: 1.0964 - accuracy: 0.3367\n",
      "Epoch 10/300\n",
      "10/10 [==============================] - 1s 65ms/step - loss: 1.0791 - accuracy: 0.4367\n",
      "Epoch 11/300\n",
      "10/10 [==============================] - 1s 69ms/step - loss: 1.0206 - accuracy: 0.5767\n",
      "Epoch 12/300\n",
      "10/10 [==============================] - 1s 75ms/step - loss: 0.8637 - accuracy: 0.6233\n",
      "Epoch 13/300\n",
      "10/10 [==============================] - 1s 65ms/step - loss: 0.7184 - accuracy: 0.6967\n",
      "Epoch 14/300\n",
      "10/10 [==============================] - 1s 75ms/step - loss: 0.5871 - accuracy: 0.7533\n",
      "Epoch 15/300\n",
      "10/10 [==============================] - 1s 80ms/step - loss: 0.4932 - accuracy: 0.7967\n",
      "Epoch 16/300\n",
      "10/10 [==============================] - 1s 73ms/step - loss: 0.4983 - accuracy: 0.7900\n",
      "Epoch 17/300\n",
      "10/10 [==============================] - 1s 57ms/step - loss: 0.4157 - accuracy: 0.8200\n",
      "Epoch 18/300\n",
      "10/10 [==============================] - 1s 72ms/step - loss: 0.3427 - accuracy: 0.8667\n",
      "Epoch 19/300\n",
      "10/10 [==============================] - 1s 74ms/step - loss: 0.2916 - accuracy: 0.8800\n",
      "Epoch 20/300\n",
      "10/10 [==============================] - 1s 65ms/step - loss: 0.2605 - accuracy: 0.9133\n",
      "Epoch 21/300\n",
      "10/10 [==============================] - 1s 68ms/step - loss: 0.1608 - accuracy: 0.9400\n",
      "Epoch 22/300\n",
      "10/10 [==============================] - 1s 73ms/step - loss: 0.1314 - accuracy: 0.9600\n",
      "Epoch 23/300\n",
      "10/10 [==============================] - 1s 72ms/step - loss: 0.1048 - accuracy: 0.9633\n",
      "Epoch 24/300\n",
      "10/10 [==============================] - 1s 77ms/step - loss: 0.0523 - accuracy: 0.9833\n",
      "Epoch 25/300\n",
      "10/10 [==============================] - 1s 72ms/step - loss: 0.0582 - accuracy: 0.9867\n",
      "Epoch 26/300\n",
      "10/10 [==============================] - 1s 71ms/step - loss: 0.0658 - accuracy: 0.9833\n",
      "Epoch 27/300\n",
      "10/10 [==============================] - 1s 60ms/step - loss: 0.0464 - accuracy: 0.9767\n",
      "Epoch 28/300\n",
      "10/10 [==============================] - 1s 69ms/step - loss: 0.0409 - accuracy: 0.9900\n",
      "Epoch 29/300\n",
      "10/10 [==============================] - 1s 70ms/step - loss: 0.0153 - accuracy: 0.9967\n",
      "Epoch 30/300\n",
      "10/10 [==============================] - 1s 91ms/step - loss: 0.0104 - accuracy: 0.9967\n",
      "Epoch 31/300\n",
      "10/10 [==============================] - 1s 71ms/step - loss: 0.0146 - accuracy: 0.9967\n",
      "Epoch 32/300\n",
      "10/10 [==============================] - 1s 88ms/step - loss: 0.0106 - accuracy: 1.0000\n",
      "Epoch 33/300\n",
      "10/10 [==============================] - 1s 102ms/step - loss: 0.0097 - accuracy: 1.0000\n",
      "Epoch 34/300\n",
      "10/10 [==============================] - 1s 88ms/step - loss: 0.0040 - accuracy: 1.0000\n",
      "Epoch 35/300\n",
      "10/10 [==============================] - 1s 80ms/step - loss: 0.0054 - accuracy: 1.0000\n",
      "Epoch 36/300\n",
      "10/10 [==============================] - 1s 73ms/step - loss: 0.0040 - accuracy: 1.0000\n",
      "Epoch 37/300\n",
      "10/10 [==============================] - 1s 70ms/step - loss: 0.0020 - accuracy: 1.0000\n",
      "Epoch 38/300\n",
      "10/10 [==============================] - 1s 66ms/step - loss: 0.0088 - accuracy: 0.9967\n",
      "Epoch 39/300\n",
      "10/10 [==============================] - 1s 68ms/step - loss: 0.0130 - accuracy: 0.9933\n",
      "Epoch 40/300\n",
      "10/10 [==============================] - 1s 65ms/step - loss: 0.0356 - accuracy: 0.9900\n",
      "Epoch 41/300\n",
      "10/10 [==============================] - 1s 71ms/step - loss: 0.0262 - accuracy: 0.9900\n",
      "Epoch 42/300\n",
      "10/10 [==============================] - 1s 77ms/step - loss: 0.0124 - accuracy: 1.0000\n",
      "Epoch 43/300\n",
      "10/10 [==============================] - 1s 80ms/step - loss: 0.0052 - accuracy: 1.0000\n",
      "Epoch 44/300\n",
      "10/10 [==============================] - 1s 63ms/step - loss: 0.0061 - accuracy: 1.0000\n",
      "Epoch 45/300\n",
      "10/10 [==============================] - 1s 66ms/step - loss: 0.0309 - accuracy: 0.9933\n",
      "Epoch 46/300\n",
      "10/10 [==============================] - 1s 63ms/step - loss: 0.0078 - accuracy: 0.9967\n",
      "Epoch 47/300\n",
      "10/10 [==============================] - 1s 62ms/step - loss: 0.0022 - accuracy: 1.0000\n",
      "Epoch 48/300\n",
      "10/10 [==============================] - 1s 65ms/step - loss: 0.0011 - accuracy: 1.0000\n",
      "Epoch 49/300\n",
      "10/10 [==============================] - 1s 93ms/step - loss: 0.0023 - accuracy: 1.0000\n",
      "Epoch 50/300\n",
      "10/10 [==============================] - 1s 83ms/step - loss: 0.0019 - accuracy: 1.0000\n",
      "Epoch 51/300\n",
      "10/10 [==============================] - 1s 67ms/step - loss: 8.3029e-04 - accuracy: 1.0000\n",
      "Epoch 52/300\n",
      "10/10 [==============================] - 1s 75ms/step - loss: 4.4537e-04 - accuracy: 1.0000\n",
      "Epoch 53/300\n",
      "10/10 [==============================] - 1s 77ms/step - loss: 5.2683e-04 - accuracy: 1.0000\n",
      "Epoch 54/300\n",
      "10/10 [==============================] - 1s 65ms/step - loss: 6.4071e-04 - accuracy: 1.0000\n",
      "Epoch 55/300\n",
      "10/10 [==============================] - 1s 63ms/step - loss: 3.6624e-04 - accuracy: 1.0000\n",
      "Epoch 56/300\n",
      "10/10 [==============================] - 1s 62ms/step - loss: 2.9026e-04 - accuracy: 1.0000\n",
      "Epoch 57/300\n",
      "10/10 [==============================] - 1s 67ms/step - loss: 9.7179e-04 - accuracy: 1.0000\n",
      "Epoch 58/300\n",
      "10/10 [==============================] - 1s 66ms/step - loss: 4.1080e-04 - accuracy: 1.0000\n",
      "Epoch 59/300\n",
      "10/10 [==============================] - 1s 67ms/step - loss: 3.2536e-04 - accuracy: 1.0000\n",
      "Epoch 60/300\n",
      "10/10 [==============================] - 1s 65ms/step - loss: 3.1269e-04 - accuracy: 1.0000\n",
      "Epoch 61/300\n",
      "10/10 [==============================] - 1s 71ms/step - loss: 2.6555e-04 - accuracy: 1.0000\n",
      "Epoch 62/300\n",
      "10/10 [==============================] - 1s 64ms/step - loss: 4.4339e-04 - accuracy: 1.0000\n",
      "Epoch 63/300\n",
      "10/10 [==============================] - 1s 75ms/step - loss: 5.4359e-04 - accuracy: 1.0000\n",
      "Epoch 64/300\n",
      "10/10 [==============================] - 1s 59ms/step - loss: 3.0481e-04 - accuracy: 1.0000\n",
      "Epoch 65/300\n",
      "10/10 [==============================] - 1s 70ms/step - loss: 2.9072e-04 - accuracy: 1.0000\n",
      "Epoch 66/300\n",
      "10/10 [==============================] - 1s 62ms/step - loss: 5.3912e-04 - accuracy: 1.0000\n",
      "Epoch 67/300\n",
      "10/10 [==============================] - 1s 59ms/step - loss: 4.0306e-04 - accuracy: 1.0000\n",
      "Epoch 68/300\n",
      "10/10 [==============================] - 1s 69ms/step - loss: 3.3668e-04 - accuracy: 1.0000\n",
      "Epoch 69/300\n",
      "10/10 [==============================] - 1s 65ms/step - loss: 3.0177e-04 - accuracy: 1.0000\n",
      "Epoch 70/300\n",
      "10/10 [==============================] - 1s 67ms/step - loss: 1.2070e-04 - accuracy: 1.0000\n",
      "Epoch 71/300\n",
      "10/10 [==============================] - 1s 95ms/step - loss: 2.6565e-04 - accuracy: 1.0000\n",
      "Epoch 72/300\n",
      "10/10 [==============================] - 1s 84ms/step - loss: 8.8030e-04 - accuracy: 1.0000\n",
      "Epoch 73/300\n",
      "10/10 [==============================] - 1s 96ms/step - loss: 8.1851e-04 - accuracy: 1.0000\n",
      "Epoch 74/300\n",
      "10/10 [==============================] - 1s 81ms/step - loss: 2.6366e-04 - accuracy: 1.0000\n",
      "Epoch 75/300\n",
      "10/10 [==============================] - 1s 63ms/step - loss: 7.9899e-04 - accuracy: 1.0000\n",
      "Epoch 76/300\n",
      "10/10 [==============================] - 1s 65ms/step - loss: 0.0098 - accuracy: 0.9967\n",
      "Epoch 77/300\n",
      "10/10 [==============================] - 1s 68ms/step - loss: 0.0018 - accuracy: 1.0000\n",
      "Epoch 78/300\n",
      "10/10 [==============================] - 1s 63ms/step - loss: 4.5924e-04 - accuracy: 1.0000\n",
      "Epoch 79/300\n",
      "10/10 [==============================] - 1s 66ms/step - loss: 0.0049 - accuracy: 1.0000\n",
      "Epoch 80/300\n",
      "10/10 [==============================] - 1s 69ms/step - loss: 0.0060 - accuracy: 0.9967\n",
      "Epoch 81/300\n"
     ]
    },
    {
     "name": "stdout",
     "output_type": "stream",
     "text": [
      "10/10 [==============================] - 1s 72ms/step - loss: 0.0032 - accuracy: 1.0000\n",
      "Epoch 82/300\n",
      "10/10 [==============================] - 1s 82ms/step - loss: 0.0020 - accuracy: 1.0000\n",
      "Epoch 83/300\n",
      "10/10 [==============================] - 1s 80ms/step - loss: 0.0023 - accuracy: 1.0000\n",
      "Epoch 84/300\n",
      "10/10 [==============================] - 1s 80ms/step - loss: 0.0051 - accuracy: 1.0000\n",
      "Epoch 85/300\n",
      "10/10 [==============================] - 1s 74ms/step - loss: 0.0162 - accuracy: 0.9933\n",
      "Epoch 86/300\n",
      "10/10 [==============================] - 1s 72ms/step - loss: 0.0013 - accuracy: 1.0000\n",
      "Epoch 87/300\n",
      "10/10 [==============================] - 1s 72ms/step - loss: 0.0042 - accuracy: 1.0000\n",
      "Epoch 88/300\n",
      "10/10 [==============================] - 1s 78ms/step - loss: 0.0056 - accuracy: 0.9967\n",
      "Epoch 89/300\n",
      "10/10 [==============================] - 1s 72ms/step - loss: 0.0012 - accuracy: 1.0000\n",
      "Epoch 90/300\n",
      "10/10 [==============================] - 1s 76ms/step - loss: 0.0019 - accuracy: 1.0000\n",
      "Epoch 91/300\n",
      "10/10 [==============================] - 1s 80ms/step - loss: 0.0025 - accuracy: 1.0000\n",
      "Epoch 92/300\n",
      "10/10 [==============================] - 1s 92ms/step - loss: 0.0155 - accuracy: 0.9967\n",
      "Epoch 93/300\n",
      "10/10 [==============================] - 1s 77ms/step - loss: 0.0084 - accuracy: 1.0000\n",
      "Epoch 94/300\n",
      "10/10 [==============================] - 1s 70ms/step - loss: 0.0022 - accuracy: 1.0000\n",
      "Epoch 95/300\n",
      "10/10 [==============================] - 1s 69ms/step - loss: 6.0759e-04 - accuracy: 1.0000\n",
      "Epoch 96/300\n",
      "10/10 [==============================] - 1s 78ms/step - loss: 5.6209e-04 - accuracy: 1.0000\n",
      "Epoch 97/300\n",
      "10/10 [==============================] - 1s 68ms/step - loss: 4.1028e-04 - accuracy: 1.0000\n",
      "Epoch 98/300\n",
      "10/10 [==============================] - 1s 67ms/step - loss: 5.3994e-04 - accuracy: 1.0000\n",
      "Epoch 99/300\n",
      "10/10 [==============================] - 1s 72ms/step - loss: 6.9357e-05 - accuracy: 1.0000\n",
      "Epoch 100/300\n",
      "10/10 [==============================] - 1s 84ms/step - loss: 5.2048e-04 - accuracy: 1.0000\n",
      "Epoch 101/300\n",
      "10/10 [==============================] - 1s 78ms/step - loss: 1.9613e-04 - accuracy: 1.0000\n",
      "Epoch 102/300\n",
      "10/10 [==============================] - 1s 73ms/step - loss: 4.9631e-04 - accuracy: 1.0000\n",
      "Epoch 103/300\n",
      "10/10 [==============================] - 1s 82ms/step - loss: 2.6893e-04 - accuracy: 1.0000\n",
      "Epoch 104/300\n",
      "10/10 [==============================] - 1s 86ms/step - loss: 2.4171e-04 - accuracy: 1.0000\n",
      "Epoch 105/300\n",
      "10/10 [==============================] - 1s 81ms/step - loss: 7.5097e-05 - accuracy: 1.0000\n",
      "Epoch 106/300\n",
      "10/10 [==============================] - 1s 77ms/step - loss: 3.1310e-05 - accuracy: 1.0000\n",
      "Epoch 107/300\n",
      "10/10 [==============================] - 1s 63ms/step - loss: 6.9622e-05 - accuracy: 1.0000\n",
      "Epoch 108/300\n",
      "10/10 [==============================] - 1s 71ms/step - loss: 1.5240e-04 - accuracy: 1.0000\n",
      "Epoch 109/300\n",
      "10/10 [==============================] - 1s 77ms/step - loss: 7.0658e-05 - accuracy: 1.0000\n",
      "Epoch 110/300\n",
      "10/10 [==============================] - 1s 83ms/step - loss: 7.5583e-05 - accuracy: 1.0000\n",
      "Epoch 111/300\n",
      "10/10 [==============================] - 1s 76ms/step - loss: 2.5258e-05 - accuracy: 1.0000\n",
      "Epoch 112/300\n",
      "10/10 [==============================] - 1s 70ms/step - loss: 4.8327e-05 - accuracy: 1.0000\n",
      "Epoch 113/300\n",
      "10/10 [==============================] - 1s 72ms/step - loss: 2.0873e-05 - accuracy: 1.0000\n",
      "Epoch 114/300\n",
      "10/10 [==============================] - 1s 68ms/step - loss: 1.9154e-05 - accuracy: 1.0000\n",
      "Epoch 115/300\n",
      "10/10 [==============================] - 1s 62ms/step - loss: 2.3892e-05 - accuracy: 1.0000\n",
      "Epoch 116/300\n",
      "10/10 [==============================] - 1s 65ms/step - loss: 2.9469e-05 - accuracy: 1.0000\n",
      "Epoch 117/300\n",
      "10/10 [==============================] - 1s 66ms/step - loss: 9.0778e-05 - accuracy: 1.0000\n",
      "Epoch 118/300\n",
      "10/10 [==============================] - 1s 55ms/step - loss: 9.7520e-05 - accuracy: 1.0000\n",
      "Epoch 119/300\n",
      "10/10 [==============================] - 1s 85ms/step - loss: 5.7202e-05 - accuracy: 1.0000\n",
      "Epoch 120/300\n",
      "10/10 [==============================] - 1s 77ms/step - loss: 5.3133e-05 - accuracy: 1.0000\n",
      "Epoch 121/300\n",
      "10/10 [==============================] - 1s 71ms/step - loss: 2.7249e-05 - accuracy: 1.0000\n",
      "Epoch 122/300\n",
      "10/10 [==============================] - 1s 73ms/step - loss: 3.1621e-05 - accuracy: 1.0000\n",
      "Epoch 123/300\n",
      "10/10 [==============================] - 1s 74ms/step - loss: 6.4421e-06 - accuracy: 1.0000\n",
      "Epoch 124/300\n",
      "10/10 [==============================] - 1s 63ms/step - loss: 4.9467e-05 - accuracy: 1.0000\n",
      "Epoch 125/300\n",
      "10/10 [==============================] - 1s 60ms/step - loss: 1.6729e-05 - accuracy: 1.0000\n",
      "Epoch 126/300\n",
      "10/10 [==============================] - 1s 65ms/step - loss: 1.8325e-05 - accuracy: 1.0000\n",
      "Epoch 127/300\n",
      "10/10 [==============================] - 1s 74ms/step - loss: 8.7263e-06 - accuracy: 1.0000\n",
      "Epoch 128/300\n",
      "10/10 [==============================] - 1s 73ms/step - loss: 5.3853e-05 - accuracy: 1.0000\n",
      "Epoch 129/300\n",
      "10/10 [==============================] - 1s 66ms/step - loss: 1.5808e-05 - accuracy: 1.0000\n",
      "Epoch 130/300\n",
      "10/10 [==============================] - 1s 68ms/step - loss: 4.0069e-05 - accuracy: 1.0000\n",
      "Epoch 131/300\n",
      "10/10 [==============================] - 1s 63ms/step - loss: 4.7015e-05 - accuracy: 1.0000\n",
      "Epoch 132/300\n",
      "10/10 [==============================] - 1s 72ms/step - loss: 2.7251e-05 - accuracy: 1.0000\n",
      "Epoch 133/300\n",
      "10/10 [==============================] - 1s 71ms/step - loss: 3.2207e-05 - accuracy: 1.0000\n",
      "Epoch 134/300\n",
      "10/10 [==============================] - 1s 68ms/step - loss: 4.5249e-05 - accuracy: 1.0000\n",
      "Epoch 135/300\n",
      "10/10 [==============================] - 1s 81ms/step - loss: 0.0017 - accuracy: 1.0000\n",
      "Epoch 136/300\n",
      "10/10 [==============================] - 1s 87ms/step - loss: 0.0037 - accuracy: 1.0000\n",
      "Epoch 137/300\n",
      "10/10 [==============================] - 1s 80ms/step - loss: 0.0022 - accuracy: 1.0000\n",
      "Epoch 138/300\n",
      "10/10 [==============================] - 1s 92ms/step - loss: 0.0020 - accuracy: 1.0000\n",
      "Epoch 139/300\n",
      "10/10 [==============================] - 1s 90ms/step - loss: 0.0319 - accuracy: 0.9900\n",
      "Epoch 140/300\n",
      "10/10 [==============================] - 1s 90ms/step - loss: 0.0800 - accuracy: 0.9667\n",
      "Epoch 141/300\n",
      "10/10 [==============================] - 1s 78ms/step - loss: 0.0471 - accuracy: 0.9833\n",
      "Epoch 142/300\n",
      "10/10 [==============================] - 1s 73ms/step - loss: 0.1146 - accuracy: 0.9533\n",
      "Epoch 143/300\n",
      "10/10 [==============================] - 1s 89ms/step - loss: 0.3506 - accuracy: 0.8733\n",
      "Epoch 144/300\n",
      "10/10 [==============================] - 1s 96ms/step - loss: 0.0992 - accuracy: 0.9600\n",
      "Epoch 145/300\n",
      "10/10 [==============================] - 1s 110ms/step - loss: 0.0226 - accuracy: 0.9933\n",
      "Epoch 146/300\n",
      "10/10 [==============================] - 1s 103ms/step - loss: 0.0239 - accuracy: 0.9933\n",
      "Epoch 147/300\n",
      "10/10 [==============================] - 1s 94ms/step - loss: 0.0738 - accuracy: 0.9700\n",
      "Epoch 148/300\n",
      "10/10 [==============================] - 1s 91ms/step - loss: 0.0479 - accuracy: 0.9833\n",
      "Epoch 149/300\n",
      "10/10 [==============================] - 1s 78ms/step - loss: 0.0342 - accuracy: 0.9933\n",
      "Epoch 150/300\n",
      "10/10 [==============================] - 1s 97ms/step - loss: 0.0301 - accuracy: 0.9800\n",
      "Epoch 151/300\n",
      "10/10 [==============================] - 1s 79ms/step - loss: 0.0048 - accuracy: 1.0000\n",
      "Epoch 152/300\n",
      "10/10 [==============================] - 1s 82ms/step - loss: 0.0052 - accuracy: 1.0000\n",
      "Epoch 153/300\n",
      "10/10 [==============================] - 1s 75ms/step - loss: 0.0013 - accuracy: 1.0000\n",
      "Epoch 154/300\n",
      "10/10 [==============================] - 1s 76ms/step - loss: 0.0023 - accuracy: 1.0000\n",
      "Epoch 155/300\n",
      "10/10 [==============================] - 1s 72ms/step - loss: 0.0012 - accuracy: 1.0000\n",
      "Epoch 156/300\n",
      "10/10 [==============================] - 1s 82ms/step - loss: 5.0389e-04 - accuracy: 1.0000\n",
      "Epoch 157/300\n",
      "10/10 [==============================] - 1s 91ms/step - loss: 0.0026 - accuracy: 1.0000\n",
      "Epoch 158/300\n",
      "10/10 [==============================] - 1s 92ms/step - loss: 5.1936e-04 - accuracy: 1.0000\n",
      "Epoch 159/300\n"
     ]
    },
    {
     "name": "stdout",
     "output_type": "stream",
     "text": [
      "10/10 [==============================] - 1s 101ms/step - loss: 9.2892e-04 - accuracy: 1.0000\n",
      "Epoch 160/300\n",
      "10/10 [==============================] - 1s 77ms/step - loss: 0.0107 - accuracy: 0.9933\n",
      "Epoch 161/300\n",
      "10/10 [==============================] - 1s 78ms/step - loss: 5.8920e-04 - accuracy: 1.0000\n",
      "Epoch 162/300\n",
      "10/10 [==============================] - 1s 70ms/step - loss: 0.0063 - accuracy: 0.9967\n",
      "Epoch 163/300\n",
      "10/10 [==============================] - 1s 76ms/step - loss: 0.0029 - accuracy: 1.0000\n",
      "Epoch 164/300\n",
      "10/10 [==============================] - 1s 86ms/step - loss: 0.0023 - accuracy: 1.0000\n",
      "Epoch 165/300\n",
      "10/10 [==============================] - 1s 84ms/step - loss: 0.0017 - accuracy: 1.0000\n",
      "Epoch 166/300\n",
      "10/10 [==============================] - 1s 91ms/step - loss: 0.0014 - accuracy: 1.0000\n",
      "Epoch 167/300\n",
      "10/10 [==============================] - 1s 88ms/step - loss: 0.0012 - accuracy: 1.0000\n",
      "Epoch 168/300\n",
      "10/10 [==============================] - 1s 85ms/step - loss: 3.2405e-04 - accuracy: 1.0000\n",
      "Epoch 169/300\n",
      "10/10 [==============================] - 1s 70ms/step - loss: 1.8948e-04 - accuracy: 1.0000\n",
      "Epoch 170/300\n",
      "10/10 [==============================] - 1s 89ms/step - loss: 8.7250e-04 - accuracy: 1.0000\n",
      "Epoch 171/300\n",
      "10/10 [==============================] - 1s 97ms/step - loss: 0.0010 - accuracy: 1.0000\n",
      "Epoch 172/300\n",
      "10/10 [==============================] - 1s 81ms/step - loss: 2.6901e-04 - accuracy: 1.0000\n",
      "Epoch 173/300\n",
      "10/10 [==============================] - 1s 75ms/step - loss: 4.9148e-04 - accuracy: 1.0000\n",
      "Epoch 174/300\n",
      "10/10 [==============================] - 1s 84ms/step - loss: 4.1421e-04 - accuracy: 1.0000\n",
      "Epoch 175/300\n",
      "10/10 [==============================] - 1s 59ms/step - loss: 5.6378e-04 - accuracy: 1.0000\n",
      "Epoch 176/300\n",
      "10/10 [==============================] - 1s 95ms/step - loss: 2.4166e-04 - accuracy: 1.0000\n",
      "Epoch 177/300\n",
      "10/10 [==============================] - 1s 90ms/step - loss: 2.8389e-04 - accuracy: 1.0000\n",
      "Epoch 178/300\n",
      "10/10 [==============================] - 1s 81ms/step - loss: 1.0967e-04 - accuracy: 1.0000\n",
      "Epoch 179/300\n",
      "10/10 [==============================] - 1s 115ms/step - loss: 0.0017 - accuracy: 1.0000\n",
      "Epoch 180/300\n",
      "10/10 [==============================] - 1s 81ms/step - loss: 0.0022 - accuracy: 1.0000\n",
      "Epoch 181/300\n",
      "10/10 [==============================] - 1s 85ms/step - loss: 0.0015 - accuracy: 1.0000\n",
      "Epoch 182/300\n",
      "10/10 [==============================] - 1s 105ms/step - loss: 2.9158e-04 - accuracy: 1.0000\n",
      "Epoch 183/300\n",
      "10/10 [==============================] - 1s 83ms/step - loss: 2.0631e-04 - accuracy: 1.0000\n",
      "Epoch 184/300\n",
      "10/10 [==============================] - 1s 74ms/step - loss: 8.7964e-05 - accuracy: 1.0000\n",
      "Epoch 185/300\n",
      "10/10 [==============================] - 1s 75ms/step - loss: 1.4452e-04 - accuracy: 1.0000\n",
      "Epoch 186/300\n",
      "10/10 [==============================] - 1s 78ms/step - loss: 3.9825e-04 - accuracy: 1.0000\n",
      "Epoch 187/300\n",
      "10/10 [==============================] - 1s 80ms/step - loss: 1.7922e-04 - accuracy: 1.0000\n",
      "Epoch 188/300\n",
      "10/10 [==============================] - 1s 89ms/step - loss: 4.3987e-04 - accuracy: 1.0000\n",
      "Epoch 189/300\n",
      "10/10 [==============================] - 1s 75ms/step - loss: 1.4414e-04 - accuracy: 1.0000\n",
      "Epoch 190/300\n",
      "10/10 [==============================] - 1s 71ms/step - loss: 1.0184e-04 - accuracy: 1.0000\n",
      "Epoch 191/300\n",
      "10/10 [==============================] - 1s 94ms/step - loss: 1.0084e-04 - accuracy: 1.0000\n",
      "Epoch 192/300\n",
      "10/10 [==============================] - 1s 86ms/step - loss: 8.3219e-05 - accuracy: 1.0000\n",
      "Epoch 193/300\n",
      "10/10 [==============================] - 1s 100ms/step - loss: 1.7018e-04 - accuracy: 1.0000\n",
      "Epoch 194/300\n",
      "10/10 [==============================] - 1s 89ms/step - loss: 8.8482e-05 - accuracy: 1.0000\n",
      "Epoch 195/300\n",
      "10/10 [==============================] - 1s 103ms/step - loss: 1.8252e-04 - accuracy: 1.0000\n",
      "Epoch 196/300\n",
      "10/10 [==============================] - 1s 96ms/step - loss: 1.2393e-04 - accuracy: 1.0000\n",
      "Epoch 197/300\n",
      "10/10 [==============================] - 1s 95ms/step - loss: 2.3848e-04 - accuracy: 1.0000\n",
      "Epoch 198/300\n",
      "10/10 [==============================] - 1s 90ms/step - loss: 1.7743e-04 - accuracy: 1.0000\n",
      "Epoch 199/300\n",
      "10/10 [==============================] - 1s 111ms/step - loss: 1.1238e-04 - accuracy: 1.0000\n",
      "Epoch 200/300\n",
      "10/10 [==============================] - 1s 99ms/step - loss: 9.1703e-05 - accuracy: 1.0000\n",
      "Epoch 201/300\n",
      "10/10 [==============================] - 1s 88ms/step - loss: 6.9318e-05 - accuracy: 1.0000\n",
      "Epoch 202/300\n",
      "10/10 [==============================] - 1s 75ms/step - loss: 4.5368e-05 - accuracy: 1.0000\n",
      "Epoch 203/300\n",
      "10/10 [==============================] - 1s 90ms/step - loss: 1.3893e-04 - accuracy: 1.0000\n",
      "Epoch 204/300\n",
      "10/10 [==============================] - 1s 77ms/step - loss: 6.4990e-05 - accuracy: 1.0000\n",
      "Epoch 205/300\n",
      "10/10 [==============================] - 1s 91ms/step - loss: 9.5704e-05 - accuracy: 1.0000\n",
      "Epoch 206/300\n",
      "10/10 [==============================] - 1s 101ms/step - loss: 1.9156e-04 - accuracy: 1.0000\n",
      "Epoch 207/300\n",
      "10/10 [==============================] - 1s 110ms/step - loss: 1.5382e-04 - accuracy: 1.0000\n",
      "Epoch 208/300\n",
      "10/10 [==============================] - 1s 84ms/step - loss: 5.7065e-05 - accuracy: 1.0000\n",
      "Epoch 209/300\n",
      "10/10 [==============================] - 1s 70ms/step - loss: 1.0407e-04 - accuracy: 1.0000\n",
      "Epoch 210/300\n",
      "10/10 [==============================] - 1s 98ms/step - loss: 3.0017e-04 - accuracy: 1.0000\n",
      "Epoch 211/300\n",
      "10/10 [==============================] - 1s 71ms/step - loss: 1.1422e-04 - accuracy: 1.0000\n",
      "Epoch 212/300\n",
      "10/10 [==============================] - 1s 67ms/step - loss: 1.0085e-04 - accuracy: 1.0000\n",
      "Epoch 213/300\n",
      "10/10 [==============================] - 1s 91ms/step - loss: 8.3071e-05 - accuracy: 1.0000\n",
      "Epoch 214/300\n",
      "10/10 [==============================] - 1s 79ms/step - loss: 7.2078e-05 - accuracy: 1.0000\n",
      "Epoch 215/300\n",
      "10/10 [==============================] - 1s 117ms/step - loss: 1.5377e-04 - accuracy: 1.0000\n",
      "Epoch 216/300\n",
      "10/10 [==============================] - 1s 84ms/step - loss: 4.8527e-05 - accuracy: 1.0000\n",
      "Epoch 217/300\n",
      "10/10 [==============================] - 1s 103ms/step - loss: 4.3927e-05 - accuracy: 1.0000\n",
      "Epoch 218/300\n",
      "10/10 [==============================] - 1s 78ms/step - loss: 1.0660e-04 - accuracy: 1.0000\n",
      "Epoch 219/300\n",
      "10/10 [==============================] - 1s 79ms/step - loss: 3.2861e-05 - accuracy: 1.0000\n",
      "Epoch 220/300\n",
      "10/10 [==============================] - 1s 73ms/step - loss: 6.3513e-05 - accuracy: 1.0000\n",
      "Epoch 221/300\n",
      "10/10 [==============================] - 1s 85ms/step - loss: 3.1868e-04 - accuracy: 1.0000\n",
      "Epoch 222/300\n",
      "10/10 [==============================] - 1s 85ms/step - loss: 1.1151e-04 - accuracy: 1.0000\n",
      "Epoch 223/300\n",
      "10/10 [==============================] - 1s 72ms/step - loss: 6.9170e-04 - accuracy: 1.0000\n",
      "Epoch 224/300\n",
      "10/10 [==============================] - 1s 79ms/step - loss: 1.0981e-04 - accuracy: 1.0000\n",
      "Epoch 225/300\n",
      "10/10 [==============================] - 1s 75ms/step - loss: 1.0693e-04 - accuracy: 1.0000\n",
      "Epoch 226/300\n",
      "10/10 [==============================] - 1s 78ms/step - loss: 1.6000e-04 - accuracy: 1.0000\n",
      "Epoch 227/300\n",
      "10/10 [==============================] - 1s 78ms/step - loss: 7.7129e-05 - accuracy: 1.0000\n",
      "Epoch 228/300\n",
      "10/10 [==============================] - 1s 91ms/step - loss: 1.0526e-04 - accuracy: 1.0000\n",
      "Epoch 229/300\n",
      "10/10 [==============================] - 1s 84ms/step - loss: 5.4960e-05 - accuracy: 1.0000\n",
      "Epoch 230/300\n",
      "10/10 [==============================] - 1s 77ms/step - loss: 5.3482e-05 - accuracy: 1.0000\n",
      "Epoch 231/300\n",
      "10/10 [==============================] - 1s 89ms/step - loss: 5.3009e-05 - accuracy: 1.0000\n",
      "Epoch 232/300\n",
      "10/10 [==============================] - 1s 86ms/step - loss: 4.3136e-05 - accuracy: 1.0000\n",
      "Epoch 233/300\n",
      "10/10 [==============================] - 1s 86ms/step - loss: 4.4208e-05 - accuracy: 1.0000\n",
      "Epoch 234/300\n",
      "10/10 [==============================] - 1s 112ms/step - loss: 3.9829e-05 - accuracy: 1.0000\n",
      "Epoch 235/300\n",
      "10/10 [==============================] - 1s 98ms/step - loss: 1.8838e-04 - accuracy: 1.0000\n",
      "Epoch 236/300\n"
     ]
    },
    {
     "name": "stdout",
     "output_type": "stream",
     "text": [
      "10/10 [==============================] - 1s 83ms/step - loss: 8.7884e-05 - accuracy: 1.0000\n",
      "Epoch 237/300\n",
      "10/10 [==============================] - 1s 79ms/step - loss: 5.2361e-05 - accuracy: 1.0000\n",
      "Epoch 238/300\n",
      "10/10 [==============================] - 1s 85ms/step - loss: 3.8359e-05 - accuracy: 1.0000\n",
      "Epoch 239/300\n",
      "10/10 [==============================] - 1s 95ms/step - loss: 2.3994e-04 - accuracy: 1.0000\n",
      "Epoch 240/300\n",
      "10/10 [==============================] - 1s 94ms/step - loss: 7.5477e-05 - accuracy: 1.0000\n",
      "Epoch 241/300\n",
      "10/10 [==============================] - 1s 76ms/step - loss: 3.0627e-05 - accuracy: 1.0000\n",
      "Epoch 242/300\n",
      "10/10 [==============================] - 1s 81ms/step - loss: 7.6495e-05 - accuracy: 1.0000\n",
      "Epoch 243/300\n",
      "10/10 [==============================] - 1s 94ms/step - loss: 4.8815e-05 - accuracy: 1.0000\n",
      "Epoch 244/300\n",
      "10/10 [==============================] - 1s 72ms/step - loss: 1.9338e-04 - accuracy: 1.0000\n",
      "Epoch 245/300\n",
      "10/10 [==============================] - 1s 63ms/step - loss: 7.8588e-05 - accuracy: 1.0000\n",
      "Epoch 246/300\n",
      "10/10 [==============================] - 1s 65ms/step - loss: 3.2795e-05 - accuracy: 1.0000\n",
      "Epoch 247/300\n",
      "10/10 [==============================] - 1s 56ms/step - loss: 1.0594e-04 - accuracy: 1.0000\n",
      "Epoch 248/300\n",
      "10/10 [==============================] - 1s 54ms/step - loss: 5.8107e-05 - accuracy: 1.0000\n",
      "Epoch 249/300\n",
      "10/10 [==============================] - 1s 67ms/step - loss: 4.8996e-05 - accuracy: 1.0000\n",
      "Epoch 250/300\n",
      "10/10 [==============================] - 1s 79ms/step - loss: 1.9175e-05 - accuracy: 1.0000\n",
      "Epoch 251/300\n",
      "10/10 [==============================] - 1s 87ms/step - loss: 5.1273e-05 - accuracy: 1.0000\n",
      "Epoch 252/300\n",
      "10/10 [==============================] - 1s 85ms/step - loss: 7.3293e-05 - accuracy: 1.0000\n",
      "Epoch 253/300\n",
      "10/10 [==============================] - 1s 73ms/step - loss: 7.7180e-05 - accuracy: 1.0000\n",
      "Epoch 254/300\n",
      "10/10 [==============================] - 1s 86ms/step - loss: 2.6960e-05 - accuracy: 1.0000\n",
      "Epoch 255/300\n",
      "10/10 [==============================] - 1s 82ms/step - loss: 3.5356e-05 - accuracy: 1.0000\n",
      "Epoch 256/300\n",
      "10/10 [==============================] - 1s 71ms/step - loss: 3.8783e-05 - accuracy: 1.0000\n",
      "Epoch 257/300\n",
      "10/10 [==============================] - 1s 67ms/step - loss: 2.5177e-05 - accuracy: 1.0000\n",
      "Epoch 258/300\n",
      "10/10 [==============================] - 1s 66ms/step - loss: 1.6729e-05 - accuracy: 1.0000\n",
      "Epoch 259/300\n",
      "10/10 [==============================] - 1s 61ms/step - loss: 1.2343e-05 - accuracy: 1.0000\n",
      "Epoch 260/300\n",
      "10/10 [==============================] - 1s 65ms/step - loss: 1.8036e-05 - accuracy: 1.0000\n",
      "Epoch 261/300\n",
      "10/10 [==============================] - 1s 74ms/step - loss: 1.1926e-05 - accuracy: 1.0000\n",
      "Epoch 262/300\n",
      "10/10 [==============================] - 1s 63ms/step - loss: 1.0675e-04 - accuracy: 1.0000\n",
      "Epoch 263/300\n",
      "10/10 [==============================] - 1s 72ms/step - loss: 1.5339e-05 - accuracy: 1.0000\n",
      "Epoch 264/300\n",
      "10/10 [==============================] - 1s 80ms/step - loss: 2.7979e-05 - accuracy: 1.0000\n",
      "Epoch 265/300\n",
      "10/10 [==============================] - 1s 87ms/step - loss: 2.8340e-05 - accuracy: 1.0000\n",
      "Epoch 266/300\n",
      "10/10 [==============================] - 1s 77ms/step - loss: 1.0887e-05 - accuracy: 1.0000\n",
      "Epoch 267/300\n",
      "10/10 [==============================] - 1s 75ms/step - loss: 1.9866e-05 - accuracy: 1.0000\n",
      "Epoch 268/300\n",
      "10/10 [==============================] - 1s 68ms/step - loss: 3.6576e-05 - accuracy: 1.0000\n",
      "Epoch 269/300\n",
      "10/10 [==============================] - 1s 72ms/step - loss: 8.3807e-05 - accuracy: 1.0000\n",
      "Epoch 270/300\n",
      "10/10 [==============================] - 1s 67ms/step - loss: 4.7536e-05 - accuracy: 1.0000\n",
      "Epoch 271/300\n",
      "10/10 [==============================] - 1s 68ms/step - loss: 2.4790e-05 - accuracy: 1.0000\n",
      "Epoch 272/300\n",
      "10/10 [==============================] - 1s 69ms/step - loss: 9.7947e-06 - accuracy: 1.0000\n",
      "Epoch 273/300\n",
      "10/10 [==============================] - 1s 72ms/step - loss: 1.9851e-05 - accuracy: 1.0000\n",
      "Epoch 274/300\n",
      "10/10 [==============================] - 1s 63ms/step - loss: 2.4034e-05 - accuracy: 1.0000\n",
      "Epoch 275/300\n",
      "10/10 [==============================] - 1s 69ms/step - loss: 7.9844e-05 - accuracy: 1.0000\n",
      "Epoch 276/300\n",
      "10/10 [==============================] - 1s 73ms/step - loss: 9.7632e-05 - accuracy: 1.0000\n",
      "Epoch 277/300\n",
      "10/10 [==============================] - 1s 69ms/step - loss: 2.0516e-05 - accuracy: 1.0000\n",
      "Epoch 278/300\n",
      "10/10 [==============================] - 1s 68ms/step - loss: 4.4069e-05 - accuracy: 1.0000\n",
      "Epoch 279/300\n",
      "10/10 [==============================] - 1s 79ms/step - loss: 3.8583e-05 - accuracy: 1.0000\n",
      "Epoch 280/300\n",
      "10/10 [==============================] - 1s 68ms/step - loss: 5.7187e-05 - accuracy: 1.0000\n",
      "Epoch 281/300\n",
      "10/10 [==============================] - 1s 63ms/step - loss: 5.0471e-05 - accuracy: 1.0000\n",
      "Epoch 282/300\n",
      "10/10 [==============================] - 1s 70ms/step - loss: 1.3434e-05 - accuracy: 1.0000\n",
      "Epoch 283/300\n",
      "10/10 [==============================] - 1s 65ms/step - loss: 2.1650e-05 - accuracy: 1.0000\n",
      "Epoch 284/300\n",
      "10/10 [==============================] - 1s 59ms/step - loss: 3.1469e-05 - accuracy: 1.0000\n",
      "Epoch 285/300\n",
      "10/10 [==============================] - 1s 68ms/step - loss: 3.7173e-04 - accuracy: 1.0000\n",
      "Epoch 286/300\n",
      "10/10 [==============================] - 1s 69ms/step - loss: 1.4880e-04 - accuracy: 1.0000\n",
      "Epoch 287/300\n",
      "10/10 [==============================] - 1s 64ms/step - loss: 3.3289e-05 - accuracy: 1.0000\n",
      "Epoch 288/300\n",
      "10/10 [==============================] - 1s 67ms/step - loss: 2.8136e-05 - accuracy: 1.0000\n",
      "Epoch 289/300\n",
      "10/10 [==============================] - 1s 72ms/step - loss: 9.0588e-05 - accuracy: 1.0000\n",
      "Epoch 290/300\n",
      "10/10 [==============================] - 1s 68ms/step - loss: 2.3690e-05 - accuracy: 1.0000\n",
      "Epoch 291/300\n",
      "10/10 [==============================] - 1s 77ms/step - loss: 2.2194e-05 - accuracy: 1.0000\n",
      "Epoch 292/300\n",
      "10/10 [==============================] - 1s 83ms/step - loss: 2.1831e-05 - accuracy: 1.0000\n",
      "Epoch 293/300\n",
      "10/10 [==============================] - 1s 85ms/step - loss: 3.3072e-05 - accuracy: 1.0000\n",
      "Epoch 294/300\n",
      "10/10 [==============================] - 1s 68ms/step - loss: 8.1500e-05 - accuracy: 1.0000\n",
      "Epoch 295/300\n",
      "10/10 [==============================] - 1s 69ms/step - loss: 6.9491e-05 - accuracy: 1.0000\n",
      "Epoch 296/300\n",
      "10/10 [==============================] - 1s 76ms/step - loss: 1.6210e-05 - accuracy: 1.0000\n",
      "Epoch 297/300\n",
      "10/10 [==============================] - 1s 65ms/step - loss: 5.5206e-05 - accuracy: 1.0000\n",
      "Epoch 298/300\n",
      "10/10 [==============================] - 1s 64ms/step - loss: 1.3224e-05 - accuracy: 1.0000\n",
      "Epoch 299/300\n",
      "10/10 [==============================] - 1s 72ms/step - loss: 2.3697e-05 - accuracy: 1.0000\n",
      "Epoch 300/300\n",
      "10/10 [==============================] - 1s 83ms/step - loss: 1.2740e-05 - accuracy: 1.0000\n"
     ]
    }
   ],
   "source": [
    "model.compile(optimizer='adam',\n",
    "             loss='sparse_categorical_crossentropy',\n",
    "             metrics=['accuracy'])\n",
    "\n",
    "history = model.fit(x_train_norm, y_train, epochs=300)"
   ]
  },
  {
   "cell_type": "code",
   "execution_count": 11,
   "id": "a3b134da",
   "metadata": {},
   "outputs": [
    {
     "name": "stdout",
     "output_type": "stream",
     "text": [
      "dict_keys(['loss', 'accuracy'])\n"
     ]
    },
    {
     "data": {
      "image/png": "[encoded data removed]",
      "text/plain": [
       "<Figure size 640x480 with 1 Axes>"
      ]
     },
     "metadata": {},
     "output_type": "display_data"
    }
   ],
   "source": [
    "print(history.history.keys())\n",
    "# 6 훈련 과정 시각화 (정확도)\n",
    "plt.plot(history.history['accuracy'])\n",
    "plt.plot(history.history['loss'])\n",
    "plt.title('Model accuracy')\n",
    "plt.xlabel('Epoch')\n",
    "plt.ylabel('Accuracy')\n",
    "plt.legend(['accuracy', 'loss'], loc='upper left')\n",
    "\n",
    "plt.show()\n"
   ]
  },
  {
   "cell_type": "code",
   "execution_count": 12,
   "id": "545877b1",
   "metadata": {},
   "outputs": [
    {
     "name": "stdout",
     "output_type": "stream",
     "text": [
      "100  images to be resized.\n"
     ]
    },
    {
     "name": "stderr",
     "output_type": "stream",
     "text": [
      "C:\\Users\\Public\\Documents\\ESTsoft\\CreatorTemp\\ipykernel_44556\\342146961.py:10: DeprecationWarning: ANTIALIAS is deprecated and will be removed in Pillow 10 (2023-07-01). Use Resampling.LANCZOS instead.\n",
      "  new_img=old_img.resize(target_size,Image.ANTIALIAS)\n"
     ]
    },
    {
     "name": "stdout",
     "output_type": "stream",
     "text": [
      "100  images resized.\n",
      "100  images to be resized.\n",
      "100  images resized.\n",
      "100  images to be resized.\n",
      "100  images resized.\n"
     ]
    }
   ],
   "source": [
    "resize_images(\"./data/test/paper\")\n",
    "resize_images(\"./data/test/scissor\")\n",
    "resize_images(\"./data/test/rock\")"
   ]
  },
  {
   "cell_type": "code",
   "execution_count": 13,
   "id": "409aa3da",
   "metadata": {},
   "outputs": [
    {
     "name": "stdout",
     "output_type": "stream",
     "text": [
      "학습데이터(x_train)의 이미지 개수는 300 입니다.\n",
      "x_test shape: (300, 28, 28, 3)\n",
      "y_test shape: (300,)\n",
      "0.0 0.8627450980392157\n"
     ]
    }
   ],
   "source": [
    "image_dir_path = \"./data/test/\"\n",
    "(x_test, y_test)=load_data(image_dir_path)\n",
    "x_test_norm = x_test / 255.0\n",
    "\n",
    "print(\"x_test shape: {}\".format(x_test_norm.shape))\n",
    "print(\"y_test shape: {}\".format(y_test.shape))\n",
    "\n",
    "print(np.min(x_train_norm), np.max(x_train_norm))"
   ]
  },
  {
   "cell_type": "code",
   "execution_count": 14,
   "id": "ab5a3886",
   "metadata": {},
   "outputs": [
    {
     "name": "stdout",
     "output_type": "stream",
     "text": [
      "라벨:  0\n"
     ]
    },
    {
     "data": {
      "image/png": "[encoded data removed]",
      "text/plain": [
       "<Figure size 640x480 with 1 Axes>"
      ]
     },
     "metadata": {},
     "output_type": "display_data"
    }
   ],
   "source": [
    "plt.imshow(x_test[0])\n",
    "print('라벨: ', y_test[0])"
   ]
  },
  {
   "cell_type": "code",
   "execution_count": 15,
   "id": "b234de8f",
   "metadata": {},
   "outputs": [
    {
     "name": "stdout",
     "output_type": "stream",
     "text": [
      "10/10 - 0s - loss: 6.9661 - accuracy: 0.6867 - 357ms/epoch - 36ms/step\n",
      "test_loss: 6.966082572937012\n",
      "test_accuracy: 0.6866666674613953\n"
     ]
    }
   ],
   "source": [
    "test_loss, test_accuracy = model.evaluate(x_test_norm ,y_test, verbose=2)\n",
    "print(f\"test_loss: {test_loss}\")\n",
    "print(f\"test_accuracy: {test_accuracy}\")"
   ]
  },
  {
   "cell_type": "code",
   "execution_count": 16,
   "id": "c2b6619c",
   "metadata": {},
   "outputs": [
    {
     "name": "stdout",
     "output_type": "stream",
     "text": [
      "10/10 [==============================] - 0s 17ms/step\n",
      "model.predict() 결과 :  [9.9998605e-01 1.3916816e-05 1.6771950e-09]\n",
      "model이 추론한 가장 가능성이 높은 결과 :  0\n",
      "실제 데이터의 라벨 :  0\n"
     ]
    }
   ],
   "source": [
    "predicted_result = model.predict(x_test_norm)  # model이 추론한 확률값. \n",
    "predicted_labels = np.argmax(predicted_result, axis=1)\n",
    "\n",
    "idx=4  #1번째 x_test를 살펴보자. \n",
    "print('model.predict() 결과 : ', predicted_result[idx])\n",
    "print('model이 추론한 가장 가능성이 높은 결과 : ', predicted_labels[idx])\n",
    "print('실제 데이터의 라벨 : ', y_test[idx])"
   ]
  },
  {
   "cell_type": "code",
   "execution_count": 17,
   "id": "92d6698a",
   "metadata": {},
   "outputs": [
    {
     "name": "stdout",
     "output_type": "stream",
     "text": [
      "예측확률분포: [9.2313397e-01 7.6864876e-02 1.0772610e-06]\n",
      "라벨: 2, 예측결과: 0\n"
     ]
    },
    {
     "data": {
      "image/png": "[encoded data removed]",
      "text/plain": [
       "<Figure size 640x480 with 1 Axes>"
      ]
     },
     "metadata": {},
     "output_type": "display_data"
    },
    {
     "name": "stdout",
     "output_type": "stream",
     "text": [
      "예측확률분포: [2.1054667e-08 1.0000000e+00 1.6518683e-12]\n",
      "라벨: 2, 예측결과: 1\n"
     ]
    },
    {
     "data": {
      "image/png": "[encoded data removed]",
      "text/plain": [
       "<Figure size 640x480 with 1 Axes>"
      ]
     },
     "metadata": {},
     "output_type": "display_data"
    },
    {
     "name": "stdout",
     "output_type": "stream",
     "text": [
      "예측확률분포: [0.3048002  0.11160651 0.5835933 ]\n",
      "라벨: 1, 예측결과: 2\n"
     ]
    },
    {
     "data": {
      "image/png": "[encoded data removed]",
      "text/plain": [
       "<Figure size 640x480 with 1 Axes>"
      ]
     },
     "metadata": {},
     "output_type": "display_data"
    },
    {
     "name": "stdout",
     "output_type": "stream",
     "text": [
      "예측확률분포: [1.2781845e-02 9.8721814e-01 1.5405249e-09]\n",
      "라벨: 2, 예측결과: 1\n"
     ]
    },
    {
     "data": {
      "image/png": "[encoded data removed]",
      "text/plain": [
       "<Figure size 640x480 with 1 Axes>"
      ]
     },
     "metadata": {},
     "output_type": "display_data"
    },
    {
     "name": "stdout",
     "output_type": "stream",
     "text": [
      "예측확률분포: [2.0607966e-05 9.9997735e-01 2.0024574e-06]\n",
      "라벨: 2, 예측결과: 1\n"
     ]
    },
    {
     "data": {
      "image/png": "[encoded data removed]",
      "text/plain": [
       "<Figure size 640x480 with 1 Axes>"
      ]
     },
     "metadata": {},
     "output_type": "display_data"
    }
   ],
   "source": [
    "import random\n",
    "wrong_predict_list=[]\n",
    "for i, _ in enumerate(predicted_labels):\n",
    "    # i번째 test_labels과 y_test이 다른 경우만 모아 봅시다. \n",
    "    if predicted_labels[i] != y_test[i]:\n",
    "        wrong_predict_list.append(i)\n",
    "\n",
    "# wrong_predict_list 에서 랜덤하게 5개만 뽑아봅시다.\n",
    "samples = random.choices(population=wrong_predict_list, k=5)\n",
    "\n",
    "for n in samples:\n",
    "    print(\"예측확률분포: \" + str(predicted_result[n]))\n",
    "    print(\"라벨: \" + str(y_test[n]) + \", 예측결과: \" + str(predicted_labels[n]))\n",
    "    plt.imshow(x_test[n], cmap=plt.cm.binary)\n",
    "    plt.show()"
   ]
  }
 ],
 "metadata": {
  "kernelspec": {
   "display_name": "Python 3 (ipykernel)",
   "language": "python",
   "name": "python3"
  },
  "language_info": {
   "codemirror_mode": {
    "name": "ipython",
    "version": 3
   },
   "file_extension": ".py",
   "mimetype": "text/x-python",
   "name": "python",
   "nbconvert_exporter": "python",
   "pygments_lexer": "ipython3",
   "version": "3.9.13"
  }
 },
 "nbformat": 4,
 "nbformat_minor": 5
}
